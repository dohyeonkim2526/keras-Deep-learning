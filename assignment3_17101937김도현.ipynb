{
  "nbformat": 4,
  "nbformat_minor": 0,
  "metadata": {
    "colab": {
      "name": "assignment3_17101937김도현.ipynb",
      "provenance": [],
      "collapsed_sections": []
    },
    "kernelspec": {
      "name": "python3",
      "display_name": "Python 3"
    },
    "accelerator": "GPU"
  },
  "cells": [
    {
      "cell_type": "markdown",
      "metadata": {
        "id": "6vFXgflvZ6Ga",
        "colab_type": "text"
      },
      "source": [
        "## Assignment #3"
      ]
    },
    {
      "cell_type": "markdown",
      "metadata": {
        "id": "UevAU0CYVhiu",
        "colab_type": "text"
      },
      "source": [
        "* Release date: 2020/05/20\n",
        "* Due date: **2020/05/27 23:59** (will not accept late submission)\n",
        "* Submittion format: notebook file which can be executed in Colab environment\n",
        "* Weighting: 6% (total 60 pts)"
      ]
    },
    {
      "cell_type": "markdown",
      "metadata": {
        "id": "FH-S9c5dYgqd",
        "colab_type": "text"
      },
      "source": [
        "* We will train CNN using `dogs_vs_cats_subset.zip` distributed in the class."
      ]
    },
    {
      "cell_type": "markdown",
      "metadata": {
        "id": "KxrhNNhWbfHD",
        "colab_type": "text"
      },
      "source": [
        "> ### (5pts) Prepare the dataset\n",
        "\n",
        "* Place the unzipped files in some directory on your Colab instance.\n",
        "* Count the number of JPEG files in `train`, `validation`, and `test` folders."
      ]
    },
    {
      "cell_type": "code",
      "metadata": {
        "id": "NmLRa5GNeSOi",
        "colab_type": "code",
        "outputId": "f097623a-fd20-4b19-dc80-2281bb4cfe5f",
        "colab": {
          "base_uri": "https://localhost:8080/",
          "height": 125
        }
      },
      "source": [
        "from google.colab import drive\n",
        "\n",
        "#mount Google Drive\n",
        "drive.mount('/content/gdrive')\n",
        "\n",
        "#unzip(압축풀기)\n",
        "import zipfile, os, shutil\n",
        "\n",
        "dataset='/content/gdrive/My Drive/Lecture/dogs_vs_cats_subset.zip'\n",
        "dst_path='/content/dogs_vs_cats_subset'\n",
        "dst_file=os.path.join(dst_path, 'dogs_vs_cats_subset.zip')\n",
        "\n",
        "if not os.path.exists(dst_path):\n",
        "  os.makedirs(dst_path)\n",
        "\n",
        "#copy zip file\n",
        "shutil.copy(dataset, dst_file)\n",
        "\n",
        "with zipfile.ZipFile(dst_file,'r') as file:\n",
        "  file.extractall(dst_path)"
      ],
      "execution_count": 2,
      "outputs": [
        {
          "output_type": "stream",
          "text": [
            "Go to this URL in a browser: https://accounts.google.com/o/oauth2/auth?client_id=947318989803-6bn6qk8qdgf4n4g3pfee6491hc0brc4i.apps.googleusercontent.com&redirect_uri=urn%3aietf%3awg%3aoauth%3a2.0%3aoob&response_type=code&scope=email%20https%3a%2f%2fwww.googleapis.com%2fauth%2fdocs.test%20https%3a%2f%2fwww.googleapis.com%2fauth%2fdrive%20https%3a%2f%2fwww.googleapis.com%2fauth%2fdrive.photos.readonly%20https%3a%2f%2fwww.googleapis.com%2fauth%2fpeopleapi.readonly\n",
            "\n",
            "Enter your authorization code:\n",
            "··········\n",
            "Mounted at /content/gdrive\n"
          ],
          "name": "stdout"
        }
      ]
    },
    {
      "cell_type": "code",
      "metadata": {
        "id": "QTdQ49gp-fNi",
        "colab_type": "code",
        "outputId": "461c0f0d-2521-4ace-b0d1-37b7dc5059d6",
        "colab": {
          "base_uri": "https://localhost:8080/",
          "height": 123
        }
      },
      "source": [
        "train_cats_dir=os.path.join(dst_path, 'subset/train/cats')\n",
        "train_dogs_dir=os.path.join(dst_path, 'subset/train/dogs')\n",
        "\n",
        "validation_cats_dir=os.path.join(dst_path, 'subset/validation/cats')\n",
        "validation_dogs_dir=os.path.join(dst_path, 'subset/validation/dogs')\n",
        "\n",
        "test_cats_dir=os.path.join(dst_path, 'subset/test/cats')\n",
        "test_dogs_dir=os.path.join(dst_path, 'subset/test/dogs')\n",
        "\n",
        "print('total training cat images:', len(os.listdir(train_cats_dir)))\n",
        "print('total training dog images:', len(os.listdir(train_dogs_dir)))\n",
        "\n",
        "print('total validation cat images:', len(os.listdir(validation_cats_dir)))\n",
        "print('total validation dog images:', len(os.listdir(validation_dogs_dir)))\n",
        "\n",
        "print('total test cat images:', len(os.listdir(test_cats_dir)))\n",
        "print('total test dog images:', len(os.listdir(test_dogs_dir)))"
      ],
      "execution_count": 3,
      "outputs": [
        {
          "output_type": "stream",
          "text": [
            "total training cat images: 1000\n",
            "total training dog images: 1000\n",
            "total validation cat images: 500\n",
            "total validation dog images: 500\n",
            "total test cat images: 500\n",
            "total test dog images: 500\n"
          ],
          "name": "stdout"
        }
      ]
    },
    {
      "cell_type": "markdown",
      "metadata": {
        "id": "yWfgUJiPeicE",
        "colab_type": "text"
      },
      "source": [
        "> ### (20pts) Build the network\n",
        "\n",
        "* **(10pts)** Build a convolutional neural network having the following layers.\n",
        "  * Assume that the input of size (150, 150) and `relu` activations\n",
        "  * Preserve spatial resolution of input tensor by padding\n",
        "  * Layer 1: convolutional layer with kernel size 5, stride 2, 16 filters\n",
        "  * Layer 2: convolutional layer with kernel size 3, stride 2, 16 filters\n",
        "  * Layer 3: convolutional layer with kernel size 3, stride 2, 16 filters\n",
        "  * Layer 4: convolutional layer with kernel size 3, stride 2, 32 filters\n",
        "  * Layer 5: convolutional layer with kernel size 3, stride 2, 32 filters\n",
        "  * Layer 6: fully connected layer with 64 hidden nodes\n",
        "  * Layer 7: (output layer) fully connected layer with **2 output nodes**\n",
        "  * Others not specified should be chosen yourself."
      ]
    },
    {
      "cell_type": "code",
      "metadata": {
        "id": "hxGWsKkdgAnq",
        "colab_type": "code",
        "colab": {
          "base_uri": "https://localhost:8080/",
          "height": 34
        },
        "outputId": "4a5b848b-f42a-4933-a9db-e90918b2c170"
      },
      "source": [
        "from keras import layers\n",
        "from keras import models\n",
        "\n",
        "model=models.Sequential()\n",
        "model.add(layers.Conv2D(16, (5,5), activation='relu', strides=(2,2), padding='same', input_shape=(150, 150, 3)))#컬러이미지이므로 3 channel\n",
        "model.add(layers.Conv2D(16, (3,3), activation='relu', strides=(2,2), padding='same'))\n",
        "model.add(layers.Conv2D(16, (3,3), activation='relu', strides=(2,2), padding='same'))\n",
        "model.add(layers.Conv2D(32, (3,3), activation='relu', strides=(2,2), padding='same'))\n",
        "model.add(layers.Conv2D(32, (3,3), activation='relu', strides=(2,2), padding='same'))\n",
        "model.add(layers.Flatten())\n",
        "model.add(layers.Dense(64, activation='relu'))\n",
        "model.add(layers.Dense(2, activation='softmax'))"
      ],
      "execution_count": 4,
      "outputs": [
        {
          "output_type": "stream",
          "text": [
            "Using TensorFlow backend.\n"
          ],
          "name": "stderr"
        }
      ]
    },
    {
      "cell_type": "markdown",
      "metadata": {
        "id": "w0sIu0iibFXN",
        "colab_type": "text"
      },
      "source": [
        "* Print the summary of model.\n",
        "* **(10pts) Explain** how to compute the total number of trainable parameters."
      ]
    },
    {
      "cell_type": "code",
      "metadata": {
        "id": "Kd7k2PkPbdOC",
        "colab_type": "code",
        "outputId": "1027b499-e44b-4545-9922-f19dbccf6d43",
        "colab": {
          "base_uri": "https://localhost:8080/",
          "height": 443
        }
      },
      "source": [
        "model.summary()"
      ],
      "execution_count": 5,
      "outputs": [
        {
          "output_type": "stream",
          "text": [
            "Model: \"sequential_1\"\n",
            "_________________________________________________________________\n",
            "Layer (type)                 Output Shape              Param #   \n",
            "=================================================================\n",
            "conv2d_1 (Conv2D)            (None, 75, 75, 16)        1216      \n",
            "_________________________________________________________________\n",
            "conv2d_2 (Conv2D)            (None, 38, 38, 16)        2320      \n",
            "_________________________________________________________________\n",
            "conv2d_3 (Conv2D)            (None, 19, 19, 16)        2320      \n",
            "_________________________________________________________________\n",
            "conv2d_4 (Conv2D)            (None, 10, 10, 32)        4640      \n",
            "_________________________________________________________________\n",
            "conv2d_5 (Conv2D)            (None, 5, 5, 32)          9248      \n",
            "_________________________________________________________________\n",
            "flatten_1 (Flatten)          (None, 800)               0         \n",
            "_________________________________________________________________\n",
            "dense_1 (Dense)              (None, 64)                51264     \n",
            "_________________________________________________________________\n",
            "dense_2 (Dense)              (None, 2)                 130       \n",
            "=================================================================\n",
            "Total params: 71,138\n",
            "Trainable params: 71,138\n",
            "Non-trainable params: 0\n",
            "_________________________________________________________________\n"
          ],
          "name": "stdout"
        }
      ]
    },
    {
      "cell_type": "markdown",
      "metadata": {
        "id": "Vbsgw_3FfwMx",
        "colab_type": "text"
      },
      "source": [
        "(Explain how to compute the total number of trainable parameters)\n",
        "\n",
        "1.Convolution layer trainable parameters\n",
        "\n",
        "= (shape of width of filter * shape of height filter * number of filters in the previous layer + 1) * number of filters\n",
        "\n",
        "  * conv2d_12 = (5 * 5 * 3 + 1) * 16 = 1216\n",
        "  * conv2d_13 = (3 * 3 * 16 + 1) * 16 = 2320\n",
        "  * conv2d_14 = (3 * 3 * 16 + 1) * 16 = 2320\n",
        "  * conv2d_15 = (3 * 3 * 16 + 1) * 32 = 4640\n",
        "  * conv2d_16 = (3 * 3 * 32 + 1) * 32 = 9248\n",
        "\n",
        "\n",
        "2.Dense layer trainable parameters\n",
        "\n",
        "= output_size * (input_size + 1)\n",
        "\n",
        " * dense_5 = 64 * (800 + 1) = 51264\n",
        " * dense_6 = 2 * (64 + 1) = 130\n",
        "\n",
        "→ total of trainable parameters = 71138"
      ]
    },
    {
      "cell_type": "code",
      "metadata": {
        "id": "ZqQRtsbnzEKv",
        "colab_type": "code",
        "colab": {}
      },
      "source": [
        "from tensorflow.keras import optimizers\n",
        "\n",
        "model.compile(loss='categorical_crossentropy',\n",
        "              optimizer=optimizers.RMSprop(lr=1e-4),\n",
        "              metrics=['acc'])"
      ],
      "execution_count": 0,
      "outputs": []
    },
    {
      "cell_type": "markdown",
      "metadata": {
        "id": "j0TUwiHLgI_-",
        "colab_type": "text"
      },
      "source": [
        "> ### (20pts) Preprocess \n",
        "\n",
        "  * Currently, the data is stored as JPEG files. So we need the following steps:\n",
        "    * Read the picture files.\n",
        "    * Decode the JPEG content to RGB grids of pixels.\n",
        "    * Convert these into floating-point tensors.\n",
        "    * Normalize the data to have zero mean and unit variance.\n",
        "      * Assume that the mean vector of training data is [123.68, 116.779, 103.939]. Here, each value represents the mean for each channel.\n",
        "      * Also, we know that the std vector of training data is [58.40, 57.12, 57.38]. Again, each value represents the std for each channel. \n",
        "      * You should normalize the input data using the above statistics, i.e., input[channel] = (input[channel] - mean[channel]) / std[channel].\n",
        "      * TIP: google \"keras imagedatagenerator normalization\" and/or refer to Keras documentation.\n",
        "      * Note that the validation and test data should be normalized using the statistics calculated from the training dataset.\n",
        "    \n",
        "  * Make `ImageDataGenerator` instances for the training and validation dataset respectively to obtain batches of preprocessed tensors.\n",
        "    * Set `batch_size` to 20.\n"
      ]
    },
    {
      "cell_type": "code",
      "metadata": {
        "id": "g1mIkdGs1wx8",
        "colab_type": "code",
        "outputId": "63687fbb-ebca-443b-eb50-9cbe5b4f85d0",
        "colab": {
          "base_uri": "https://localhost:8080/",
          "height": 52
        }
      },
      "source": [
        "import tensorflow as tf\n",
        "from tensorflow.keras.preprocessing.image import ImageDataGenerator\n",
        "\n",
        "channel_mean = [123.68, 116.779, 103.939]\n",
        "channel_std = [58.40, 57.12, 57.38]\n",
        "               \n",
        "def normalize(image):\n",
        "  for i in range(len(channel_mean)):\n",
        "    mean = channel_mean[i]\n",
        "    std = channel_std[i]\n",
        "    image[:,:,i] = tf.convert_to_tensor(image[:,:,i], dtype=tf.float32)\n",
        "    image[:,:,i] = (image[:,:,i]-mean)/std\n",
        "  return image\n",
        "\n",
        "train_dir = os.path.join(dst_path, 'subset/train')\n",
        "validation_dir = os.path.join(dst_path, 'subset/validation')\n",
        "\n",
        "train_datagen = ImageDataGenerator(rescale=None, preprocessing_function = normalize)\n",
        "test_datagen = ImageDataGenerator(rescale=None, preprocessing_function = normalize)\n",
        "\n",
        "\n",
        "train_generator = train_datagen.flow_from_directory(train_dir,\n",
        "                                                    target_size=(150,150),\n",
        "                                                    batch_size=20,\n",
        "                                                    class_mode='categorical')\n",
        "\n",
        "validation_generator = test_datagen.flow_from_directory(validation_dir,\n",
        "                                                        target_size=(150,150),\n",
        "                                                        batch_size=20,\n",
        "                                                        class_mode='categorical')\n"
      ],
      "execution_count": 7,
      "outputs": [
        {
          "output_type": "stream",
          "text": [
            "Found 2000 images belonging to 2 classes.\n",
            "Found 1000 images belonging to 2 classes.\n"
          ],
          "name": "stdout"
        }
      ]
    },
    {
      "cell_type": "code",
      "metadata": {
        "id": "MFklCBdV0Er_",
        "colab_type": "code",
        "outputId": "a21415ec-b93e-4484-d42e-fabf4ba6acf2",
        "colab": {
          "base_uri": "https://localhost:8080/",
          "height": 87
        }
      },
      "source": [
        "for data_batch, labels_batch in train_generator:\n",
        "  print('data batch shape:', data_batch.shape)\n",
        "  print('data batch type:', data_batch.dtype)\n",
        "  print('labels batch shape:', labels_batch.shape)\n",
        "  print('labels batch type:', labels_batch.dtype)\n",
        "  break"
      ],
      "execution_count": 8,
      "outputs": [
        {
          "output_type": "stream",
          "text": [
            "data batch shape: (20, 150, 150, 3)\n",
            "data batch type: float32\n",
            "labels batch shape: (20, 2)\n",
            "labels batch type: float32\n"
          ],
          "name": "stdout"
        }
      ]
    },
    {
      "cell_type": "code",
      "metadata": {
        "id": "AIAp56R-K8XW",
        "colab_type": "code",
        "outputId": "75ba1292-8b04-4d0d-fd7c-446b221b1711",
        "colab": {
          "base_uri": "https://localhost:8080/",
          "height": 887
        }
      },
      "source": [
        "print(data_batch[0].shape, data_batch[0])"
      ],
      "execution_count": 9,
      "outputs": [
        {
          "output_type": "stream",
          "text": [
            "(150, 150, 3) [[[ 0.4506849   0.7741772   0.26247817]\n",
            "  [ 0.6904109   1.0367823   0.41932723]\n",
            "  [ 0.65616435  1.0017682   0.34961653]\n",
            "  ...\n",
            "  [ 0.15958904  0.38902313 -0.19064139]\n",
            "  [-0.09726027  0.14392509 -0.5217672 ]\n",
            "  [ 0.27945206  0.3365021   0.05334606]]\n",
            "\n",
            " [[ 0.4849315   0.7916842   0.41932723]\n",
            "  [ 0.67328763  1.0017682   0.5238933 ]\n",
            "  [ 0.5876712   0.9142332   0.40189955]\n",
            "  ...\n",
            "  [ 1.3239726   1.3694153   1.2035726 ]\n",
            "  [ 1.289726    1.3344012   1.0990065 ]\n",
            "  [ 1.3582191   1.4569503   1.3778493 ]]\n",
            "\n",
            " [[ 0.17671232  0.49406514  0.19276746]\n",
            "  [ 0.4506849   0.7916842   0.3844719 ]\n",
            "  [ 0.55342466  0.8967262   0.41932723]\n",
            "  ...\n",
            "  [ 2.1116438   2.1572304   2.2318056 ]\n",
            "  [ 2.0260274   2.0696955   2.1446671 ]\n",
            "  [ 1.9917808   2.1047094   2.1620948 ]]\n",
            "\n",
            " ...\n",
            "\n",
            " [[ 1.1013699   1.0367823   0.41932723]\n",
            "  [ 1.5465753   1.5970063   0.94215745]\n",
            "  [ 1.4952054   1.5970063   0.88987446]\n",
            "  ...\n",
            "  [ 0.3308219   0.42403713 -0.01636464]\n",
            "  [-0.28561643 -0.20621498 -0.6437609 ]\n",
            "  [ 0.03972602  0.19644609 -0.26035208]]\n",
            "\n",
            " [[ 1.4609588   1.4394433   0.8027361 ]\n",
            "  [ 0.4678082   0.54658616 -0.15578604]\n",
            "  [ 0.9130137   1.0367823   0.27990583]\n",
            "  ...\n",
            "  [ 0.00547945  0.05639007 -0.36491814]\n",
            "  [ 0.36506847  0.38902313 -0.01636464]\n",
            "  [ 0.6047945   0.7391632   0.2973335 ]]\n",
            "\n",
            " [[ 1.6321918   1.5970063   1.0118681 ]\n",
            "  [ 0.7417808   0.8617122   0.14048444]\n",
            "  [ 0.5876712   0.7391632  -0.05121999]\n",
            "  ...\n",
            "  [ 0.17671232  0.2664741  -0.1732137 ]\n",
            "  [ 0.0739726   0.16143209 -0.27777976]\n",
            "  [ 0.03972602  0.19644609 -0.26035208]]]\n"
          ],
          "name": "stdout"
        }
      ]
    },
    {
      "cell_type": "markdown",
      "metadata": {
        "id": "pS0D5_0iXd_y",
        "colab_type": "text"
      },
      "source": [
        "> ### (5pts) Train the network\n",
        "\n",
        "* Train the network for 50 epochs. It may consume some time. Note that you should set `steps_per_epoch` and `validation_steps` properly so that a particular data is processed once during a single epoch."
      ]
    },
    {
      "cell_type": "code",
      "metadata": {
        "id": "L_57rnwjgIIS",
        "colab_type": "code",
        "outputId": "3a2adaef-a436-4af9-f41a-370974329369",
        "colab": {
          "base_uri": "https://localhost:8080/",
          "height": 1000
        }
      },
      "source": [
        "history = model.fit_generator(train_generator,\n",
        "                              steps_per_epoch=100,                              \n",
        "                              epochs=50,\n",
        "                              validation_data=validation_generator,\n",
        "                              validation_steps=50)"
      ],
      "execution_count": 10,
      "outputs": [
        {
          "output_type": "stream",
          "text": [
            "Epoch 1/50\n",
            "100/100 [==============================] - 16s 158ms/step - loss: 0.6873 - acc: 0.5320 - val_loss: 0.6634 - val_acc: 0.5470\n",
            "Epoch 2/50\n",
            "100/100 [==============================] - 10s 103ms/step - loss: 0.6688 - acc: 0.6050 - val_loss: 0.6618 - val_acc: 0.5790\n",
            "Epoch 3/50\n",
            "100/100 [==============================] - 10s 101ms/step - loss: 0.6497 - acc: 0.6255 - val_loss: 0.6164 - val_acc: 0.6020\n",
            "Epoch 4/50\n",
            "100/100 [==============================] - 10s 102ms/step - loss: 0.6321 - acc: 0.6360 - val_loss: 0.5221 - val_acc: 0.6060\n",
            "Epoch 5/50\n",
            "100/100 [==============================] - 10s 102ms/step - loss: 0.6202 - acc: 0.6515 - val_loss: 0.5912 - val_acc: 0.6130\n",
            "Epoch 6/50\n",
            "100/100 [==============================] - 10s 103ms/step - loss: 0.6057 - acc: 0.6705 - val_loss: 0.3971 - val_acc: 0.6250\n",
            "Epoch 7/50\n",
            "100/100 [==============================] - 10s 102ms/step - loss: 0.5922 - acc: 0.6835 - val_loss: 0.5969 - val_acc: 0.6270\n",
            "Epoch 8/50\n",
            "100/100 [==============================] - 10s 104ms/step - loss: 0.5787 - acc: 0.6945 - val_loss: 0.5928 - val_acc: 0.6360\n",
            "Epoch 9/50\n",
            "100/100 [==============================] - 10s 103ms/step - loss: 0.5671 - acc: 0.7070 - val_loss: 0.6272 - val_acc: 0.6260\n",
            "Epoch 10/50\n",
            "100/100 [==============================] - 10s 102ms/step - loss: 0.5525 - acc: 0.7225 - val_loss: 0.5143 - val_acc: 0.6370\n",
            "Epoch 11/50\n",
            "100/100 [==============================] - 10s 102ms/step - loss: 0.5396 - acc: 0.7235 - val_loss: 0.4993 - val_acc: 0.6420\n",
            "Epoch 12/50\n",
            "100/100 [==============================] - 10s 101ms/step - loss: 0.5229 - acc: 0.7380 - val_loss: 0.5992 - val_acc: 0.6370\n",
            "Epoch 13/50\n",
            "100/100 [==============================] - 10s 100ms/step - loss: 0.5064 - acc: 0.7490 - val_loss: 0.6618 - val_acc: 0.6450\n",
            "Epoch 14/50\n",
            "100/100 [==============================] - 10s 101ms/step - loss: 0.4963 - acc: 0.7620 - val_loss: 0.4897 - val_acc: 0.6410\n",
            "Epoch 15/50\n",
            "100/100 [==============================] - 10s 101ms/step - loss: 0.4742 - acc: 0.7740 - val_loss: 0.3726 - val_acc: 0.6410\n",
            "Epoch 16/50\n",
            "100/100 [==============================] - 10s 100ms/step - loss: 0.4571 - acc: 0.7890 - val_loss: 0.5163 - val_acc: 0.6530\n",
            "Epoch 17/50\n",
            "100/100 [==============================] - 10s 100ms/step - loss: 0.4369 - acc: 0.7965 - val_loss: 0.5920 - val_acc: 0.6580\n",
            "Epoch 18/50\n",
            "100/100 [==============================] - 10s 97ms/step - loss: 0.4220 - acc: 0.8135 - val_loss: 0.4684 - val_acc: 0.6430\n",
            "Epoch 19/50\n",
            "100/100 [==============================] - 10s 98ms/step - loss: 0.4053 - acc: 0.8225 - val_loss: 0.4793 - val_acc: 0.6530\n",
            "Epoch 20/50\n",
            "100/100 [==============================] - 10s 98ms/step - loss: 0.3861 - acc: 0.8265 - val_loss: 0.6948 - val_acc: 0.6440\n",
            "Epoch 21/50\n",
            "100/100 [==============================] - 10s 99ms/step - loss: 0.3695 - acc: 0.8420 - val_loss: 0.9560 - val_acc: 0.6480\n",
            "Epoch 22/50\n",
            "100/100 [==============================] - 10s 99ms/step - loss: 0.3507 - acc: 0.8505 - val_loss: 0.9329 - val_acc: 0.6440\n",
            "Epoch 23/50\n",
            "100/100 [==============================] - 10s 99ms/step - loss: 0.3349 - acc: 0.8635 - val_loss: 0.9180 - val_acc: 0.6390\n",
            "Epoch 24/50\n",
            "100/100 [==============================] - 10s 97ms/step - loss: 0.3164 - acc: 0.8680 - val_loss: 0.4079 - val_acc: 0.6380\n",
            "Epoch 25/50\n",
            "100/100 [==============================] - 10s 98ms/step - loss: 0.3040 - acc: 0.8710 - val_loss: 0.8858 - val_acc: 0.6330\n",
            "Epoch 26/50\n",
            "100/100 [==============================] - 10s 97ms/step - loss: 0.2847 - acc: 0.8850 - val_loss: 1.4862 - val_acc: 0.6480\n",
            "Epoch 27/50\n",
            "100/100 [==============================] - 10s 97ms/step - loss: 0.2642 - acc: 0.8875 - val_loss: 0.6814 - val_acc: 0.6440\n",
            "Epoch 28/50\n",
            "100/100 [==============================] - 10s 98ms/step - loss: 0.2497 - acc: 0.8985 - val_loss: 0.6881 - val_acc: 0.6370\n",
            "Epoch 29/50\n",
            "100/100 [==============================] - 10s 97ms/step - loss: 0.2308 - acc: 0.9130 - val_loss: 0.4816 - val_acc: 0.6440\n",
            "Epoch 30/50\n",
            "100/100 [==============================] - 10s 98ms/step - loss: 0.2102 - acc: 0.9240 - val_loss: 1.1895 - val_acc: 0.6370\n",
            "Epoch 31/50\n",
            "100/100 [==============================] - 10s 97ms/step - loss: 0.1946 - acc: 0.9265 - val_loss: 0.9153 - val_acc: 0.6480\n",
            "Epoch 32/50\n",
            "100/100 [==============================] - 10s 97ms/step - loss: 0.1780 - acc: 0.9310 - val_loss: 1.3477 - val_acc: 0.6540\n",
            "Epoch 33/50\n",
            "100/100 [==============================] - 10s 98ms/step - loss: 0.1608 - acc: 0.9460 - val_loss: 1.4829 - val_acc: 0.6320\n",
            "Epoch 34/50\n",
            "100/100 [==============================] - 10s 98ms/step - loss: 0.1438 - acc: 0.9510 - val_loss: 1.0063 - val_acc: 0.6250\n",
            "Epoch 35/50\n",
            "100/100 [==============================] - 10s 98ms/step - loss: 0.1307 - acc: 0.9585 - val_loss: 2.0933 - val_acc: 0.6100\n",
            "Epoch 36/50\n",
            "100/100 [==============================] - 10s 97ms/step - loss: 0.1181 - acc: 0.9625 - val_loss: 1.0645 - val_acc: 0.6390\n",
            "Epoch 37/50\n",
            "100/100 [==============================] - 10s 97ms/step - loss: 0.1065 - acc: 0.9670 - val_loss: 0.5277 - val_acc: 0.6390\n",
            "Epoch 38/50\n",
            "100/100 [==============================] - 10s 97ms/step - loss: 0.1001 - acc: 0.9710 - val_loss: 1.0571 - val_acc: 0.6490\n",
            "Epoch 39/50\n",
            "100/100 [==============================] - 10s 98ms/step - loss: 0.0933 - acc: 0.9705 - val_loss: 1.2122 - val_acc: 0.6390\n",
            "Epoch 40/50\n",
            "100/100 [==============================] - 10s 99ms/step - loss: 0.0736 - acc: 0.9815 - val_loss: 1.2407 - val_acc: 0.6400\n",
            "Epoch 41/50\n",
            "100/100 [==============================] - 10s 98ms/step - loss: 0.0681 - acc: 0.9830 - val_loss: 1.2001 - val_acc: 0.6370\n",
            "Epoch 42/50\n",
            "100/100 [==============================] - 10s 97ms/step - loss: 0.0518 - acc: 0.9880 - val_loss: 1.1199 - val_acc: 0.6530\n",
            "Epoch 43/50\n",
            "100/100 [==============================] - 10s 97ms/step - loss: 0.0557 - acc: 0.9845 - val_loss: 1.5040 - val_acc: 0.6520\n",
            "Epoch 44/50\n",
            "100/100 [==============================] - 10s 97ms/step - loss: 0.0404 - acc: 0.9935 - val_loss: 2.3173 - val_acc: 0.6450\n",
            "Epoch 45/50\n",
            "100/100 [==============================] - 10s 98ms/step - loss: 0.0338 - acc: 0.9930 - val_loss: 2.5559 - val_acc: 0.6380\n",
            "Epoch 46/50\n",
            "100/100 [==============================] - 10s 98ms/step - loss: 0.0285 - acc: 0.9960 - val_loss: 2.2907 - val_acc: 0.6550\n",
            "Epoch 47/50\n",
            "100/100 [==============================] - 10s 97ms/step - loss: 0.0264 - acc: 0.9940 - val_loss: 2.5357 - val_acc: 0.6090\n",
            "Epoch 48/50\n",
            "100/100 [==============================] - 10s 98ms/step - loss: 0.0209 - acc: 0.9955 - val_loss: 1.8867 - val_acc: 0.6330\n",
            "Epoch 49/50\n",
            "100/100 [==============================] - 10s 98ms/step - loss: 0.0195 - acc: 0.9960 - val_loss: 1.3940 - val_acc: 0.6400\n",
            "Epoch 50/50\n",
            "100/100 [==============================] - 10s 96ms/step - loss: 0.0182 - acc: 0.9955 - val_loss: 2.7826 - val_acc: 0.6340\n"
          ],
          "name": "stdout"
        }
      ]
    },
    {
      "cell_type": "markdown",
      "metadata": {
        "id": "r9HNF524XkCy",
        "colab_type": "text"
      },
      "source": [
        "> ### (10pts) Plot training and validation accuracy\n",
        "\n",
        "* (5pts) Plot training and validation accuracy. "
      ]
    },
    {
      "cell_type": "code",
      "metadata": {
        "id": "bhDWsnWuY5w-",
        "colab_type": "code",
        "outputId": "2a50805c-2d58-4d04-f804-820b8e07f874",
        "colab": {
          "base_uri": "https://localhost:8080/",
          "height": 316
        }
      },
      "source": [
        "import matplotlib.pyplot as plt\n",
        "\n",
        "acc = history.history['acc']\n",
        "val_acc = history.history['val_acc']\n",
        "\n",
        "epochs = range(1, len(acc) + 1)\n",
        "\n",
        "plt.plot(epochs, acc, 'bo', label='Training acc')\n",
        "plt.plot(epochs, val_acc, 'b', label='Validation acc')\n",
        "plt.title('Training and Validation accuracy')\n",
        "plt.legend()\n",
        "\n",
        "plt.figure()"
      ],
      "execution_count": 11,
      "outputs": [
        {
          "output_type": "execute_result",
          "data": {
            "text/plain": [
              "<Figure size 432x288 with 0 Axes>"
            ]
          },
          "metadata": {
            "tags": []
          },
          "execution_count": 11
        },
        {
          "output_type": "display_data",
          "data": {
            "image/png": "[encoded data removed]",
            "text/plain": [
              "<Figure size 432x288 with 1 Axes>"
            ]
          },
          "metadata": {
            "tags": [],
            "needs_background": "light"
          }
        },
        {
          "output_type": "display_data",
          "data": {
            "text/plain": [
              "<Figure size 432x288 with 0 Axes>"
            ]
          },
          "metadata": {
            "tags": []
          }
        }
      ]
    },
    {
      "cell_type": "code",
      "metadata": {
        "id": "7qIuOwHFM4Wy",
        "colab_type": "code",
        "outputId": "ed539bb2-eb72-4629-f11b-3480f1990c57",
        "colab": {
          "base_uri": "https://localhost:8080/",
          "height": 281
        }
      },
      "source": [
        "loss = history.history['loss']\n",
        "val_loss = history.history['val_loss']\n",
        "\n",
        "plt.plot(epochs, loss, 'bo', label='Training loss')\n",
        "plt.plot(epochs, val_loss, 'b', label='Validation loss')\n",
        "plt.title('Training and Validation loss')\n",
        "plt.legend()\n",
        "\n",
        "plt.show()"
      ],
      "execution_count": 12,
      "outputs": [
        {
          "output_type": "display_data",
          "data": {
            "image/png": "[encoded data removed]",
            "text/plain": [
              "<Figure size 432x288 with 1 Axes>"
            ]
          },
          "metadata": {
            "tags": [],
            "needs_background": "light"
          }
        }
      ]
    },
    {
      "cell_type": "markdown",
      "metadata": {
        "id": "RwRxndYYDxMg",
        "colab_type": "text"
      },
      "source": [
        "  * (5pts) You will probably observe the overfitting in loss although the accuracy converges well. Explain how this happens."
      ]
    },
    {
      "cell_type": "markdown",
      "metadata": {
        "id": "YFKu6HeMNOGN",
        "colab_type": "text"
      },
      "source": [
        "Overfitting is caused by having too few samples to learn. So it's unable to train a model that can generalize to new data.\n",
        "\n",
        "We can solve this problem with Data augmentation. Data augmentation takes the approach of generating more training data from existing training samples, by augmenting the samples via a number of random transformations."
      ]
    },
    {
      "cell_type": "markdown",
      "metadata": {
        "id": "6d9rUW6ADzva",
        "colab_type": "text"
      },
      "source": [
        ""
      ]
    }
  ]
}