{
  "nbformat": 4,
  "nbformat_minor": 0,
  "metadata": {
    "colab": {
      "name": "머신러닝_week11.ipynb",
      "provenance": [],
      "collapsed_sections": []
    },
    "kernelspec": {
      "name": "python3",
      "display_name": "Python 3"
    }
  },
  "cells": [
    {
      "cell_type": "code",
      "metadata": {
        "id": "_fp2PcYaX6iD",
        "colab_type": "code",
        "colab": {}
      },
      "source": [
        "!pip install tensorflow==1.15"
      ],
      "execution_count": 0,
      "outputs": []
    },
    {
      "cell_type": "code",
      "metadata": {
        "id": "Mg1k4AE_TscX",
        "colab_type": "code",
        "colab": {}
      },
      "source": [
        "#Linear regression algorithm\n",
        "\n",
        "import numpy as np\n",
        "import matplotlib.pyplot as plt\n",
        "%matplotlib inline\n",
        "import tensorflow as tf"
      ],
      "execution_count": 0,
      "outputs": []
    },
    {
      "cell_type": "code",
      "metadata": {
        "id": "GPLEgZ5fT51D",
        "colab_type": "code",
        "colab": {}
      },
      "source": [
        "from sklearn import datasets\n",
        "diabetes=datasets.load_diabetes()\n",
        "X_train=diabetes.data[:,np.newaxis,2]\n",
        "Y_train=diabetes.target[:,np.newaxis]"
      ],
      "execution_count": 0,
      "outputs": []
    },
    {
      "cell_type": "code",
      "metadata": {
        "id": "eAj1N_NDUiMn",
        "colab_type": "code",
        "colab": {}
      },
      "source": [
        "#tf.placeholder : 변수선언/ 하나의 변수가 아니라 다양한 값을 담을 수 있음\n",
        "X=tf.placeholder(dtype=tf.float32)\n",
        "Y=tf.placeholder(dtype=tf.float32)"
      ],
      "execution_count": 0,
      "outputs": []
    },
    {
      "cell_type": "code",
      "metadata": {
        "id": "JlqdQ6GgYToY",
        "colab_type": "code",
        "colab": {}
      },
      "source": [
        "#tf.Variable : 변수설정\n",
        "#np.random.randint : 균일분포의 정수 난수 1개 생성\n",
        "#np.random.rand : 0부터 1까지의 균일분포에서 난수 matrix array 생성\n",
        "#np.random.randn : 가우시안 표준 정규분포에서 난수 matrix array 생성\n",
        "\n",
        "W=tf.Variable(np.random.randn())\n",
        "b=tf.Variable(np.random.randn())\n",
        "\n",
        "S=tf.add(tf.multiply(W,X), b)"
      ],
      "execution_count": 0,
      "outputs": []
    },
    {
      "cell_type": "code",
      "metadata": {
        "id": "wlslO6Yta4R_",
        "colab_type": "code",
        "colab": {}
      },
      "source": [
        "#tf.reduce_mean() : 설정한 축에 대해서 평균을 구해줌\n",
        "hypothesis = S\n",
        "loss=tf.reduce_mean(tf.pow(hypothesis-Y,2))"
      ],
      "execution_count": 0,
      "outputs": []
    },
    {
      "cell_type": "markdown",
      "metadata": {
        "id": "VVa9jIeDeSv-",
        "colab_type": "text"
      },
      "source": [
        " TensorFlow는 모든 연산을 자체적으로 CPU에서 하는 것이 아니라, 외부(다른 컴퓨터)에 분산되어 있는 GPU에서 처리한다고 가정한다. \n",
        " \n",
        " 따라서 변수의 값을 할당하는 아주 간단한 연산부터 복잡한 선형대수연산까지 프로그램이 돌아가는 컴퓨터 자체 내에서 이루어지는 것은 없다.\n",
        "\n",
        " TensorFlow에는 텐서(Tensor) 계산 과정은 모두 그래프(Graph)라고 부르는 객체 내에 저장된다. 그래프를 계산하려면 외부 컴퓨터에 이 그래프 정보를 전달하고 그 결과값을 받아야 한다. 이 통신과정을 담당하는 것이 세션(Session)이라고 부르는 객체이다.\n",
        "\n",
        " 따라서 모든 텐서 계산은, 해당 텐서를 포함하는 그래프를 세션(Session) 객체에 전달하여 원격 실행한 후에 값을 볼 수 있다. 변수에 상수를 할당하는 아주 간단한 연산 조차도 마찬가지이다. \n",
        " \n",
        "일관성을 위해 이러한 과정은 GPU를 사용하지 않거나 분산처리를 하지 않더라도 동일한 방식으로 처리한다.\n",
        "\n",
        "세션 생성: Session / 세션 사용: run / 세션 종료: close\n"
      ]
    },
    {
      "cell_type": "code",
      "metadata": {
        "id": "yOosaDOFbm52",
        "colab_type": "code",
        "outputId": "0da49d5a-5415-4814-bdfc-1f5fdd67ca9b",
        "colab": {
          "base_uri": "https://localhost:8080/",
          "height": 1000
        }
      },
      "source": [
        "learning_rate=0.1\n",
        "epochs=5000\n",
        "\n",
        "optimizer=tf.train.GradientDescentOptimizer(learning_rate).minimize(loss)\n",
        "\n",
        "\n",
        "#tf.gloabal_variables_initializer() : 그래프 내의 모든 변수의 초기화 연산을 한꺼번에 수행함(항상 첫번째로 실행해줘야한다)\n",
        "with tf.Session() as sess:\n",
        "  sess.run(tf.global_variables_initializer())\n",
        "\n",
        "  for epoch in range(epochs): #전체 데이터셋에 대해서 5000번 반복 진행\n",
        "    sess.run(optimizer, feed_dict={X:X_train, Y:Y_train}) #feed_dict를 이용해서 placeholder(빈공간;X,Y)값에 데이터(X_train,Y_train)를 dictionary 형태로 입력함\n",
        "\n",
        "    if(epoch+1)%100 == 0: #100번 마다 출력해줌\n",
        "      loss_val=sess.run(loss,feed_dict={X:X_train, Y:Y_train}) #X_train과 Y_train에 대해서 loss값 출력\n",
        "      print(\"epoch: {:04d}, loss: {:.9f}\".format(epoch+1, loss_val))\n",
        "\n",
        "  print(\"Learning finished.\")\n",
        "\n",
        "  plt.scatter(X_train, Y_train)\n",
        "  Y_hat=sess.run(W) * X_train + sess.run(b)\n",
        "  plt.plot(X_train, Y_hat, 'red')\n",
        "\n",
        "\n",
        "\n",
        "# 아래의 구문을 사용하거나 위의 with~as 구문을 사용할 수 있음\n",
        "# sess=tf.Session()\n",
        "# sess.run(tf.gloabl_variables_initializer())\n",
        "# sess.close()"
      ],
      "execution_count": 0,
      "outputs": [
        {
          "output_type": "stream",
          "text": [
            "epoch: 0100, loss: 5751.693847656\n",
            "epoch: 0200, loss: 5590.617675781\n",
            "epoch: 0300, loss: 5443.482421875\n",
            "epoch: 0400, loss: 5309.080078125\n",
            "epoch: 0500, loss: 5186.308105469\n",
            "epoch: 0600, loss: 5074.163574219\n",
            "epoch: 0700, loss: 4971.721679688\n",
            "epoch: 0800, loss: 4878.145996094\n",
            "epoch: 0900, loss: 4792.670410156\n",
            "epoch: 1000, loss: 4714.589843750\n",
            "epoch: 1100, loss: 4643.268554688\n",
            "epoch: 1200, loss: 4578.118164062\n",
            "epoch: 1300, loss: 4518.607421875\n",
            "epoch: 1400, loss: 4464.245605469\n",
            "epoch: 1500, loss: 4414.588378906\n",
            "epoch: 1600, loss: 4369.229003906\n",
            "epoch: 1700, loss: 4327.794921875\n",
            "epoch: 1800, loss: 4289.946289062\n",
            "epoch: 1900, loss: 4255.373535156\n",
            "epoch: 2000, loss: 4223.792480469\n",
            "epoch: 2100, loss: 4194.945312500\n",
            "epoch: 2200, loss: 4168.593750000\n",
            "epoch: 2300, loss: 4144.522949219\n",
            "epoch: 2400, loss: 4122.536621094\n",
            "epoch: 2500, loss: 4102.451171875\n",
            "epoch: 2600, loss: 4084.103271484\n",
            "epoch: 2700, loss: 4067.344482422\n",
            "epoch: 2800, loss: 4052.036132812\n",
            "epoch: 2900, loss: 4038.052978516\n",
            "epoch: 3000, loss: 4025.279785156\n",
            "epoch: 3100, loss: 4013.611328125\n",
            "epoch: 3200, loss: 4002.953613281\n",
            "epoch: 3300, loss: 3993.218017578\n",
            "epoch: 3400, loss: 3984.324462891\n",
            "epoch: 3500, loss: 3976.201171875\n",
            "epoch: 3600, loss: 3968.780517578\n",
            "epoch: 3700, loss: 3962.002441406\n",
            "epoch: 3800, loss: 3955.810302734\n",
            "epoch: 3900, loss: 3950.155029297\n",
            "epoch: 4000, loss: 3944.988525391\n",
            "epoch: 4100, loss: 3940.268554688\n",
            "epoch: 4200, loss: 3935.957763672\n",
            "epoch: 4300, loss: 3932.019531250\n",
            "epoch: 4400, loss: 3928.423095703\n",
            "epoch: 4500, loss: 3925.137207031\n",
            "epoch: 4600, loss: 3922.135742188\n",
            "epoch: 4700, loss: 3919.394531250\n",
            "epoch: 4800, loss: 3916.889648438\n",
            "epoch: 4900, loss: 3914.602539062\n",
            "epoch: 5000, loss: 3912.512695312\n",
            "Learning finished.\n"
          ],
          "name": "stdout"
        },
        {
          "output_type": "display_data",
          "data": {
            "image/png": "[encoded data removed]",
            "text/plain": [
              "<Figure size 432x288 with 1 Axes>"
            ]
          },
          "metadata": {
            "tags": [],
            "needs_background": "light"
          }
        }
      ]
    },
    {
      "cell_type": "code",
      "metadata": {
        "id": "u-bUd3LYb4KN",
        "colab_type": "code",
        "colab": {}
      },
      "source": [
        ""
      ],
      "execution_count": 0,
      "outputs": []
    },
    {
      "cell_type": "code",
      "metadata": {
        "id": "EzqCqjkHlMTO",
        "colab_type": "code",
        "outputId": "d915a8bd-6096-4156-a160-b0f2261dc6c9",
        "colab": {
          "base_uri": "https://localhost:8080/",
          "height": 87
        }
      },
      "source": [
        "#Artifical neural networks\n",
        "\n",
        "import numpy as np\n",
        "import matplotlib.pyplot as plt\n",
        "%matplotlib inline\n",
        "import tensorflow as tf\n",
        "\n",
        "from tensorflow.examples.tutorials.mnist import input_data\n",
        "mnist=input_data.read_data_sets(\"MNIST_data/\", one_hot=True)"
      ],
      "execution_count": 0,
      "outputs": [
        {
          "output_type": "stream",
          "text": [
            "Extracting MNIST_data/train-images-idx3-ubyte.gz\n",
            "Extracting MNIST_data/train-labels-idx1-ubyte.gz\n",
            "Extracting MNIST_data/t10k-images-idx3-ubyte.gz\n",
            "Extracting MNIST_data/t10k-labels-idx1-ubyte.gz\n"
          ],
          "name": "stdout"
        }
      ]
    },
    {
      "cell_type": "code",
      "metadata": {
        "id": "Ru2cywt0su1f",
        "colab_type": "code",
        "colab": {}
      },
      "source": [
        "sample_1=mnist.train.images[47].reshape(28,28) #48번째에 있는 샘플 이미지를 가져옴"
      ],
      "execution_count": 0,
      "outputs": []
    },
    {
      "cell_type": "code",
      "metadata": {
        "id": "KEHZgtZWs5o1",
        "colab_type": "code",
        "colab": {}
      },
      "source": [
        "sample_label_1=np.where(mnist.train.labels[47]==1)[0][0] #one-hot encoding : 해당하는 값(True)만 1이고, 나머지는 모두 0인 벡터"
      ],
      "execution_count": 0,
      "outputs": []
    },
    {
      "cell_type": "code",
      "metadata": {
        "id": "2Y6E9KtstGua",
        "colab_type": "code",
        "outputId": "c61c5d00-c77a-4769-f1be-b8eb54a97867",
        "colab": {
          "base_uri": "https://localhost:8080/",
          "height": 300
        }
      },
      "source": [
        "print(\"y={}\".format(sample_label_1))\n",
        "plt.imshow(sample_1, cmap='Greys')"
      ],
      "execution_count": 0,
      "outputs": [
        {
          "output_type": "stream",
          "text": [
            "y=4\n"
          ],
          "name": "stdout"
        },
        {
          "output_type": "execute_result",
          "data": {
            "text/plain": [
              "<matplotlib.image.AxesImage at 0x7fb0bbb29d68>"
            ]
          },
          "metadata": {
            "tags": []
          },
          "execution_count": 25
        },
        {
          "output_type": "display_data",
          "data": {
            "image/png": "[encoded data removed]",
            "text/plain": [
              "<Figure size 432x288 with 1 Axes>"
            ]
          },
          "metadata": {
            "tags": [],
            "needs_background": "light"
          }
        }
      ]
    },
    {
      "cell_type": "code",
      "metadata": {
        "id": "eUoy54Q8tWD5",
        "colab_type": "code",
        "colab": {}
      },
      "source": [
        "X=tf.placeholder(dtype=tf.float32, shape=[None, 784]) #28 by 28 로 만들었으므로 28*28=784 dim(차원)이 된다.\n",
        "Y=tf.placeholder(dtype=tf.float32, shape=[None,10]) #dim(784 또는 10)을 설정해주면 자동으로 None 값이 채워진다.\n",
        "\n",
        "W=tf.Variable(tf.random_normal([784,10]))\n",
        "b=tf.Variable(tf.random_normal([10]))\n",
        "S=tf.matmul(X,W)+b"
      ],
      "execution_count": 0,
      "outputs": []
    },
    {
      "cell_type": "code",
      "metadata": {
        "id": "3syR-S4huAKx",
        "colab_type": "code",
        "colab": {}
      },
      "source": [
        "hypothesis=S\n",
        "loss=tf.reduce_mean(\n",
        "    tf.nn.softmax_cross_entropy_with_logits_v2(logits=hypothesis, labels=Y))\n",
        "\n",
        "corrects=tf.equal(tf.argmax(hypothesis, axis=1), tf.argmax(Y,axis=1))\n",
        "accuracy=tf.reduce_mean(tf.cast(corrects, tf.float32))"
      ],
      "execution_count": 0,
      "outputs": []
    },
    {
      "cell_type": "code",
      "metadata": {
        "id": "BSU9bEiOuaAx",
        "colab_type": "code",
        "colab": {}
      },
      "source": [
        ""
      ],
      "execution_count": 0,
      "outputs": []
    },
    {
      "cell_type": "code",
      "metadata": {
        "id": "pVfRbDvquaKp",
        "colab_type": "code",
        "colab": {}
      },
      "source": [
        "#ANNs with hidden layers\n",
        "\n",
        "X=tf.placeholder(dtype=tf.float32, shape=[None, 784])\n",
        "Y=tf.placeholder(dtype=tf.float32, shape=[None, 10])\n",
        "\n",
        "#hidden layer 1\n",
        "W1=tf.Variable(tf.random_normal([784,256])) #784차원을 256차원으로 줄여줌\n",
        "b1=tf.Variable(tf.random_normal([256]))\n",
        "Z1=tf.nn.sigmoid(tf.matmul(X,W1) + b1)\n",
        "\n",
        "#hidden layer 2\n",
        "W2=tf.Variable(tf.random_normal([256,10])) #256차원을 10차원으로 줄여줌\n",
        "b2=tf.Variable(tf.random_normal([10]))\n",
        "S2=tf.matmul(Z1,W2) + b2 #마지막 layer는 activation function(sigmoid) 해주지 않음"
      ],
      "execution_count": 0,
      "outputs": []
    },
    {
      "cell_type": "code",
      "metadata": {
        "id": "fIGYkW09vXXl",
        "colab_type": "code",
        "colab": {}
      },
      "source": [
        "hypothesis=S2\n",
        "loss=tf.reduce_mean(\n",
        "    tf.nn.softmax_cross_entropy_with_logits_v2(logits=hypothesis, labels=Y))\n",
        "\n",
        "corrects=tf.equal(tf.argmax(hypothesis,axis=1), tf.argmax(Y,axis=1))\n",
        "accuracy=tf.reduce_mean(tf.cast(corrects, tf.float32))"
      ],
      "execution_count": 0,
      "outputs": []
    },
    {
      "cell_type": "code",
      "metadata": {
        "id": "IGT0Uxe0v8RE",
        "colab_type": "code",
        "colab": {}
      },
      "source": [
        "learning_rate=0.001\n",
        "epochs=50\n",
        "batch_size=100 #MNIST dataset은 학습데이터의 양이 너무 많아서(60000개), batch-gradient-descent로 진행한다.\n",
        "\n",
        "optimizer=tf.train.GradientDescentOptimizer(learning_rate).minimize(loss)"
      ],
      "execution_count": 0,
      "outputs": []
    },
    {
      "cell_type": "markdown",
      "metadata": {
        "id": "w157oUALwKAj",
        "colab_type": "text"
      },
      "source": [
        "Epoch: 전체 데이터 셋을 몇번 볼것인지 결정\n",
        "\n",
        "batch_size: 전체 데이터셋을 몇개의 단위로 나눠서 학습을 진행할 것인지 결정"
      ]
    },
    {
      "cell_type": "code",
      "metadata": {
        "id": "7eAE2GrwwbCd",
        "colab_type": "code",
        "outputId": "1f67f90b-7c74-4bfb-e328-049d16efafe8",
        "colab": {
          "base_uri": "https://localhost:8080/",
          "height": 923
        }
      },
      "source": [
        "with tf.Session() as sess:\n",
        "  sess.run(tf.global_variables_initializer())\n",
        "\n",
        "  for epoch in range(epochs):\n",
        "\n",
        "    # for _ : for문을 진행하면서 인덱스를 따로 출력해주진 않음\n",
        "    for _ in range(int(mnist.train.num_examples / batch_size)): # 전체데이터셋/batch_size\n",
        "      X_batch, Y_batch=mnist.train.next_batch(batch_size) # next_batch() : 학습데이터 중에서 100개(batch_size만큼)만 계속 가져옴\n",
        "      sess.run(optimizer, feed_dict={X: X_batch, Y: Y_batch})\n",
        "\n",
        "    if (epoch+1)%1==0:\n",
        "      acc_val=sess.run(accuracy, feed_dict={X: mnist.test.images, Y: mnist.test.labels})\n",
        "      print(\"epoch: {:04d}, accuracy: {:.2f}\".format(epoch+1, acc_val))\n",
        "\n",
        "  print(\"Learning finished.\")\n"
      ],
      "execution_count": 0,
      "outputs": [
        {
          "output_type": "stream",
          "text": [
            "epoch: 0001, accuracy: 0.12\n",
            "epoch: 0002, accuracy: 0.14\n",
            "epoch: 0003, accuracy: 0.17\n",
            "epoch: 0004, accuracy: 0.20\n",
            "epoch: 0005, accuracy: 0.23\n",
            "epoch: 0006, accuracy: 0.27\n",
            "epoch: 0007, accuracy: 0.30\n",
            "epoch: 0008, accuracy: 0.32\n",
            "epoch: 0009, accuracy: 0.35\n",
            "epoch: 0010, accuracy: 0.38\n",
            "epoch: 0011, accuracy: 0.40\n",
            "epoch: 0012, accuracy: 0.42\n",
            "epoch: 0013, accuracy: 0.44\n",
            "epoch: 0014, accuracy: 0.45\n",
            "epoch: 0015, accuracy: 0.47\n",
            "epoch: 0016, accuracy: 0.48\n",
            "epoch: 0017, accuracy: 0.50\n",
            "epoch: 0018, accuracy: 0.51\n",
            "epoch: 0019, accuracy: 0.52\n",
            "epoch: 0020, accuracy: 0.53\n",
            "epoch: 0021, accuracy: 0.54\n",
            "epoch: 0022, accuracy: 0.55\n",
            "epoch: 0023, accuracy: 0.56\n",
            "epoch: 0024, accuracy: 0.57\n",
            "epoch: 0025, accuracy: 0.58\n",
            "epoch: 0026, accuracy: 0.58\n",
            "epoch: 0027, accuracy: 0.59\n",
            "epoch: 0028, accuracy: 0.60\n",
            "epoch: 0029, accuracy: 0.60\n",
            "epoch: 0030, accuracy: 0.61\n",
            "epoch: 0031, accuracy: 0.62\n",
            "epoch: 0032, accuracy: 0.62\n",
            "epoch: 0033, accuracy: 0.63\n",
            "epoch: 0034, accuracy: 0.63\n",
            "epoch: 0035, accuracy: 0.64\n",
            "epoch: 0036, accuracy: 0.64\n",
            "epoch: 0037, accuracy: 0.65\n",
            "epoch: 0038, accuracy: 0.65\n",
            "epoch: 0039, accuracy: 0.66\n",
            "epoch: 0040, accuracy: 0.66\n",
            "epoch: 0041, accuracy: 0.67\n",
            "epoch: 0042, accuracy: 0.67\n",
            "epoch: 0043, accuracy: 0.67\n",
            "epoch: 0044, accuracy: 0.67\n",
            "epoch: 0045, accuracy: 0.68\n",
            "epoch: 0046, accuracy: 0.68\n",
            "epoch: 0047, accuracy: 0.69\n",
            "epoch: 0048, accuracy: 0.69\n",
            "epoch: 0049, accuracy: 0.69\n",
            "epoch: 0050, accuracy: 0.70\n",
            "Learning finished.\n"
          ],
          "name": "stdout"
        }
      ]
    },
    {
      "cell_type": "markdown",
      "metadata": {
        "id": "QwHkfYGZxpAW",
        "colab_type": "text"
      },
      "source": [
        "우리는 MNIST데이터에 대해서 'Gradient Descent Optimizer'을 사용했지만, Adam과 같이 다른 optimzier을 사용하면 성능이 더 좋아지는 것을 볼 수 있다."
      ]
    }
  ]
}