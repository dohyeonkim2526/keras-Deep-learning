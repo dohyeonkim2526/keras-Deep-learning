{
  "nbformat": 4,
  "nbformat_minor": 0,
  "metadata": {
    "colab": {
      "name": "[5.2]컨브넷 훈련과 데이터증식.ipynb",
      "provenance": [],
      "collapsed_sections": []
    },
    "kernelspec": {
      "name": "python3",
      "display_name": "Python 3"
    }
  },
  "cells": [
    {
      "cell_type": "markdown",
      "metadata": {
        "id": "mJSKALc0nfk5",
        "colab_type": "text"
      },
      "source": [
        "# **1.CNN(Convolution Neural Network)란?**\n",
        "- 딥러닝의 가장 대표적인 방법으로, 이미지를 작은 특징에서 복잡한 특징으로 추상화하는 것이다.\n",
        "- 3차원 이미지를 FC(Fully Conncected) 신경망으로 학습시키면 2,3차원의 데이터를 1차원으로 평면화시킴에 따라 이미지 공간 정보 유실이 일어나 학습이 비효율적으로 이루어질 수 있다.\n",
        "- 이를 해결하기 위해, 이미지 공간 정보를 유지한 상태로 학습이 가능하게 하는 것이 'CNN'이다."
      ]
    },
    {
      "cell_type": "markdown",
      "metadata": {
        "id": "0FkxQfpKpm7m",
        "colab_type": "text"
      },
      "source": [
        "## CNN구조 (이미지 특징 추출 - 중간 부분 - 클래스 분류)\n",
        "1) 이미지의 특징을 추출하는 부분\n",
        "- Convolution layer: 입력 데이터에 필터를 적용하여 활성화 함수를 반영\n",
        "- Pooling layer: ConvLayer의 크기를 줄이거나 특정 데이터를 강조하는 역할\n",
        "\n",
        "2) 중간 부분\n",
        "- Flatten layer: 이미지 형태의 데이터를 배열 형태로 변환\n",
        "\n",
        "3) 클래스 분류하는 부분\n",
        "- Fully connected layer"
      ]
    },
    {
      "cell_type": "markdown",
      "metadata": {
        "id": "BU6np11jNGPT",
        "colab_type": "text"
      },
      "source": [
        "## [이미지 불러오기]"
      ]
    },
    {
      "cell_type": "code",
      "metadata": {
        "id": "ewQ7ghP_NOkQ",
        "colab_type": "code",
        "colab": {
          "base_uri": "https://localhost:8080/",
          "height": 35
        },
        "outputId": "165f2359-9dba-4b59-ce4d-c91992e34a18"
      },
      "source": [
        "from google.colab import drive\n",
        "drive.mount('/content/gdrive')"
      ],
      "execution_count": 35,
      "outputs": [
        {
          "output_type": "stream",
          "text": [
            "Drive already mounted at /content/gdrive; to attempt to forcibly remount, call drive.mount(\"/content/gdrive\", force_remount=True).\n"
          ],
          "name": "stdout"
        }
      ]
    },
    {
      "cell_type": "code",
      "metadata": {
        "id": "uGYVCozhNZzJ",
        "colab_type": "code",
        "colab": {}
      },
      "source": [
        "import zipfile, os, shutil\n",
        "\n",
        "dataset='/content/gdrive/My Drive/datasets/cats_and_dogs/train.zip'\n",
        "dst_path='/content/gdrive/My Drive/datasets/cats_and_dogs/train'"
      ],
      "execution_count": null,
      "outputs": []
    },
    {
      "cell_type": "code",
      "metadata": {
        "id": "Ere0cHQd90qy",
        "colab_type": "code",
        "colab": {}
      },
      "source": [
        "dst_dir='/content/gdrive/My Drive/datasets/cats_and_dogs/train/train' # 원본 데이터셋을 압축 해제한 디렉터리 경로\n",
        "base_dir='/content/gdrive/My Drive/datasets/cats_and_dogs/train/cats_and_dogs_small' # 소규모 데이터셋을 저장할 디렉터리"
      ],
      "execution_count": null,
      "outputs": []
    },
    {
      "cell_type": "code",
      "metadata": {
        "id": "1D_QzwLTR8wn",
        "colab_type": "code",
        "colab": {}
      },
      "source": [
        "# 'cats_and_dogs_small' 폴더 안에 'train/val/test'폴더 생성\n",
        "train_dir=os.path.join(base_dir, 'train')\n",
        "os.mkdir(train_dir)\n",
        "\n",
        "val_dir=os.path.join(base_dir, 'val')\n",
        "os.mkdir(val_dir)\n",
        "\n",
        "test_dir=os.path.join(base_dir, 'test')\n",
        "os.mkdir(test_dir)"
      ],
      "execution_count": null,
      "outputs": []
    },
    {
      "cell_type": "code",
      "metadata": {
        "id": "Bg-VTTLRW1hS",
        "colab_type": "code",
        "colab": {}
      },
      "source": [
        "# 원하는 경로에 폴더가 생성되어 있지 않으면, 직접 만들어준다.\n",
        "from os import path\n",
        "\n",
        "train_cats_dir=os.path.join(train_dir,'cats')\n",
        "if not path.exists(train_cats_dir):\n",
        "  os.mkdir(train_cats_dir)\n",
        "\n",
        "train_dogs_dir=os.path.join(train_dir, 'dogs')\n",
        "if not path.exists(train_dogs_dir):\n",
        "  os.mkdir(train_dogs_dir)\n",
        "\n",
        "val_cats_dir=os.path.join(val_dir, 'cats')\n",
        "if not path.exists(val_cats_dir):\n",
        "  os.mkdir(val_cats_dir)\n",
        "\n",
        "val_dogs_dir=os.path.join(val_dir, 'dogs')\n",
        "if not path.exists(val_dogs_dir):\n",
        "  os.mkdir(val_dogs_dir)\n",
        "\n",
        "test_cats_dir=os.path.join(test_dir, 'cats')\n",
        "if not path.exists(test_cats_dir):\n",
        "  os.mkdir(test_cats_dir)\n",
        "\n",
        "test_dogs_dir=os.path.join(test_dir, 'dogs')\n",
        "if not path.exists(test_dogs_dir):\n",
        "  os.mkdir(test_dogs_dir)"
      ],
      "execution_count": null,
      "outputs": []
    },
    {
      "cell_type": "markdown",
      "metadata": {
        "id": "J7GAi98fS_q4",
        "colab_type": "text"
      },
      "source": [
        "## [train, val, test 이미지를 각각 1000개, 500개, 500개 생성하기]"
      ]
    },
    {
      "cell_type": "code",
      "metadata": {
        "id": "k_Uu3HEm-YF1",
        "colab_type": "code",
        "colab": {}
      },
      "source": [
        "train_dir='/content/gdrive/My Drive/datasets/cats_and_dogs/train/cats_and_dogs_small/train'\n",
        "val_dir='/content/gdrive/My Drive/datasets/cats_and_dogs/train/cats_and_dogs_small/val'\n",
        "test_dir='/content/gdrive/My Drive/datasets/cats_and_dogs/train/cats_and_dogs_small/test'"
      ],
      "execution_count": null,
      "outputs": []
    },
    {
      "cell_type": "code",
      "metadata": {
        "id": "U8GUqOdH-rxQ",
        "colab_type": "code",
        "colab": {}
      },
      "source": [
        "train_cats_dir='/content/gdrive/My Drive/datasets/cats_and_dogs/train/cats_and_dogs_small/train/cats'\n",
        "train_dogs_dir='/content/gdrive/My Drive/datasets/cats_and_dogs/train/cats_and_dogs_small/train/dogs'\n",
        "val_cats_dir='/content/gdrive/My Drive/datasets/cats_and_dogs/train/cats_and_dogs_small/val/cats'\n",
        "val_dogs_dir='/content/gdrive/My Drive/datasets/cats_and_dogs/train/cats_and_dogs_small/val/dogs'\n",
        "test_cats_dir='/content/gdrive/My Drive/datasets/cats_and_dogs/train/cats_and_dogs_small/test/cats'\n",
        "test_dogs_dir='/content/gdrive/My Drive/datasets/cats_and_dogs/train/cats_and_dogs_small/test/dogs'"
      ],
      "execution_count": null,
      "outputs": []
    },
    {
      "cell_type": "code",
      "metadata": {
        "id": "ksYpXSQ2YMeY",
        "colab_type": "code",
        "colab": {}
      },
      "source": [
        "fnames=['cat.{}.jpg'.format(i) for i in range(1000)]        # dst_dir(원본 데이터셋을 압축 해제한 경로)에 있는 처음 1000개의 고양이 이미지를 train_cats_dir에 복사한다.\n",
        "for fname in fnames:\n",
        "  org_file=os.path.join(dst_dir, fname)\n",
        "  copy_file=os.path.join(train_cats_dir, fname)\n",
        "  shutil.copyfile(org_file, copy_file)\n",
        "\n",
        "fnames=['cat.{}.jpg'.format(i) for i in range(1000,1500)]   # 다음 500개의 고양이 이미지를 val_cats_dir에 복사한다.\n",
        "for fname in fnames:\n",
        "  org_file=os.path.join(dst_dir, fname)\n",
        "  copy_file=os.path.join(val_cats_dir, fname)\n",
        "  shutil.copyfile(org_file, copy_file)\n",
        "\n",
        "fnames=['cat.{}.jpg'.format(i) for i in range(1500,2000)]   # 마지막 500개의 고양이 이미지를 test_cats_dir에 복사한다.\n",
        "for fname in fnames:\n",
        "  org_file=os.path.join(dst_dir, fname)\n",
        "  copy_file=os.path.join(test_cats_dir, fname)\n",
        "  shutil.copyfile(org_file,copy_file)"
      ],
      "execution_count": null,
      "outputs": []
    },
    {
      "cell_type": "code",
      "metadata": {
        "id": "6snEvgH0FMjv",
        "colab_type": "code",
        "colab": {}
      },
      "source": [
        "fnames=['dog.{}.jpg'.format(i) for i in range(1000)]        # dst_dir(원본 데이터셋을 압축 해제한 경로)에 있는 처음 1000개의 강아지 이미지를 train_cats_dir에 복사한다.\n",
        "for fname in fnames:\n",
        "  org_file=os.path.join(dst_dir, fname)\n",
        "  copy_file=os.path.join(train_dogs_dir, fname)\n",
        "  shutil.copyfile(org_file, copy_file)\n",
        "\n",
        "fnames=['dog.{}.jpg'.format(i) for i in range(1000,1500)]   # 다음 500개의 강아지 이미지를 val_cats_dir에 복사한다.\n",
        "for fname in fnames:\n",
        "  org_file=os.path.join(dst_dir, fname)\n",
        "  copy_file=os.path.join(val_dogs_dir, fname)\n",
        "  shutil.copyfile(org_file, copy_file)\n",
        "  \n",
        "fnames=['dog.{}.jpg'.format(i) for i in range(1500,2000)]    # 마지막 500개의 강아지 이미지를 test_cats_dir에 복사한다.\n",
        "for fname in fnames:\n",
        "  org_file=os.path.join(dst_dir, fname)\n",
        "  copy_file=os.path.join(test_dogs_dir, fname)\n",
        "  shutil.copyfile(org_file,copy_file)"
      ],
      "execution_count": null,
      "outputs": []
    },
    {
      "cell_type": "markdown",
      "metadata": {
        "id": "NhnmsvBnTRGA",
        "colab_type": "text"
      },
      "source": [
        "## [train, val, test 이미지 갯수 확인]"
      ]
    },
    {
      "cell_type": "code",
      "metadata": {
        "id": "QQPjNCTWTQzY",
        "colab_type": "code",
        "colab": {
          "base_uri": "https://localhost:8080/",
          "height": 125
        },
        "outputId": "dad6a103-aab1-4a79-f20e-a872ca42abbf"
      },
      "source": [
        "print('amounts of train cats image: ', len(os.listdir(train_cats_dir)))\n",
        "print('amounts of train dogs image: ', len(os.listdir(train_dogs_dir)))\n",
        "print('amounts of validation cats image: ', len(os.listdir(val_cats_dir)))\n",
        "print('amounts of validation dogs image: ', len(os.listdir(val_dogs_dir)))\n",
        "print('amounts of test cats image: ', len(os.listdir(test_cats_dir)))\n",
        "print('amounts of test dogs image: ', len(os.listdir(test_dogs_dir)))"
      ],
      "execution_count": 38,
      "outputs": [
        {
          "output_type": "stream",
          "text": [
            "amounts of train cats image:  1000\n",
            "amounts of train dogs image:  1000\n",
            "amounts of validation cats image:  500\n",
            "amounts of validation dogs image:  500\n",
            "amounts of test cats image:  500\n",
            "amounts of test dogs image:  500\n"
          ],
          "name": "stdout"
        }
      ]
    },
    {
      "cell_type": "markdown",
      "metadata": {
        "id": "ksIzPta8UBwZ",
        "colab_type": "text"
      },
      "source": [
        "## [네트워크: Conv2D + MaxPooling2D → Flatten → Dense]"
      ]
    },
    {
      "cell_type": "code",
      "metadata": {
        "id": "2DZIZQWTU-Qu",
        "colab_type": "code",
        "colab": {}
      },
      "source": [
        "from keras import layers\n",
        "from keras import models\n",
        "\n",
        "model=models.Sequential()\n",
        "model.add(layers.Conv2D(32,(3,3), activation='relu', input_shape=(150,150,3)))    # 이미지의 크기를 (150,150) 크기로 네트워크를 만들었으므로, 밑에서 모든 이미지에 대해 (150,150) 사이즈로 크기를 바꿔줘야 한다 : 데이터 전처리 과정\n",
        "model.add(layers.MaxPooling2D(2,2))\n",
        "model.add(layers.Conv2D(64,(3,3), activation='relu'))\n",
        "model.add(layers.MaxPooling2D(2,2))\n",
        "model.add(layers.Conv2D(128,(3,3), activation='relu'))\n",
        "model.add(layers.MaxPooling2D(2,2))\n",
        "model.add(layers.Conv2D(128,(3,3), activation='relu'))\n",
        "model.add(layers.MaxPooling2D(2,2))\n",
        "model.add(layers.Flatten())\n",
        "model.add(layers.Dense(512, activation='relu'))\n",
        "model.add(layers.Dense(1, activation='sigmoid'))    # 강아지인지, 고양이인지 분류해야 하므로 'sigmoid'를 사용한다."
      ],
      "execution_count": 57,
      "outputs": []
    },
    {
      "cell_type": "code",
      "metadata": {
        "id": "-0j4mvpqWPVo",
        "colab_type": "code",
        "colab": {
          "base_uri": "https://localhost:8080/",
          "height": 557
        },
        "outputId": "3a0c0399-1fb8-45d9-dbd3-332e6b25f6ba"
      },
      "source": [
        "model.summary()"
      ],
      "execution_count": 58,
      "outputs": [
        {
          "output_type": "stream",
          "text": [
            "Model: \"sequential_5\"\n",
            "_________________________________________________________________\n",
            "Layer (type)                 Output Shape              Param #   \n",
            "=================================================================\n",
            "conv2d_15 (Conv2D)           (None, 148, 148, 32)      896       \n",
            "_________________________________________________________________\n",
            "max_pooling2d_14 (MaxPooling (None, 74, 74, 32)        0         \n",
            "_________________________________________________________________\n",
            "conv2d_16 (Conv2D)           (None, 72, 72, 64)        18496     \n",
            "_________________________________________________________________\n",
            "max_pooling2d_15 (MaxPooling (None, 36, 36, 64)        0         \n",
            "_________________________________________________________________\n",
            "conv2d_17 (Conv2D)           (None, 34, 34, 128)       73856     \n",
            "_________________________________________________________________\n",
            "max_pooling2d_16 (MaxPooling (None, 17, 17, 128)       0         \n",
            "_________________________________________________________________\n",
            "conv2d_18 (Conv2D)           (None, 15, 15, 128)       147584    \n",
            "_________________________________________________________________\n",
            "max_pooling2d_17 (MaxPooling (None, 7, 7, 128)         0         \n",
            "_________________________________________________________________\n",
            "flatten_4 (Flatten)          (None, 6272)              0         \n",
            "_________________________________________________________________\n",
            "dense_7 (Dense)              (None, 512)               3211776   \n",
            "_________________________________________________________________\n",
            "dense_8 (Dense)              (None, 1)                 513       \n",
            "=================================================================\n",
            "Total params: 3,453,121\n",
            "Trainable params: 3,453,121\n",
            "Non-trainable params: 0\n",
            "_________________________________________________________________\n"
          ],
          "name": "stdout"
        }
      ]
    },
    {
      "cell_type": "markdown",
      "metadata": {
        "id": "Dgq8aml3WWp9",
        "colab_type": "text"
      },
      "source": [
        "(150,150) → (3,3) 크기의 필터로 convolution → (148,148)\n",
        "\n",
        "\n",
        "\n",
        "*   Output Height : (H + 2P + FH) / S + 1 = 150 - 3 + 1 = 148\n",
        "*   Output Width : (W + 2P+ FW) / S + 1 = 150 - 3 + 1 = 148\n",
        "\n",
        "\n"
      ]
    },
    {
      "cell_type": "markdown",
      "metadata": {
        "id": "TqIYv7KVXLZd",
        "colab_type": "text"
      },
      "source": [
        "(None, 7, 7, 128) → Flatten → ( , 6272)\n",
        "\n",
        "\n",
        "*   7 * 7 * 128 = 6272\n",
        "\n",
        "\n",
        "*(padding = 'valid') : 패딩을 사용하지 않는다.\n",
        "\n",
        "*(padding = 'same') : 입력과 동일한 높이와 넓이를 가진 출력을 만들기 위해 패딩한다.\n",
        "\n",
        "\n"
      ]
    },
    {
      "cell_type": "code",
      "metadata": {
        "id": "2dy5ldjzbPzs",
        "colab_type": "code",
        "colab": {}
      },
      "source": [
        "from keras import optimizers\n",
        "\n",
        "model.compile(optimizer=optimizers.RMSprop(lr=1e-4),\n",
        "              loss='binary_crossentropy',\n",
        "              metrics=['acc'])"
      ],
      "execution_count": 59,
      "outputs": []
    },
    {
      "cell_type": "markdown",
      "metadata": {
        "id": "CHtcj0LEGhJ4",
        "colab_type": "text"
      },
      "source": [
        "## [데이터 전처리 과정]"
      ]
    },
    {
      "cell_type": "code",
      "metadata": {
        "id": "TH7ZtVMdlM6m",
        "colab_type": "code",
        "colab": {
          "base_uri": "https://localhost:8080/",
          "height": 53
        },
        "outputId": "9a734a83-1a2a-4a35-f232-a34678342cf3"
      },
      "source": [
        "from keras.preprocessing.image import ImageDataGenerator\n",
        "\n",
        "train_datagen=ImageDataGenerator(rescale=1./255)\n",
        "test_datagen=ImageDataGenerator(rescale=1./255)\n",
        "\n",
        "train_generator=train_datagen.flow_from_directory(\n",
        "    train_dir,\n",
        "    target_size=(150,150),  # 네트워크의 input shape과 동일하게 (150,150)으로 만들어준다.\n",
        "    batch_size=20,\n",
        "    class_mode='binary')    # 네트워크에서 binary_crossentropy loss를 사용하므로 이진 레이블이 필요하다.\n",
        "\n",
        "validation_generator=test_datagen.flow_from_directory(\n",
        "    val_dir,\n",
        "    target_size=(150,150),\n",
        "    batch_size=20,\n",
        "    class_mode='binary')"
      ],
      "execution_count": 55,
      "outputs": [
        {
          "output_type": "stream",
          "text": [
            "Found 2000 images belonging to 2 classes.\n",
            "Found 1000 images belonging to 2 classes.\n"
          ],
          "name": "stdout"
        }
      ]
    },
    {
      "cell_type": "markdown",
      "metadata": {
        "id": "ff6vS9HWYL1e",
        "colab_type": "text"
      },
      "source": [
        "\n",
        "\n",
        "*   픽셀값(0~255)의 스케일을 [0,1] 사이로 조정해주기위해서 (rescale=1./255) 을 해준다.\n"
      ]
    },
    {
      "cell_type": "markdown",
      "metadata": {
        "id": "AS33jtxUYrzh",
        "colab_type": "text"
      },
      "source": [
        "## [배치 제너레이터(train_generator, validation_generator)를 이용해서 모델 훈련하기]"
      ]
    },
    {
      "cell_type": "code",
      "metadata": {
        "id": "udaFO92CBgEI",
        "colab_type": "code",
        "colab": {
          "base_uri": "https://localhost:8080/",
          "height": 1000
        },
        "outputId": "62f419a7-e68c-498c-94d4-e6fa73aaff9e"
      },
      "source": [
        "history=model.fit_generator(train_generator,\n",
        "                            steps_per_epoch=100,\n",
        "                            epochs=30,\n",
        "                            validation_data=validation_generator,\n",
        "                            validation_steps=50)"
      ],
      "execution_count": 60,
      "outputs": [
        {
          "output_type": "stream",
          "text": [
            "Epoch 1/30\n",
            "100/100 [==============================] - 112s 1s/step - loss: 0.6885 - acc: 0.5240 - val_loss: 0.6790 - val_acc: 0.6280\n",
            "Epoch 2/30\n",
            "100/100 [==============================] - 107s 1s/step - loss: 0.6514 - acc: 0.6285 - val_loss: 0.6732 - val_acc: 0.5980\n",
            "Epoch 3/30\n",
            "100/100 [==============================] - 107s 1s/step - loss: 0.6001 - acc: 0.6815 - val_loss: 0.5423 - val_acc: 0.6300\n",
            "Epoch 4/30\n",
            "100/100 [==============================] - 107s 1s/step - loss: 0.5633 - acc: 0.7100 - val_loss: 0.6472 - val_acc: 0.6810\n",
            "Epoch 5/30\n",
            "100/100 [==============================] - 107s 1s/step - loss: 0.5314 - acc: 0.7340 - val_loss: 0.8000 - val_acc: 0.6730\n",
            "Epoch 6/30\n",
            "100/100 [==============================] - 112s 1s/step - loss: 0.5066 - acc: 0.7510 - val_loss: 0.5134 - val_acc: 0.6830\n",
            "Epoch 7/30\n",
            "100/100 [==============================] - 108s 1s/step - loss: 0.4817 - acc: 0.7640 - val_loss: 0.6164 - val_acc: 0.6840\n",
            "Epoch 8/30\n",
            "100/100 [==============================] - 107s 1s/step - loss: 0.4564 - acc: 0.7865 - val_loss: 0.5775 - val_acc: 0.7090\n",
            "Epoch 9/30\n",
            "100/100 [==============================] - 107s 1s/step - loss: 0.4284 - acc: 0.8020 - val_loss: 0.3884 - val_acc: 0.7300\n",
            "Epoch 10/30\n",
            "100/100 [==============================] - 107s 1s/step - loss: 0.4111 - acc: 0.8110 - val_loss: 0.7276 - val_acc: 0.7180\n",
            "Epoch 11/30\n",
            "100/100 [==============================] - 107s 1s/step - loss: 0.3768 - acc: 0.8330 - val_loss: 0.4680 - val_acc: 0.7340\n",
            "Epoch 12/30\n",
            "100/100 [==============================] - 111s 1s/step - loss: 0.3639 - acc: 0.8400 - val_loss: 0.7217 - val_acc: 0.7170\n",
            "Epoch 13/30\n",
            "100/100 [==============================] - 107s 1s/step - loss: 0.3505 - acc: 0.8505 - val_loss: 0.4733 - val_acc: 0.7380\n",
            "Epoch 14/30\n",
            "100/100 [==============================] - 107s 1s/step - loss: 0.3108 - acc: 0.8675 - val_loss: 0.6238 - val_acc: 0.7480\n",
            "Epoch 15/30\n",
            "100/100 [==============================] - 107s 1s/step - loss: 0.2949 - acc: 0.8830 - val_loss: 0.9435 - val_acc: 0.7560\n",
            "Epoch 16/30\n",
            "100/100 [==============================] - 107s 1s/step - loss: 0.2666 - acc: 0.8955 - val_loss: 0.7062 - val_acc: 0.7300\n",
            "Epoch 17/30\n",
            "100/100 [==============================] - 107s 1s/step - loss: 0.2481 - acc: 0.9050 - val_loss: 0.4227 - val_acc: 0.7380\n",
            "Epoch 18/30\n",
            "100/100 [==============================] - 111s 1s/step - loss: 0.2282 - acc: 0.9120 - val_loss: 0.6942 - val_acc: 0.7500\n",
            "Epoch 19/30\n",
            "100/100 [==============================] - 107s 1s/step - loss: 0.2058 - acc: 0.9250 - val_loss: 0.8889 - val_acc: 0.7370\n",
            "Epoch 20/30\n",
            "100/100 [==============================] - 107s 1s/step - loss: 0.1864 - acc: 0.9315 - val_loss: 0.5784 - val_acc: 0.7450\n",
            "Epoch 21/30\n",
            "100/100 [==============================] - 107s 1s/step - loss: 0.1700 - acc: 0.9470 - val_loss: 0.4126 - val_acc: 0.7490\n",
            "Epoch 22/30\n",
            "100/100 [==============================] - 107s 1s/step - loss: 0.1437 - acc: 0.9510 - val_loss: 0.8582 - val_acc: 0.7460\n",
            "Epoch 23/30\n",
            "100/100 [==============================] - 111s 1s/step - loss: 0.1304 - acc: 0.9575 - val_loss: 0.6646 - val_acc: 0.7280\n",
            "Epoch 24/30\n",
            "100/100 [==============================] - 107s 1s/step - loss: 0.1108 - acc: 0.9640 - val_loss: 0.5577 - val_acc: 0.7480\n",
            "Epoch 25/30\n",
            "100/100 [==============================] - 107s 1s/step - loss: 0.0996 - acc: 0.9705 - val_loss: 1.3295 - val_acc: 0.7250\n",
            "Epoch 26/30\n",
            "100/100 [==============================] - 106s 1s/step - loss: 0.0896 - acc: 0.9740 - val_loss: 1.2735 - val_acc: 0.7000\n",
            "Epoch 27/30\n",
            "100/100 [==============================] - 106s 1s/step - loss: 0.0762 - acc: 0.9760 - val_loss: 0.8606 - val_acc: 0.7410\n",
            "Epoch 28/30\n",
            "100/100 [==============================] - 106s 1s/step - loss: 0.0611 - acc: 0.9835 - val_loss: 0.8099 - val_acc: 0.7410\n",
            "Epoch 29/30\n",
            "100/100 [==============================] - 110s 1s/step - loss: 0.0573 - acc: 0.9815 - val_loss: 1.0568 - val_acc: 0.7490\n",
            "Epoch 30/30\n",
            "100/100 [==============================] - 107s 1s/step - loss: 0.0465 - acc: 0.9880 - val_loss: 0.3122 - val_acc: 0.7350\n"
          ],
          "name": "stdout"
        }
      ]
    },
    {
      "cell_type": "markdown",
      "metadata": {
        "id": "f1fDcWkFB_J0",
        "colab_type": "text"
      },
      "source": [
        "\n",
        "\n",
        "*   fit_generator은 입력과 타깃의 배치를 끝없이 반환한다.(데이터가 끝없이 생성됨)\n",
        "- 그렇기 때문에, 하나의 epoch을 정의하기 위해 generator로부터 얼마나 많은 샘플을 뽑을 지 알려줘야 한다.\n",
        "\n",
        "       train data(2000개)\n",
        "       * batch_size=20 (20개의 샘플이 하나의 배치) → 100개(2000÷20)의 배치를 뽑아야 2,000개의 샘플을 모두 처리할 수 있다.\n",
        "       * steps_per_epoch = 100\n",
        "\n",
        "      validation data(1000개)\n",
        "      * batch_size=20 (20개의 샘플이 하나의 배치) → 50개(1000÷20)의 배치를 뽑아야 1,000개의 샘플을 모두 처리할 수 있다.\n",
        "      * validation_steps = 50"
      ]
    },
    {
      "cell_type": "code",
      "metadata": {
        "id": "pOxAeq3bERVT",
        "colab_type": "code",
        "colab": {}
      },
      "source": [
        "model.save('cats_and_dogs_small_1.h5')  # save(): 모델 구조와 가중치를 'h5' 파일 형식으로 모두 저장할 수 있는 함수이다."
      ],
      "execution_count": 61,
      "outputs": []
    },
    {
      "cell_type": "code",
      "metadata": {
        "id": "99nNZ-3KcNcC",
        "colab_type": "code",
        "colab": {
          "base_uri": "https://localhost:8080/",
          "height": 581
        },
        "outputId": "506d2065-91e7-4652-c1db-67b753d8c46b"
      },
      "source": [
        "import matplotlib.pyplot as plt\n",
        "\n",
        "acc=history.history['acc']\n",
        "val_acc=history.history['val_acc']\n",
        "loss=history.history['loss']\n",
        "val_loss=history.history['val_loss']\n",
        "\n",
        "epochs=range(1,len(acc)+1)\n",
        "\n",
        "plt.plot(epochs, acc, 'bo', label='Training acc')\n",
        "plt.plot(epochs, val_acc, 'b', label='Validation acc')\n",
        "plt.title('Training and Validation accuracy')\n",
        "plt.legend()\n",
        "plt.figure()\n",
        "\n",
        "plt.plot(epochs, loss, 'bo', label='Training loss')\n",
        "plt.plot(epochs, val_loss, 'b', label='Validation loss')\n",
        "plt.title('Training and Validation loss')\n",
        "plt.legend()\n",
        "plt.figure()"
      ],
      "execution_count": 62,
      "outputs": [
        {
          "output_type": "execute_result",
          "data": {
            "text/plain": [
              "<Figure size 432x288 with 0 Axes>"
            ]
          },
          "metadata": {
            "tags": []
          },
          "execution_count": 62
        },
        {
          "output_type": "display_data",
          "data": {
            "image/png": "[encoded data removed]",
            "text/plain": [
              "<Figure size 432x288 with 1 Axes>"
            ]
          },
          "metadata": {
            "tags": [],
            "needs_background": "light"
          }
        },
        {
          "output_type": "display_data",
          "data": {
            "image/png": "[encoded data removed]",
            "text/plain": [
              "<Figure size 432x288 with 1 Axes>"
            ]
          },
          "metadata": {
            "tags": [],
            "needs_background": "light"
          }
        },
        {
          "output_type": "display_data",
          "data": {
            "text/plain": [
              "<Figure size 432x288 with 0 Axes>"
            ]
          },
          "metadata": {
            "tags": []
          }
        }
      ]
    },
    {
      "cell_type": "markdown",
      "metadata": {
        "id": "y-JYpukzE49B",
        "colab_type": "text"
      },
      "source": [
        "\n",
        "\n",
        "## Overfitting(과대적합)이란?\n",
        "- 과대적합은 학습할 샘플이 너무 적어, 새로운 데이터에 일반화할 수 있는 모델을 훈련시킬 수 없어서 발생한다.\n",
        "- 해결할 수 있는 단순한 방법은 샘플의 수를 증가시키는 것이다.\n",
        "- 이를 위해, '데이터 증식'을 사용해서 기존 train 샘플로 부터 더 많은 train data 를 생성한다.\n",
        "\n",
        "\n",
        "\n",
        "\n"
      ]
    },
    {
      "cell_type": "markdown",
      "metadata": {
        "id": "CYREM49udK64",
        "colab_type": "text"
      },
      "source": [
        "\n",
        "\n",
        "\n",
        "---\n",
        "\n",
        "\n",
        "\n",
        "---\n",
        "\n",
        "\n"
      ]
    },
    {
      "cell_type": "markdown",
      "metadata": {
        "id": "BBgMxfigF6vh",
        "colab_type": "text"
      },
      "source": [
        "# **2. 데이터 증식(Data Augmentation)**\n",
        "- 그럴듯한 이미지를 생성하도록 여러 가지 랜덤한 변환을 적용하여 샘플의 수를 늘리는 방법이다.\n",
        "- train(훈련)할 때, 모델이 동일한 데이터를 중복해서 만나지 않도록 하는 것을 목표로 한다."
      ]
    },
    {
      "cell_type": "markdown",
      "metadata": {
        "id": "evdw4vYBGzMH",
        "colab_type": "text"
      },
      "source": [
        "## [데이터 증식시키기] "
      ]
    },
    {
      "cell_type": "code",
      "metadata": {
        "id": "4XbQeMEtGZFx",
        "colab_type": "code",
        "colab": {}
      },
      "source": [
        "train_datagen_aug=ImageDataGenerator(rescale=1./255,\n",
        "                                     rotation_range=40,        # rotation_range : 랜덤하게 사진을 회전시킬 각도(0~180)\n",
        "                                     width_shift_range=0.2,    # width_shift_range : 사진을 수평으로 랜덤하게 평행이동 시킬 범위(전체 넓이와 높이에 대한 비율)\n",
        "                                     height_shift_range=0.2,   # height_shift_range : 사진을 수직으로 랜덤하게 평행이동 시킬 범위\n",
        "                                     shear_range=0.2,          # shear_range : 랜덤하게 전단변환(rotation_range로 회전할 대 y축 방향으로 각도를 증가시켜 이미지를 변형함)을 적용할 각도\n",
        "                                     zoom_range=0.2,           # zoom_range : 랜덤하게 사진을 확대할 범위\n",
        "                                     horizontal_flip=True,)    # horizontal_flip : 랜덤하게 이미지를 수평으로 뒤집는다.\n",
        "\n",
        "test_datagen_aug=ImageDataGenerator(rescale=1./255)         # 검증 데이터로 사용될 'test_datagen_aug'는 증식되어서는 안된다."
      ],
      "execution_count": 63,
      "outputs": []
    },
    {
      "cell_type": "code",
      "metadata": {
        "id": "jZcdTPzvJDwB",
        "colab_type": "code",
        "colab": {
          "base_uri": "https://localhost:8080/",
          "height": 53
        },
        "outputId": "afe35018-756e-4d9f-cc38-caf8e12227ed"
      },
      "source": [
        "train_generator_aug=train_datagen_aug.flow_from_directory(train_dir,\n",
        "                                                          target_size=(150,150),\n",
        "                                                          batch_size=32,\n",
        "                                                          class_mode='binary')\n",
        "\n",
        "validation_generator_aug=test_datagen_aug.flow_from_directory(val_dir,\n",
        "                                                              target_size=(150,150),\n",
        "                                                              batch_size=32,\n",
        "                                                              class_mode='binary')"
      ],
      "execution_count": 64,
      "outputs": [
        {
          "output_type": "stream",
          "text": [
            "Found 2000 images belonging to 2 classes.\n",
            "Found 1000 images belonging to 2 classes.\n"
          ],
          "name": "stdout"
        }
      ]
    },
    {
      "cell_type": "code",
      "metadata": {
        "id": "QaS4PMkYeKjK",
        "colab_type": "code",
        "colab": {}
      },
      "source": [
        "aug_model=models.Sequential()\n",
        "aug_model.add(layers.Conv2D(32,(3,3), activation='relu', input_shape=(150,150,3)))    # 이미지의 크기를 (150,150) 크기로 네트워크를 만들었으므로, 밑에서 모든 이미지에 대해 (150,150) 사이즈로 크기를 바꿔줘야 한다 : 데이터 전처리 과정\n",
        "aug_model.add(layers.MaxPooling2D(2,2))\n",
        "aug_model.add(layers.Conv2D(64,(3,3), activation='relu'))\n",
        "aug_model.add(layers.MaxPooling2D(2,2))\n",
        "aug_model.add(layers.Conv2D(128,(3,3), activation='relu'))\n",
        "aug_model.add(layers.MaxPooling2D(2,2))\n",
        "aug_model.add(layers.Conv2D(128,(3,3), activation='relu'))\n",
        "aug_model.add(layers.MaxPooling2D(2,2))\n",
        "aug_model.add(layers.Flatten())\n",
        "aug_model.add(layers.Dropout(0.5))\n",
        "aug_model.add(layers.Dense(512, activation='relu'))\n",
        "aug_model.add(layers.Dense(1, activation='sigmoid'))    # 강아지인지, 고양이인지 분류해야 하므로 'sigmoid'를 사용한다."
      ],
      "execution_count": 66,
      "outputs": []
    },
    {
      "cell_type": "markdown",
      "metadata": {
        "id": "SSP_2K5zeXsS",
        "colab_type": "text"
      },
      "source": [
        "\n",
        "\n",
        "*   원본(학습)이미지의 수가 적기 때문에, 데이터 증식을 하더라도 데이터들 사이의 상호 연관성은 여전히 클 수 밖에 없다.\n",
        "\n",
        "   그렇기 때문에 과대적합을 더 억제하기 위해서 마지막에 'Dropout' 층을 추가해준다.\n",
        "\n",
        "\n",
        "*   Dropout의 효과\n",
        "\n",
        "  1.   Voting 효과 : 무작위로 드롭아웃을 통해 학습을 반복하게 되면, 평균 효과를 통해 regularization과 비슷한 효과를 얻을 수 있게 된다.\n",
        "  2.   Co-adaptation 피하는 효과 : 드롭아웃을 통해 학습을 하면, 어떤 가중치나 바이어스(bias)가 특정 뉴런의 영향을 받지 않게 되어서 서로 동조화(co-adaptation) 되는 것을 피할 수 있다.\n",
        "\n",
        "\n",
        "\n",
        "\n"
      ]
    },
    {
      "cell_type": "code",
      "metadata": {
        "id": "oDBaVJ55fKPJ",
        "colab_type": "code",
        "colab": {}
      },
      "source": [
        "aug_model.compile(optimizer=optimizers.RMSprop(lr=1e-4),\n",
        "                  loss='binary_crossentropy',\n",
        "                  metrics=['acc'])\n",
        "\n",
        "history2=aug_model.fit_generator(train_generator_aug,\n",
        "                            steps_per_epoch=100,\n",
        "                            epochs=100,\n",
        "                            validation_data=validation_generator_aug,\n",
        "                            validation_steps=50)"
      ],
      "execution_count": null,
      "outputs": []
    },
    {
      "cell_type": "code",
      "metadata": {
        "id": "ZhPtXSDSJ1ln",
        "colab_type": "code",
        "colab": {}
      },
      "source": [
        "aug_model.save('cats_and_dogs_small_2.h5')"
      ],
      "execution_count": 68,
      "outputs": []
    },
    {
      "cell_type": "code",
      "metadata": {
        "id": "ZOEPqR9OfxHg",
        "colab_type": "code",
        "colab": {}
      },
      "source": [
        "import matplotlib.pyplot as plt\n",
        "\n",
        "acc=history2.history['acc']\n",
        "val_acc=history2.history['val_acc']\n",
        "loss=history2.history['loss']\n",
        "val_loss=history2.history['val_loss']\n",
        "\n",
        "epochs=range(1,len(acc)+1)\n",
        "\n",
        "plt.plot(epochs, acc, 'bo', label='Training acc')\n",
        "plt.plot(epochs, val_acc, 'b', label='Validation acc')\n",
        "plt.title('Training and Validation accuracy')\n",
        "plt.legend()\n",
        "plt.figure()\n",
        "\n",
        "plt.plot(epochs, loss, 'bo', label='Training loss')\n",
        "plt.plot(epochs, val_loss, 'b', label='Validation loss')\n",
        "plt.title('Training and Validation loss')\n",
        "plt.legend()\n",
        "plt.figure()"
      ],
      "execution_count": null,
      "outputs": []
    },
    {
      "cell_type": "markdown",
      "metadata": {
        "id": "1FiTGMj7oNok",
        "colab_type": "text"
      },
      "source": [
        "\n",
        "\n",
        "*   데이터 증식과 드롭아웃을 함으로써 train(훈련) 곡선이 validation(검증) 곡선에 가깝게 따라가고 있고,\n",
        "\n",
        "  과대적합이 해결되었다는 결론을 내릴 수 있다.\n",
        "\n",
        "\n"
      ]
    }
  ]
}