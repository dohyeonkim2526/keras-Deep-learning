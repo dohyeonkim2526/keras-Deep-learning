{
  "nbformat": 4,
  "nbformat_minor": 0,
  "metadata": {
    "colab": {
      "name": "RNN을 이용한 텍스트 생성(Text Generation using RNN).ipynb",
      "provenance": [],
      "collapsed_sections": []
    },
    "kernelspec": {
      "name": "python3",
      "display_name": "Python 3"
    }
  },
  "cells": [
    {
      "cell_type": "markdown",
      "metadata": {
        "id": "zI4Ma6eYI-i5",
        "colab_type": "text"
      },
      "source": [
        "# RNN을 이용한 텍스트 생성(Text Generation using RNN)\n",
        "\n",
        "*   다 대 일(many-to-one) 구조의 RNN을 사용하여 문맥을 반영해서 텍스트를 생성하는 모델을 만든다.\n",
        "\n"
      ]
    },
    {
      "cell_type": "markdown",
      "metadata": {
        "id": "ttAPfSf1KGJC",
        "colab_type": "text"
      },
      "source": [
        "'경마장에 있는 말이 뛰고 있다' + '그의 말이 법이다' + '가는 말이 고와야 오는 말이 곱다'\n",
        "\n",
        "*   모델이 위의 문장들을 통해 문맥을 학습하려면 아래와 같이 데이터를 재구성해야한다.\n",
        "\n",
        "![캡처](https://user-images.githubusercontent.com/65331451/88762729-b507f880-d1ac-11ea-9534-f0adf8152c6b.PNG)"
      ]
    },
    {
      "cell_type": "code",
      "metadata": {
        "id": "gpFG5cOJLd7p",
        "colab_type": "code",
        "colab": {}
      },
      "source": [
        "import numpy as np\n",
        "from tensorflow.keras.preprocessing.text import Tokenizer\n",
        "from tensorflow.keras.preprocessing.sequence import pad_sequences\n",
        "from tensorflow.keras.utils import to_categorical"
      ],
      "execution_count": null,
      "outputs": []
    },
    {
      "cell_type": "code",
      "metadata": {
        "id": "eMkSKtboLsXP",
        "colab_type": "code",
        "colab": {}
      },
      "source": [
        "text=\"\"\"경마장에 있는 말이 뛰고 있다\\n\n",
        "그의 말이 법이다\\n\n",
        "가는 말이 고와야 오는 말이 곱다\\n\"\"\""
      ],
      "execution_count": null,
      "outputs": []
    },
    {
      "cell_type": "code",
      "metadata": {
        "id": "G97Ay_pYM6z3",
        "colab_type": "code",
        "colab": {
          "base_uri": "https://localhost:8080/",
          "height": 34
        },
        "outputId": "d3f8b9eb-0cf9-48c9-a886-082f1f4dbdf4"
      },
      "source": [
        "# 여기서 부턴 내가 해본 코드\n",
        "\n",
        "txts=['경마장에 있는 말이 뛰고 있다', '그의 말이 법이다', '가는 말이 고와야 오는 말이 곱다']\n",
        "token_index={}\n",
        "\n",
        "for txt in txts:\n",
        "  for word in txt.split():\n",
        "    if word not in token_index:\n",
        "      token_index[word]=len(token_index)+1      # 인덱스 0은 사용하지 않으므로 len(token_index)에 '+1'을 해줘야한다.\n",
        "\n",
        "print(token_index)"
      ],
      "execution_count": null,
      "outputs": [
        {
          "output_type": "stream",
          "text": [
            "{'경마장에': 1, '있는': 2, '말이': 3, '뛰고': 4, '있다': 5, '그의': 6, '법이다': 7, '가는': 8, '고와야': 9, '오는': 10, '곱다': 11}\n"
          ],
          "name": "stdout"
        }
      ]
    },
    {
      "cell_type": "code",
      "metadata": {
        "id": "R9bGTFEiOEkR",
        "colab_type": "code",
        "colab": {
          "base_uri": "https://localhost:8080/",
          "height": 70
        },
        "outputId": "9be2025f-a1b8-4620-8cb6-6c41cc8efae8"
      },
      "source": [
        "sequences=list()\n",
        "\n",
        "for txt in txts:\n",
        "  for i in range(1, len(txts)+1):\n",
        "    "
      ],
      "execution_count": null,
      "outputs": [
        {
          "output_type": "stream",
          "text": [
            "경마장에 있는 말이 뛰고 있다\n",
            "그의 말이 법이다\n",
            "가는 말이 고와야 오는 말이 곱다\n"
          ],
          "name": "stdout"
        }
      ]
    }
  ]
}