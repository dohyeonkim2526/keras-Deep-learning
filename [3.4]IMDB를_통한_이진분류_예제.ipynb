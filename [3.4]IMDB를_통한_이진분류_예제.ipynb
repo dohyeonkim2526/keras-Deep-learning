{
  "nbformat": 4,
  "nbformat_minor": 0,
  "metadata": {
    "colab": {
      "name": "[3.4]IMDB를 통한 이진분류 예제.ipynb",
      "provenance": [],
      "collapsed_sections": []
    },
    "kernelspec": {
      "name": "python3",
      "display_name": "Python 3"
    }
  },
  "cells": [
    {
      "cell_type": "markdown",
      "metadata": {
        "id": "j8gDw9lvq_P5",
        "colab_type": "text"
      },
      "source": [
        "# IMDB(Internet Movie Database)"
      ]
    },
    {
      "cell_type": "code",
      "metadata": {
        "id": "qm-LTcucTjtO",
        "colab_type": "code",
        "colab": {
          "base_uri": "https://localhost:8080/",
          "height": 70
        },
        "outputId": "0c06dae6-8dac-4420-c411-6361c0a158e1"
      },
      "source": [
        " from keras.datasets import imdb\n",
        " import numpy as np\n",
        "\n",
        " (train_data,train_labels), (test_data, test_labels)=imdb.load_data(num_words=10000) #훈련 데이터에서 가장 자주 등장한 단어 1만개로 제한했음"
      ],
      "execution_count": null,
      "outputs": [
        {
          "output_type": "stream",
          "text": [
            "Using TensorFlow backend.\n"
          ],
          "name": "stderr"
        },
        {
          "output_type": "stream",
          "text": [
            "Downloading data from https://s3.amazonaws.com/text-datasets/imdb.npz\n",
            "17465344/17464789 [==============================] - 2s 0us/step\n"
          ],
          "name": "stdout"
        }
      ]
    },
    {
      "cell_type": "markdown",
      "metadata": {
        "id": "1gKCu9BqgQ67",
        "colab_type": "text"
      },
      "source": [
        "\n",
        "\n",
        "*   IMDB(Internet Movie Database): 리뷰 5만 개로 이루어진 데이터셋\n",
        "- 훈련 데이터 2만 5천개, 테스트 데이터 2만 5천개\n",
        "- 각각 50%는 부정, 50%는 긍정 리뷰로 구성되어 있음\n",
        "- 각 리뷰는 숫자 시퀀스로 변환되어 있음(문서에 나타난 단어에 고유한 번호를 부여)\n",
        "\n"
      ]
    },
    {
      "cell_type": "markdown",
      "metadata": {
        "id": "Juz9ojluqmeh",
        "colab_type": "text"
      },
      "source": [
        "## [ data와 label 구조 알아보기 ]"
      ]
    },
    {
      "cell_type": "code",
      "metadata": {
        "id": "MWYGII4mpofS",
        "colab_type": "code",
        "colab": {
          "base_uri": "https://localhost:8080/",
          "height": 52
        },
        "outputId": "8a8ed36a-b142-40dc-d311-88a74ca567ee"
      },
      "source": [
        "print(train_data.shape)\n",
        "print(train_labels.shape)"
      ],
      "execution_count": null,
      "outputs": [
        {
          "output_type": "stream",
          "text": [
            "(25000,)\n",
            "(25000,)\n"
          ],
          "name": "stdout"
        }
      ]
    },
    {
      "cell_type": "code",
      "metadata": {
        "id": "m_LKyo8Wp3qZ",
        "colab_type": "code",
        "colab": {
          "base_uri": "https://localhost:8080/",
          "height": 178
        },
        "outputId": "63d32588-b2c4-4e5d-c72c-adf778544ff5"
      },
      "source": [
        "train_data"
      ],
      "execution_count": null,
      "outputs": [
        {
          "output_type": "execute_result",
          "data": {
            "text/plain": [
              "array([list([1, 14, 22, 16, 43, 530, 973, 1622, 1385, 65, 458, 4468, 66, 3941, 4, 173, 36, 256, 5, 25, 100, 43, 838, 112, 50, 670, 2, 9, 35, 480, 284, 5, 150, 4, 172, 112, 167, 2, 336, 385, 39, 4, 172, 4536, 1111, 17, 546, 38, 13, 447, 4, 192, 50, 16, 6, 147, 2025, 19, 14, 22, 4, 1920, 4613, 469, 4, 22, 71, 87, 12, 16, 43, 530, 38, 76, 15, 13, 1247, 4, 22, 17, 515, 17, 12, 16, 626, 18, 2, 5, 62, 386, 12, 8, 316, 8, 106, 5, 4, 2223, 5244, 16, 480, 66, 3785, 33, 4, 130, 12, 16, 38, 619, 5, 25, 124, 51, 36, 135, 48, 25, 1415, 33, 6, 22, 12, 215, 28, 77, 52, 5, 14, 407, 16, 82, 2, 8, 4, 107, 117, 5952, 15, 256, 4, 2, 7, 3766, 5, 723, 36, 71, 43, 530, 476, 26, 400, 317, 46, 7, 4, 2, 1029, 13, 104, 88, 4, 381, 15, 297, 98, 32, 2071, 56, 26, 141, 6, 194, 7486, 18, 4, 226, 22, 21, 134, 476, 26, 480, 5, 144, 30, 5535, 18, 51, 36, 28, 224, 92, 25, 104, 4, 226, 65, 16, 38, 1334, 88, 12, 16, 283, 5, 16, 4472, 113, 103, 32, 15, 16, 5345, 19, 178, 32]),\n",
              "       list([1, 194, 1153, 194, 8255, 78, 228, 5, 6, 1463, 4369, 5012, 134, 26, 4, 715, 8, 118, 1634, 14, 394, 20, 13, 119, 954, 189, 102, 5, 207, 110, 3103, 21, 14, 69, 188, 8, 30, 23, 7, 4, 249, 126, 93, 4, 114, 9, 2300, 1523, 5, 647, 4, 116, 9, 35, 8163, 4, 229, 9, 340, 1322, 4, 118, 9, 4, 130, 4901, 19, 4, 1002, 5, 89, 29, 952, 46, 37, 4, 455, 9, 45, 43, 38, 1543, 1905, 398, 4, 1649, 26, 6853, 5, 163, 11, 3215, 2, 4, 1153, 9, 194, 775, 7, 8255, 2, 349, 2637, 148, 605, 2, 8003, 15, 123, 125, 68, 2, 6853, 15, 349, 165, 4362, 98, 5, 4, 228, 9, 43, 2, 1157, 15, 299, 120, 5, 120, 174, 11, 220, 175, 136, 50, 9, 4373, 228, 8255, 5, 2, 656, 245, 2350, 5, 4, 9837, 131, 152, 491, 18, 2, 32, 7464, 1212, 14, 9, 6, 371, 78, 22, 625, 64, 1382, 9, 8, 168, 145, 23, 4, 1690, 15, 16, 4, 1355, 5, 28, 6, 52, 154, 462, 33, 89, 78, 285, 16, 145, 95]),\n",
              "       list([1, 14, 47, 8, 30, 31, 7, 4, 249, 108, 7, 4, 5974, 54, 61, 369, 13, 71, 149, 14, 22, 112, 4, 2401, 311, 12, 16, 3711, 33, 75, 43, 1829, 296, 4, 86, 320, 35, 534, 19, 263, 4821, 1301, 4, 1873, 33, 89, 78, 12, 66, 16, 4, 360, 7, 4, 58, 316, 334, 11, 4, 1716, 43, 645, 662, 8, 257, 85, 1200, 42, 1228, 2578, 83, 68, 3912, 15, 36, 165, 1539, 278, 36, 69, 2, 780, 8, 106, 14, 6905, 1338, 18, 6, 22, 12, 215, 28, 610, 40, 6, 87, 326, 23, 2300, 21, 23, 22, 12, 272, 40, 57, 31, 11, 4, 22, 47, 6, 2307, 51, 9, 170, 23, 595, 116, 595, 1352, 13, 191, 79, 638, 89, 2, 14, 9, 8, 106, 607, 624, 35, 534, 6, 227, 7, 129, 113]),\n",
              "       ...,\n",
              "       list([1, 11, 6, 230, 245, 6401, 9, 6, 1225, 446, 2, 45, 2174, 84, 8322, 4007, 21, 4, 912, 84, 2, 325, 725, 134, 2, 1715, 84, 5, 36, 28, 57, 1099, 21, 8, 140, 8, 703, 5, 2, 84, 56, 18, 1644, 14, 9, 31, 7, 4, 9406, 1209, 2295, 2, 1008, 18, 6, 20, 207, 110, 563, 12, 8, 2901, 2, 8, 97, 6, 20, 53, 4767, 74, 4, 460, 364, 1273, 29, 270, 11, 960, 108, 45, 40, 29, 2961, 395, 11, 6, 4065, 500, 7, 2, 89, 364, 70, 29, 140, 4, 64, 4780, 11, 4, 2678, 26, 178, 4, 529, 443, 2, 5, 27, 710, 117, 2, 8123, 165, 47, 84, 37, 131, 818, 14, 595, 10, 10, 61, 1242, 1209, 10, 10, 288, 2260, 1702, 34, 2901, 2, 4, 65, 496, 4, 231, 7, 790, 5, 6, 320, 234, 2766, 234, 1119, 1574, 7, 496, 4, 139, 929, 2901, 2, 7750, 5, 4241, 18, 4, 8497, 2, 250, 11, 1818, 7561, 4, 4217, 5408, 747, 1115, 372, 1890, 1006, 541, 9303, 7, 4, 59, 2, 4, 3586, 2]),\n",
              "       list([1, 1446, 7079, 69, 72, 3305, 13, 610, 930, 8, 12, 582, 23, 5, 16, 484, 685, 54, 349, 11, 4120, 2959, 45, 58, 1466, 13, 197, 12, 16, 43, 23, 2, 5, 62, 30, 145, 402, 11, 4131, 51, 575, 32, 61, 369, 71, 66, 770, 12, 1054, 75, 100, 2198, 8, 4, 105, 37, 69, 147, 712, 75, 3543, 44, 257, 390, 5, 69, 263, 514, 105, 50, 286, 1814, 23, 4, 123, 13, 161, 40, 5, 421, 4, 116, 16, 897, 13, 2, 40, 319, 5872, 112, 6700, 11, 4803, 121, 25, 70, 3468, 4, 719, 3798, 13, 18, 31, 62, 40, 8, 7200, 4, 2, 7, 14, 123, 5, 942, 25, 8, 721, 12, 145, 5, 202, 12, 160, 580, 202, 12, 6, 52, 58, 2, 92, 401, 728, 12, 39, 14, 251, 8, 15, 251, 5, 2, 12, 38, 84, 80, 124, 12, 9, 23]),\n",
              "       list([1, 17, 6, 194, 337, 7, 4, 204, 22, 45, 254, 8, 106, 14, 123, 4, 2, 270, 2, 5, 2, 2, 732, 2098, 101, 405, 39, 14, 1034, 4, 1310, 9, 115, 50, 305, 12, 47, 4, 168, 5, 235, 7, 38, 111, 699, 102, 7, 4, 4039, 9245, 9, 24, 6, 78, 1099, 17, 2345, 2, 21, 27, 9685, 6139, 5, 2, 1603, 92, 1183, 4, 1310, 7, 4, 204, 42, 97, 90, 35, 221, 109, 29, 127, 27, 118, 8, 97, 12, 157, 21, 6789, 2, 9, 6, 66, 78, 1099, 4, 631, 1191, 5, 2642, 272, 191, 1070, 6, 7585, 8, 2197, 2, 2, 544, 5, 383, 1271, 848, 1468, 2, 497, 2, 8, 1597, 8778, 2, 21, 60, 27, 239, 9, 43, 8368, 209, 405, 10, 10, 12, 764, 40, 4, 248, 20, 12, 16, 5, 174, 1791, 72, 7, 51, 6, 1739, 22, 4, 204, 131, 9])],\n",
              "      dtype=object)"
            ]
          },
          "metadata": {
            "tags": []
          },
          "execution_count": 24
        }
      ]
    },
    {
      "cell_type": "code",
      "metadata": {
        "id": "3iuT3pk5p5MQ",
        "colab_type": "code",
        "colab": {
          "base_uri": "https://localhost:8080/",
          "height": 34
        },
        "outputId": "a3bc25c7-67d2-480a-d839-c483339e35b4"
      },
      "source": [
        "train_labels"
      ],
      "execution_count": null,
      "outputs": [
        {
          "output_type": "execute_result",
          "data": {
            "text/plain": [
              "array([1, 0, 0, ..., 0, 1, 0])"
            ]
          },
          "metadata": {
            "tags": []
          },
          "execution_count": 25
        }
      ]
    },
    {
      "cell_type": "code",
      "metadata": {
        "id": "AiXAI8cDhVRy",
        "colab_type": "code",
        "colab": {
          "base_uri": "https://localhost:8080/",
          "height": 72
        },
        "outputId": "ca9d4066-6f1f-4dab-db0a-7732629df220"
      },
      "source": [
        "print(train_data[0])\n",
        "print(train_labels[0])"
      ],
      "execution_count": null,
      "outputs": [
        {
          "output_type": "stream",
          "text": [
            "[1, 14, 22, 16, 43, 530, 973, 1622, 1385, 65, 458, 4468, 66, 3941, 4, 173, 36, 256, 5, 25, 100, 43, 838, 112, 50, 670, 2, 9, 35, 480, 284, 5, 150, 4, 172, 112, 167, 2, 336, 385, 39, 4, 172, 4536, 1111, 17, 546, 38, 13, 447, 4, 192, 50, 16, 6, 147, 2025, 19, 14, 22, 4, 1920, 4613, 469, 4, 22, 71, 87, 12, 16, 43, 530, 38, 76, 15, 13, 1247, 4, 22, 17, 515, 17, 12, 16, 626, 18, 2, 5, 62, 386, 12, 8, 316, 8, 106, 5, 4, 2223, 5244, 16, 480, 66, 3785, 33, 4, 130, 12, 16, 38, 619, 5, 25, 124, 51, 36, 135, 48, 25, 1415, 33, 6, 22, 12, 215, 28, 77, 52, 5, 14, 407, 16, 82, 2, 8, 4, 107, 117, 5952, 15, 256, 4, 2, 7, 3766, 5, 723, 36, 71, 43, 530, 476, 26, 400, 317, 46, 7, 4, 2, 1029, 13, 104, 88, 4, 381, 15, 297, 98, 32, 2071, 56, 26, 141, 6, 194, 7486, 18, 4, 226, 22, 21, 134, 476, 26, 480, 5, 144, 30, 5535, 18, 51, 36, 28, 224, 92, 25, 104, 4, 226, 65, 16, 38, 1334, 88, 12, 16, 283, 5, 16, 4472, 113, 103, 32, 15, 16, 5345, 19, 178, 32]\n",
            "1\n"
          ],
          "name": "stdout"
        }
      ]
    },
    {
      "cell_type": "markdown",
      "metadata": {
        "id": "IzZGBN-vhgA4",
        "colab_type": "text"
      },
      "source": [
        "\n",
        "\n",
        "*   각 리뷰는 단어 인덱스의 리스트로 이루어진다.\n",
        "- train, test label은 부정을 나타내는 0과, 긍정을 나타내는 1의 리스트로 구성된다. \n",
        "\n",
        "\n",
        "\n",
        "\n",
        "\n",
        "\n",
        "\n",
        "\n",
        "\n",
        "\n",
        "\n"
      ]
    },
    {
      "cell_type": "markdown",
      "metadata": {
        "id": "4YjWbwb-q0Nw",
        "colab_type": "text"
      },
      "source": [
        "## [ data와 label을 텐서로 변환시키기 ]"
      ]
    },
    {
      "cell_type": "code",
      "metadata": {
        "id": "tcCs2XQ2i80Q",
        "colab_type": "code",
        "colab": {}
      },
      "source": [
        "def vectorize_sequence(sequences, dimension=10000):\n",
        "  results=np.zeros((len(sequences), dimension))     # 크기가 (len(sequences),dimension)이고 모든 원소가 0인 행렬\n",
        "  for i, sequence in enumerate(sequences):\n",
        "    results[i,sequence]=1.                          # results[i]에서 특정 인덱스의 위치를 1로 만듦\n",
        "  return results"
      ],
      "execution_count": null,
      "outputs": []
    },
    {
      "cell_type": "code",
      "metadata": {
        "id": "stNy8ZJTnF4c",
        "colab_type": "code",
        "colab": {}
      },
      "source": [
        "x_train=vectorize_sequence(train_data)\n",
        "x_test=vectorize_sequence(test_data)"
      ],
      "execution_count": null,
      "outputs": []
    },
    {
      "cell_type": "markdown",
      "metadata": {
        "id": "zY8K6MR-mdHn",
        "colab_type": "text"
      },
      "source": [
        "\n",
        "\n",
        "*   리스트를 텐서로 바꾸기 위해서, 정수 시퀀스를 이진 행렬로 인코딩한다.\n",
        "\n"
      ]
    },
    {
      "cell_type": "code",
      "metadata": {
        "id": "8AzgY2ManasT",
        "colab_type": "code",
        "colab": {
          "base_uri": "https://localhost:8080/",
          "height": 141
        },
        "outputId": "e500f4f8-c063-49fe-d2e2-254c1e083900"
      },
      "source": [
        "x_train"
      ],
      "execution_count": null,
      "outputs": [
        {
          "output_type": "execute_result",
          "data": {
            "text/plain": [
              "array([[0., 1., 1., ..., 0., 0., 0.],\n",
              "       [0., 1., 1., ..., 0., 0., 0.],\n",
              "       [0., 1., 1., ..., 0., 0., 0.],\n",
              "       ...,\n",
              "       [0., 1., 1., ..., 0., 0., 0.],\n",
              "       [0., 1., 1., ..., 0., 0., 0.],\n",
              "       [0., 1., 1., ..., 0., 0., 0.]])"
            ]
          },
          "metadata": {
            "tags": []
          },
          "execution_count": 28
        }
      ]
    },
    {
      "cell_type": "code",
      "metadata": {
        "id": "Tis7-pa_nSxq",
        "colab_type": "code",
        "colab": {
          "base_uri": "https://localhost:8080/",
          "height": 34
        },
        "outputId": "ee0768dc-daea-4abe-de85-15aa3a810bc0"
      },
      "source": [
        "x_train[0]"
      ],
      "execution_count": null,
      "outputs": [
        {
          "output_type": "execute_result",
          "data": {
            "text/plain": [
              "array([0., 1., 1., ..., 0., 0., 0.])"
            ]
          },
          "metadata": {
            "tags": []
          },
          "execution_count": 29
        }
      ]
    },
    {
      "cell_type": "code",
      "metadata": {
        "id": "8F2X-sj1oDMe",
        "colab_type": "code",
        "colab": {}
      },
      "source": [
        "y_train=np.asarray(train_labels).astype('float32')\n",
        "y_test=np.asarray(test_labels).astype('float32')"
      ],
      "execution_count": null,
      "outputs": []
    },
    {
      "cell_type": "markdown",
      "metadata": {
        "id": "UwND1530oM4Z",
        "colab_type": "text"
      },
      "source": [
        "\n",
        "\n",
        "*   레이블을 벡터로 바꿔준다.\n",
        "- np.asarray: 입력 데이터를 ndarray(같은 종류의 데이터를 담을 수 있는 다차원 배열)로 변환해준다.\n"
      ]
    },
    {
      "cell_type": "code",
      "metadata": {
        "id": "YyHPHGvtob1q",
        "colab_type": "code",
        "colab": {
          "base_uri": "https://localhost:8080/",
          "height": 34
        },
        "outputId": "13086528-ca23-47ab-c158-6a171f451b58"
      },
      "source": [
        "y_train"
      ],
      "execution_count": null,
      "outputs": [
        {
          "output_type": "execute_result",
          "data": {
            "text/plain": [
              "array([1., 0., 0., ..., 0., 1., 0.], dtype=float32)"
            ]
          },
          "metadata": {
            "tags": []
          },
          "execution_count": 31
        }
      ]
    },
    {
      "cell_type": "markdown",
      "metadata": {
        "id": "vg1vCPMatK_H",
        "colab_type": "text"
      },
      "source": [
        "## [ 모델 구현 ]"
      ]
    },
    {
      "cell_type": "code",
      "metadata": {
        "id": "5AcUK_KLtLaG",
        "colab_type": "code",
        "colab": {}
      },
      "source": [
        "from keras import models\n",
        "from keras import layers\n",
        "\n",
        "model=models.Sequential()\n",
        "model.add(layers.Dense(16, activation='relu', input_shape=(10000,)))\n",
        "model.add(layers.Dense(16, activation='relu'))\n",
        "model.add(layers.Dense(1, activation='sigmoid'))    #이진 분류 문제에서는 sigmoid 활성화 함수를 가진 Dense 층으로 끝나야 한다."
      ],
      "execution_count": null,
      "outputs": []
    },
    {
      "cell_type": "code",
      "metadata": {
        "id": "8Qnu_-KRu9qM",
        "colab_type": "code",
        "colab": {}
      },
      "source": [
        "x_val=x_train[:10000]\n",
        "partial_x_train=x_train[10000:]\n",
        "\n",
        "y_val=y_train[:10000]\n",
        "partial_y_train=y_train[10000:]"
      ],
      "execution_count": null,
      "outputs": []
    },
    {
      "cell_type": "markdown",
      "metadata": {
        "id": "IqeAXuWuvDcd",
        "colab_type": "text"
      },
      "source": [
        "\n",
        "\n",
        "*   처음 본 데이터에 대한 모델의 정확도를 측정하기 위해서, 원본 훈련 데이터에서 일부를 가지고 검증 셋(validation set)을 만든다.\n",
        "- 학습 데이터가 테스트 데이터에 비해 양이 많지 않으므로, 훈련 검증(validation)을 사용해야 한다."
      ]
    },
    {
      "cell_type": "code",
      "metadata": {
        "id": "14zyGgOauvRX",
        "colab_type": "code",
        "colab": {}
      },
      "source": [
        "model.compile(optimizer='rmsprop',\n",
        "              loss='binary_crossentropy',\n",
        "              metrics=['acc'])"
      ],
      "execution_count": null,
      "outputs": []
    },
    {
      "cell_type": "code",
      "metadata": {
        "id": "RTVWtHNQwmsc",
        "colab_type": "code",
        "colab": {
          "base_uri": "https://localhost:8080/",
          "height": 745
        },
        "outputId": "57debe50-2436-4a05-f955-d24887ee3ddd"
      },
      "source": [
        "history=model.fit(partial_x_train,partial_y_train,\n",
        "                  epochs=20,\n",
        "                  batch_size=512,\n",
        "                  validation_data=(x_val,y_val))      #validation을 이용하여, epoch을 1번 돌때마다 검사하여 가중치를 수정한다.\n",
        "                                                      #fit(모델 훈련)은 'training & validation data'를 이용하여 진행한다."
      ],
      "execution_count": null,
      "outputs": [
        {
          "output_type": "stream",
          "text": [
            "Train on 15000 samples, validate on 10000 samples\n",
            "Epoch 1/20\n",
            "15000/15000 [==============================] - 2s 115us/step - loss: 0.5023 - acc: 0.7893 - val_loss: 0.3790 - val_acc: 0.8669\n",
            "Epoch 2/20\n",
            "15000/15000 [==============================] - 1s 96us/step - loss: 0.2984 - acc: 0.9042 - val_loss: 0.3002 - val_acc: 0.8907\n",
            "Epoch 3/20\n",
            "15000/15000 [==============================] - 1s 92us/step - loss: 0.2194 - acc: 0.9315 - val_loss: 0.2804 - val_acc: 0.8901\n",
            "Epoch 4/20\n",
            "15000/15000 [==============================] - 1s 94us/step - loss: 0.1715 - acc: 0.9462 - val_loss: 0.2889 - val_acc: 0.8844\n",
            "Epoch 5/20\n",
            "15000/15000 [==============================] - 1s 96us/step - loss: 0.1422 - acc: 0.9532 - val_loss: 0.3217 - val_acc: 0.8737\n",
            "Epoch 6/20\n",
            "15000/15000 [==============================] - 1s 94us/step - loss: 0.1142 - acc: 0.9655 - val_loss: 0.2960 - val_acc: 0.8878\n",
            "Epoch 7/20\n",
            "15000/15000 [==============================] - 1s 95us/step - loss: 0.0967 - acc: 0.9717 - val_loss: 0.3176 - val_acc: 0.8834\n",
            "Epoch 8/20\n",
            "15000/15000 [==============================] - 1s 95us/step - loss: 0.0778 - acc: 0.9783 - val_loss: 0.3943 - val_acc: 0.8663\n",
            "Epoch 9/20\n",
            "15000/15000 [==============================] - 1s 94us/step - loss: 0.0650 - acc: 0.9838 - val_loss: 0.3689 - val_acc: 0.8760\n",
            "Epoch 10/20\n",
            "15000/15000 [==============================] - 1s 94us/step - loss: 0.0534 - acc: 0.9870 - val_loss: 0.3825 - val_acc: 0.8780\n",
            "Epoch 11/20\n",
            "15000/15000 [==============================] - 1s 96us/step - loss: 0.0438 - acc: 0.9899 - val_loss: 0.4130 - val_acc: 0.8776\n",
            "Epoch 12/20\n",
            "15000/15000 [==============================] - 1s 95us/step - loss: 0.0342 - acc: 0.9933 - val_loss: 0.4459 - val_acc: 0.8748\n",
            "Epoch 13/20\n",
            "15000/15000 [==============================] - 1s 96us/step - loss: 0.0313 - acc: 0.9923 - val_loss: 0.4787 - val_acc: 0.8696\n",
            "Epoch 14/20\n",
            "15000/15000 [==============================] - 1s 96us/step - loss: 0.0190 - acc: 0.9973 - val_loss: 0.5056 - val_acc: 0.8718\n",
            "Epoch 15/20\n",
            "15000/15000 [==============================] - 1s 97us/step - loss: 0.0189 - acc: 0.9966 - val_loss: 0.5341 - val_acc: 0.8716\n",
            "Epoch 16/20\n",
            "15000/15000 [==============================] - 1s 97us/step - loss: 0.0154 - acc: 0.9973 - val_loss: 0.5704 - val_acc: 0.8703\n",
            "Epoch 17/20\n",
            "15000/15000 [==============================] - 1s 98us/step - loss: 0.0088 - acc: 0.9993 - val_loss: 0.6620 - val_acc: 0.8603\n",
            "Epoch 18/20\n",
            "15000/15000 [==============================] - 1s 95us/step - loss: 0.0098 - acc: 0.9987 - val_loss: 0.6368 - val_acc: 0.8653\n",
            "Epoch 19/20\n",
            "15000/15000 [==============================] - 1s 95us/step - loss: 0.0050 - acc: 0.9998 - val_loss: 0.8462 - val_acc: 0.8432\n",
            "Epoch 20/20\n",
            "15000/15000 [==============================] - 1s 95us/step - loss: 0.0047 - acc: 0.9997 - val_loss: 0.8564 - val_acc: 0.8447\n"
          ],
          "name": "stdout"
        }
      ]
    },
    {
      "cell_type": "markdown",
      "metadata": {
        "id": "jFOnzXV3Iq1Q",
        "colab_type": "text"
      },
      "source": [
        "(validation을 하지 않는 경우)\n",
        "\n",
        "model.fit(train_images, train_labels, epochs=5, batch_size=128)\n",
        "\n",
        "test_loss, test_acc=moel.evaluate(test_images, test_labels)\n",
        "\n",
        "---\n",
        "\n"
      ]
    },
    {
      "cell_type": "markdown",
      "metadata": {
        "id": "gWC4kDmXJKGm",
        "colab_type": "text"
      },
      "source": [
        "\n",
        "\n",
        "*   fit(validation_split, validation_data)\n",
        "\n",
        "- validation set을 사용하는 이유 (training set의 일부를 모델 성능 평가를 위해서 희생)\n",
        "\n",
        "1.   training을 한 이후에 만들어진 해당 모형이 잘 예측하는지 성능을 예측하기 위해서\n",
        "2.   이 희생을 감수하지 못할만큼 데이터 셋의 크기가 작으면, cross-validation을 진행\n",
        "3.   '최종 모델'을 선정하기 위해 test accuracy를 가늠해 볼 수 있음\n",
        "\n",
        "＊cross-validation: training set을 k-fold 방식을 통해 쪼개서 모든 데이터에 대해 training과 validation에 사용될 수 있게 한다.\n",
        "\n",
        "\n",
        "---\n",
        "\n",
        "\n",
        "\n",
        "\n"
      ]
    },
    {
      "cell_type": "markdown",
      "metadata": {
        "id": "KGA7lO87K38l",
        "colab_type": "text"
      },
      "source": [
        "\n",
        "\n",
        "*   validation set과 test set의 차이점\n",
        "\n",
        "→ test set은 모델의 '최종 성능'을 평가하기 위해 쓰이고, training 과정에 관여하지 않는다.\n",
        "\n",
        "→ validation set은 여러 모델 중에서 '최종 모델'을 선정하기 위해서 (training 과정에서) 성능 평가에 관여하는 것이다.\n",
        "\n"
      ]
    },
    {
      "cell_type": "code",
      "metadata": {
        "id": "4aExCQxTL0TD",
        "colab_type": "code",
        "colab": {
          "base_uri": "https://localhost:8080/",
          "height": 34
        },
        "outputId": "ab628d7a-87bb-46a1-b069-cf394bfa9d0a"
      },
      "source": [
        "history_dict=history.history # 위의 history 객체가 훈련하는 동안 발생한 모든 정보를 담고 있음\n",
        "history_dict.keys()"
      ],
      "execution_count": null,
      "outputs": [
        {
          "output_type": "execute_result",
          "data": {
            "text/plain": [
              "dict_keys(['val_loss', 'val_acc', 'loss', 'acc'])"
            ]
          },
          "metadata": {
            "tags": []
          },
          "execution_count": 11
        }
      ]
    },
    {
      "cell_type": "markdown",
      "metadata": {
        "id": "o8c7IzgmMd3t",
        "colab_type": "text"
      },
      "source": [
        "\n",
        "\n",
        "*   history=model.fit( )으로 훈련하는 동안 'val_loss, val_acc, loss, acc'에 대한 정보가 생성되었음을 알 수 있다.\n",
        "\n"
      ]
    },
    {
      "cell_type": "markdown",
      "metadata": {
        "id": "jAiPazGXM8Ka",
        "colab_type": "text"
      },
      "source": [
        "## [ trainin loss & validation loss ]"
      ]
    },
    {
      "cell_type": "code",
      "metadata": {
        "id": "dBUN1daWMqZr",
        "colab_type": "code",
        "colab": {
          "base_uri": "https://localhost:8080/",
          "height": 294
        },
        "outputId": "2589cc58-4449-4a23-dbac-b7992f98447c"
      },
      "source": [
        "import matplotlib.pyplot as plt\n",
        "\n",
        "loss=history_dict['loss']\n",
        "val_loss=history_dict['val_loss']\n",
        "\n",
        "epochs=range(1,len(loss)+1)\n",
        "\n",
        "plt.plot(epochs, loss, 'bo', label='Training loss')       # bo: 파란색 점\n",
        "plt.plot(epochs, val_loss, 'b', label='Validation loss')  # b: 파란색 실선\n",
        "plt.title('Training and Validation loss')\n",
        "plt.xlabel('Epochs')\n",
        "plt.ylabel('Loss')\n",
        "plt.legend()  # 그래프의 구분을 위해서, 각 그래프의 라벨명을 출력해준다.(왼쪽 상단위에 있는 박스)\n",
        "\n",
        "plt.show()"
      ],
      "execution_count": null,
      "outputs": [
        {
          "output_type": "display_data",
          "data": {
            "image/png": "[encoded data removed]",
            "text/plain": [
              "<Figure size 432x288 with 1 Axes>"
            ]
          },
          "metadata": {
            "tags": [],
            "needs_background": "light"
          }
        }
      ]
    },
    {
      "cell_type": "code",
      "metadata": {
        "id": "FdmaYdTCORJx",
        "colab_type": "code",
        "colab": {
          "base_uri": "https://localhost:8080/",
          "height": 294
        },
        "outputId": "de47ccfc-bd9c-435a-a5b9-89e8da2013c1"
      },
      "source": [
        "plt.clf()  # 그래프 초기화\n",
        "\n",
        "acc=history_dict['acc']\n",
        "val_acc=history_dict['val_acc']\n",
        "\n",
        "plt.plot(epochs, acc, 'bo', label='Training acc')\n",
        "plt.plot(epochs, val_acc, 'b', label='Validation acc')\n",
        "plt.title('Training and Validation accuracy')\n",
        "plt.xlabel('Epochs')\n",
        "plt.ylabel('Accuracy')\n",
        "plt.legend()\n",
        "\n",
        "plt.show()"
      ],
      "execution_count": null,
      "outputs": [
        {
          "output_type": "display_data",
          "data": {
            "image/png": "[encoded data removed]",
            "text/plain": [
              "<Figure size 432x288 with 1 Axes>"
            ]
          },
          "metadata": {
            "tags": [],
            "needs_background": "light"
          }
        }
      ]
    },
    {
      "cell_type": "markdown",
      "metadata": {
        "id": "nsogkmoBO4IF",
        "colab_type": "text"
      },
      "source": [
        "## [ 그래프 해석 ]\n",
        "\n",
        "\n",
        "*   training(훈련)에 대해서는 예상했던 대로 정확도가 증가하고 손실이 감소하였다.\n",
        "- validation(검증)에 대해서는 반대로 손실이 증가하고 정확도가 감소하였다.\n",
        "- 두번째 epoch 이후부터 training set에 과도하게 최적화되어, training set 이외의 데이터에는 일반화되지 못하고 있다.\n",
        "\n",
        "→ Overfitting(과대적합) 발생 : training set에 대해서는 잘 작동하지만, 처음 보는 데이터에 대해서는 잘 작동하지 않는다.\n",
        "\n",
        "\n"
      ]
    },
    {
      "cell_type": "markdown",
      "metadata": {
        "id": "7PJtTPCxR1QW",
        "colab_type": "text"
      },
      "source": [
        "## [ 과대적합을 완화하기 위해 낮은 epochs로 모델 다시 훈련 ]"
      ]
    },
    {
      "cell_type": "code",
      "metadata": {
        "id": "TzV9XdEuSGRv",
        "colab_type": "code",
        "colab": {
          "base_uri": "https://localhost:8080/",
          "height": 212
        },
        "outputId": "2569f558-e7d6-423f-86d1-2d1d4d60aba2"
      },
      "source": [
        "model.fit(x_train,y_train,        #Train the model for a fixed number of epochs\n",
        "          epochs=4,\n",
        "          batch_size=512)\n",
        "\n",
        "test_loss, test_acc=model.evaluate(x_test,y_test) #최종 모델 성능 평가(evaluate)는 'test data'를 이용하여 진행한다.\n",
        "print('test_loss: ', test_loss)\n",
        "print('test_acc: ', test_acc)"
      ],
      "execution_count": null,
      "outputs": [
        {
          "output_type": "stream",
          "text": [
            "Epoch 1/4\n",
            "25000/25000 [==============================] - 2s 72us/step - loss: 0.4496 - acc: 0.8270\n",
            "Epoch 2/4\n",
            "25000/25000 [==============================] - 2s 69us/step - loss: 0.2578 - acc: 0.9100\n",
            "Epoch 3/4\n",
            "25000/25000 [==============================] - 2s 68us/step - loss: 0.1983 - acc: 0.9289\n",
            "Epoch 4/4\n",
            "25000/25000 [==============================] - 2s 67us/step - loss: 0.1665 - acc: 0.9418\n",
            "25000/25000 [==============================] - 2s 61us/step\n",
            "test_loss:  0.302583247461319\n",
            "test_acc:  0.8807600140571594\n"
          ],
          "name": "stdout"
        }
      ]
    },
    {
      "cell_type": "code",
      "metadata": {
        "id": "f7bZIiVHShQ-",
        "colab_type": "code",
        "colab": {
          "base_uri": "https://localhost:8080/",
          "height": 141
        },
        "outputId": "982a4372-4ce1-40ac-b680-64996ffd6458"
      },
      "source": [
        "model.predict(x_test)"
      ],
      "execution_count": null,
      "outputs": [
        {
          "output_type": "execute_result",
          "data": {
            "text/plain": [
              "array([[0.21698296],\n",
              "       [0.9998926 ],\n",
              "       [0.9736787 ],\n",
              "       ...,\n",
              "       [0.14198208],\n",
              "       [0.0911929 ],\n",
              "       [0.7918478 ]], dtype=float32)"
            ]
          },
          "metadata": {
            "tags": []
          },
          "execution_count": 20
        }
      ]
    },
    {
      "cell_type": "markdown",
      "metadata": {
        "id": "1Nohce4wTczX",
        "colab_type": "text"
      },
      "source": [
        "\n",
        "＊0 (음성 샘플): 부정적인 리뷰 / 1 (양성 샘플): 긍정적인 리뷰\n",
        "\n",
        "*   predict( ) : 어떤 리뷰가 긍정(양성 샘플)일 확률을 예측한다.\n",
        "- 이진 분류에서는 예측하려는 대상이 양성이 된다. (ex. 암 진단에서는 악성 종양이 양성 샘플)\n"
      ]
    }
  ]
}