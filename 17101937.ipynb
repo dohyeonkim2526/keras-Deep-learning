{
  "nbformat": 4,
  "nbformat_minor": 0,
  "metadata": {
    "colab": {
      "name": "17101937.ipynb",
      "provenance": [],
      "collapsed_sections": []
    },
    "kernelspec": {
      "name": "python3",
      "display_name": "Python 3"
    },
    "accelerator": "GPU"
  },
  "cells": [
    {
      "cell_type": "code",
      "metadata": {
        "id": "7M3YA_zU2MkX",
        "colab_type": "code",
        "colab": {}
      },
      "source": [
        "!pip install tensorflow==1.15"
      ],
      "execution_count": 0,
      "outputs": []
    },
    {
      "cell_type": "code",
      "metadata": {
        "id": "k_zyqv0nzMuY",
        "colab_type": "code",
        "outputId": "5195b436-34d5-48f5-fe63-ab18420e9b4d",
        "colab": {
          "base_uri": "https://localhost:8080/",
          "height": 88
        }
      },
      "source": [
        "import numpy as np\n",
        "import random\n",
        "import matplotlib.pyplot as plt\n",
        "%matplotlib inline\n",
        "from sklearn.metrics import classification_report\n",
        "import tensorflow as tf\n",
        "\n",
        "from tensorflow.examples.tutorials.mnist import input_data\n",
        "mnist=input_data.read_data_sets('MNIST_data/', source_url='http://fashion-mnist.s3-website.eu-central-1.amazonaws.com/', one_hot=True)"
      ],
      "execution_count": 0,
      "outputs": [
        {
          "output_type": "stream",
          "text": [
            "Extracting MNIST_data/train-images-idx3-ubyte.gz\n",
            "Extracting MNIST_data/train-labels-idx1-ubyte.gz\n",
            "Extracting MNIST_data/t10k-images-idx3-ubyte.gz\n",
            "Extracting MNIST_data/t10k-labels-idx1-ubyte.gz\n"
          ],
          "name": "stdout"
        }
      ]
    },
    {
      "cell_type": "code",
      "metadata": {
        "id": "_66XSLsN2F6l",
        "colab_type": "code",
        "outputId": "379d3230-a81a-44e0-a143-efac7a7bd435",
        "colab": {
          "base_uri": "https://localhost:8080/",
          "height": 88
        }
      },
      "source": [
        "print(\"Training set (images): {}\".format(mnist.train.images.shape))\n",
        "print(\"Training set (labels): {}\".format(mnist.train.labels.shape))\n",
        "print(\"Test set (images): {}\".format(mnist.test.images.shape))\n",
        "print(\"Test set (labels): {}\".format(mnist.test.labels.shape))"
      ],
      "execution_count": 0,
      "outputs": [
        {
          "output_type": "stream",
          "text": [
            "Training set (images): (55000, 784)\n",
            "Training set (labels): (55000, 10)\n",
            "Test set (images): (10000, 784)\n",
            "Test set (labels): (10000, 10)\n"
          ],
          "name": "stdout"
        }
      ]
    },
    {
      "cell_type": "code",
      "metadata": {
        "id": "2r3wuT03ztIP",
        "colab_type": "code",
        "colab": {}
      },
      "source": [
        "label_names = [\n",
        "'T-shirt/top', 'Trouser', 'Pullover', 'Dress', 'Coat',\n",
        "'Sandal', 'Shirt', 'Sneaker', 'Bag', 'Ankle boot'\n",
        "]"
      ],
      "execution_count": 0,
      "outputs": []
    },
    {
      "cell_type": "code",
      "metadata": {
        "id": "a1pYpEbu2-hM",
        "colab_type": "code",
        "outputId": "36500ef6-78a4-47a5-865d-ab2fa6bd05ae",
        "colab": {
          "base_uri": "https://localhost:8080/",
          "height": 301
        }
      },
      "source": [
        "sample_1 = mnist.train.images[47].reshape(28, 28)\n",
        "sample_label_1 = np.where(mnist.train.labels[47] == 1)[0][0]\n",
        "\n",
        "print(\"y = {label_index} ({label})\".format(\n",
        "label_index=sample_label_1, label=label_names[sample_label_1]))\n",
        "plt.imshow(sample_1, cmap='Greys')"
      ],
      "execution_count": 0,
      "outputs": [
        {
          "output_type": "stream",
          "text": [
            "y = 3 (Dress)\n"
          ],
          "name": "stdout"
        },
        {
          "output_type": "execute_result",
          "data": {
            "text/plain": [
              "<matplotlib.image.AxesImage at 0x7f9c65e62470>"
            ]
          },
          "metadata": {
            "tags": []
          },
          "execution_count": 5
        },
        {
          "output_type": "display_data",
          "data": {
            "image/png": "[encoded data removed]",
            "text/plain": [
              "<Figure size 432x288 with 1 Axes>"
            ]
          },
          "metadata": {
            "tags": [],
            "needs_background": "light"
          }
        }
      ]
    },
    {
      "cell_type": "markdown",
      "metadata": {
        "id": "4i5lBpNYQgwe",
        "colab_type": "text"
      },
      "source": [
        ""
      ]
    },
    {
      "cell_type": "code",
      "metadata": {
        "id": "tTwe0gsFUHxs",
        "colab_type": "code",
        "colab": {}
      },
      "source": [
        "X=tf.placeholder(dtype=tf.float32, shape=[None, 784])\n",
        "Y=tf.placeholder(dtype=tf.float32, shape=[None, 10])\n",
        "\n",
        "X_image = tf.reshape(X, [-1,28,28,1])"
      ],
      "execution_count": 0,
      "outputs": []
    },
    {
      "cell_type": "code",
      "metadata": {
        "id": "JEXcE8wLO3e8",
        "colab_type": "code",
        "colab": {}
      },
      "source": [
        "W1=tf.Variable(tf.random_normal([3,3,1,32], stddev=0.01))\n",
        "relu_1=tf.nn.relu(tf.nn.conv2d(X_image, W1,strides=[1,1,1,1],padding='SAME'))\n",
        "max_pool_1=tf.nn.max_pool(relu_1, ksize=[1,2,2,1], strides=[1,2,2,1], padding='SAME')\n",
        "\n",
        "W2=tf.Variable(tf.random_normal([3,3,32,64], stddev=0.01))\n",
        "relu_2=tf.nn.relu(tf.nn.conv2d(max_pool_1, W2 ,strides=[1,1,1,1],padding='SAME'))\n",
        "max_pool_2=tf.nn.max_pool(relu_2, ksize=[1,2,2,1], strides=[1,2,2,1], padding='SAME')\n",
        "\n",
        "W3=tf.Variable(tf.random_normal([3,3,64,128], stddev=0.01))\n",
        "relu_3=tf.nn.relu(tf.nn.conv2d(max_pool_2, W3, strides=[1,1,1,1],padding='SAME'))\n",
        "max_pool_3=tf.nn.max_pool(relu_3, ksize=[1,2,2,1], strides=[1,2,2,1], padding='SAME')\n",
        "\n",
        "W4=tf.Variable(tf.random_normal([128*4*4,625]))\n",
        "max_pool_3=tf.reshape(max_pool_3, [-1, W4.get_shape().as_list()[0]])\n",
        "relu=tf.nn.relu(tf.matmul(max_pool_3, W4))\n",
        "\n",
        "W0=tf.Variable(tf.random_normal([625,10]))\n",
        "S=tf.matmul(relu, W0)"
      ],
      "execution_count": 0,
      "outputs": []
    },
    {
      "cell_type": "code",
      "metadata": {
        "id": "_zR9jaLabUQf",
        "colab_type": "code",
        "colab": {}
      },
      "source": [
        "hypothesis=S\n",
        "loss=tf.reduce_mean(tf.nn.softmax_cross_entropy_with_logits_v2(logits=hypothesis, labels=Y))\n",
        "\n",
        "corrects=tf.equal(tf.argmax(hypothesis,axis=1), tf.argmax(Y,axis=1))\n",
        "accuracy=tf.reduce_mean(tf.cast(corrects, tf.float32))"
      ],
      "execution_count": 0,
      "outputs": []
    },
    {
      "cell_type": "code",
      "metadata": {
        "id": "PgdPoTP-bJZZ",
        "colab_type": "code",
        "outputId": "5b0a47fd-aca8-47c7-dce7-7ab8162c5af9",
        "colab": {
          "base_uri": "https://localhost:8080/",
          "height": 1000
        }
      },
      "source": [
        "LEARNING_RATE = 0.001\n",
        "EPOCHS = 50\n",
        "BATCH_SIZE = 100\n",
        "\n",
        "optimizer=tf.train.GradientDescentOptimizer(LEARNING_RATE).minimize(loss)\n",
        "\n",
        "with tf.Session() as sess:\n",
        "  sess.run(tf.global_variables_initializer())\n",
        "\n",
        "  for epoch in range(EPOCHS):\n",
        "    for _ in range(int(mnist.train.num_examples / BATCH_SIZE)):\n",
        "      X_batch, Y_batch = mnist.train.next_batch(BATCH_SIZE)\n",
        "      sess.run(optimizer, feed_dict={X: X_batch, Y: Y_batch})\n",
        "\n",
        "    if (epoch+1) % 1 == 0:\n",
        "      acc_val=sess.run(accuracy,\n",
        "                       feed_dict={X: mnist.test.images, Y:mnist.test.labels})\n",
        "      print(\"epoch: {:04d}, accuracy: {:.2f}\".format(epoch+1, acc_val))\n",
        "\n",
        "  print(\"Learning finished.\")\n",
        "\n",
        "  pred_val=sess.run(hypothesis, feed_dict={X:mnist.test.images, Y:mnist.test.labels})\n",
        "  print(classification_report(mnist.test.labels.argmax(axis=1),pred_val.argmax(axis=1), target_names=label_names))"
      ],
      "execution_count": 0,
      "outputs": [
        {
          "output_type": "stream",
          "text": [
            "epoch: 0001, accuracy: 0.74\n",
            "epoch: 0002, accuracy: 0.83\n",
            "epoch: 0003, accuracy: 0.84\n",
            "epoch: 0004, accuracy: 0.86\n",
            "epoch: 0005, accuracy: 0.87\n",
            "epoch: 0006, accuracy: 0.88\n",
            "epoch: 0007, accuracy: 0.88\n",
            "epoch: 0008, accuracy: 0.88\n",
            "epoch: 0009, accuracy: 0.89\n",
            "epoch: 0010, accuracy: 0.88\n",
            "epoch: 0011, accuracy: 0.89\n",
            "epoch: 0012, accuracy: 0.89\n",
            "epoch: 0013, accuracy: 0.89\n",
            "epoch: 0014, accuracy: 0.89\n",
            "epoch: 0015, accuracy: 0.89\n",
            "epoch: 0016, accuracy: 0.89\n",
            "epoch: 0017, accuracy: 0.89\n",
            "epoch: 0018, accuracy: 0.89\n",
            "epoch: 0019, accuracy: 0.90\n",
            "epoch: 0020, accuracy: 0.89\n",
            "epoch: 0021, accuracy: 0.90\n",
            "epoch: 0022, accuracy: 0.90\n",
            "epoch: 0023, accuracy: 0.90\n",
            "epoch: 0024, accuracy: 0.90\n",
            "epoch: 0025, accuracy: 0.89\n",
            "epoch: 0026, accuracy: 0.90\n",
            "epoch: 0027, accuracy: 0.90\n",
            "epoch: 0028, accuracy: 0.90\n",
            "epoch: 0029, accuracy: 0.90\n",
            "epoch: 0030, accuracy: 0.90\n",
            "epoch: 0031, accuracy: 0.91\n",
            "epoch: 0032, accuracy: 0.90\n",
            "epoch: 0033, accuracy: 0.90\n",
            "epoch: 0034, accuracy: 0.89\n",
            "epoch: 0035, accuracy: 0.90\n",
            "epoch: 0036, accuracy: 0.91\n",
            "epoch: 0037, accuracy: 0.90\n",
            "epoch: 0038, accuracy: 0.91\n",
            "epoch: 0039, accuracy: 0.91\n",
            "epoch: 0040, accuracy: 0.90\n",
            "epoch: 0041, accuracy: 0.91\n",
            "epoch: 0042, accuracy: 0.90\n",
            "epoch: 0043, accuracy: 0.88\n",
            "epoch: 0044, accuracy: 0.91\n",
            "epoch: 0045, accuracy: 0.91\n",
            "epoch: 0046, accuracy: 0.91\n",
            "epoch: 0047, accuracy: 0.90\n",
            "epoch: 0048, accuracy: 0.90\n",
            "epoch: 0049, accuracy: 0.90\n",
            "epoch: 0050, accuracy: 0.90\n",
            "Learning finished.\n",
            "              precision    recall  f1-score   support\n",
            "\n",
            " T-shirt/top       0.90      0.77      0.83      1000\n",
            "     Trouser       0.99      0.98      0.99      1000\n",
            "    Pullover       0.92      0.79      0.85      1000\n",
            "       Dress       0.91      0.90      0.91      1000\n",
            "        Coat       0.82      0.89      0.85      1000\n",
            "      Sandal       0.99      0.96      0.98      1000\n",
            "       Shirt       0.69      0.82      0.75      1000\n",
            "     Sneaker       0.93      0.98      0.96      1000\n",
            "         Bag       0.97      0.98      0.98      1000\n",
            "  Ankle boot       0.98      0.95      0.97      1000\n",
            "\n",
            "    accuracy                           0.90     10000\n",
            "   macro avg       0.91      0.90      0.90     10000\n",
            "weighted avg       0.91      0.90      0.90     10000\n",
            "\n"
          ],
          "name": "stdout"
        }
      ]
    }
  ]
}