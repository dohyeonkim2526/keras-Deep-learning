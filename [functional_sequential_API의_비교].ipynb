{
  "nbformat": 4,
  "nbformat_minor": 0,
  "metadata": {
    "colab": {
      "name": "[functional/sequential API의 비교].ipynb",
      "provenance": [],
      "collapsed_sections": []
    },
    "kernelspec": {
      "name": "python3",
      "display_name": "Python 3"
    }
  },
  "cells": [
    {
      "cell_type": "code",
      "metadata": {
        "id": "QZZICQC-wB6q",
        "colab_type": "code",
        "colab": {
          "base_uri": "https://localhost:8080/",
          "height": 52
        },
        "outputId": "03fc1f99-9f38-43d3-b9a7-5029da97ed29"
      },
      "source": [
        "!pip install -q pydot\n",
        "!pip install graphviz(apt-get install graphviz)"
      ],
      "execution_count": null,
      "outputs": [
        {
          "output_type": "stream",
          "text": [
            "/bin/bash: -c: line 0: syntax error near unexpected token `('\n",
            "/bin/bash: -c: line 0: `pip install graphviz(apt-get install graphviz)'\n"
          ],
          "name": "stdout"
        }
      ]
    },
    {
      "cell_type": "markdown",
      "metadata": {
        "id": "YsXwm_itxG6A",
        "colab_type": "text"
      },
      "source": [
        "# [**Sequentail** **API**]"
      ]
    },
    {
      "cell_type": "code",
      "metadata": {
        "id": "8r2H5oG9w9Kp",
        "colab_type": "code",
        "colab": {
          "base_uri": "https://localhost:8080/",
          "height": 35
        },
        "outputId": "32551e42-fd4e-4c8c-887c-782ad2f3d569"
      },
      "source": [
        "from keras import layers\n",
        "from keras import models\n",
        "\n",
        "model=models.Sequential()\n",
        "model.add(layers.Dense(64, activation='relu', input_shape=(784,)))\n",
        "model.add(layers.Dense(64))\n",
        "model.add(layers.Dense(10, activation='softmax'))"
      ],
      "execution_count": null,
      "outputs": [
        {
          "output_type": "stream",
          "text": [
            "Using TensorFlow backend.\n"
          ],
          "name": "stderr"
        }
      ]
    },
    {
      "cell_type": "markdown",
      "metadata": {
        "id": "_jMtkvLP3KCc",
        "colab_type": "text"
      },
      "source": [
        "\n",
        "\n",
        "*   위와 같은 sequential API 방식은 직관적이고 편리하지만 단순히 층을 쌓는 것만으로는 구현할 수 없는 복잡한 인공 신경망을 구현할 수 없다.\n",
        "\n"
      ]
    },
    {
      "cell_type": "code",
      "metadata": {
        "id": "7fLyvqrT0KHA",
        "colab_type": "code",
        "colab": {
          "base_uri": "https://localhost:8080/",
          "height": 260
        },
        "outputId": "2d937072-3fdb-4f20-d9eb-c3d0a3944251"
      },
      "source": [
        "model.summary()"
      ],
      "execution_count": null,
      "outputs": [
        {
          "output_type": "stream",
          "text": [
            "Model: \"sequential_1\"\n",
            "_________________________________________________________________\n",
            "Layer (type)                 Output Shape              Param #   \n",
            "=================================================================\n",
            "dense_1 (Dense)              (None, 64)                50240     \n",
            "_________________________________________________________________\n",
            "dense_2 (Dense)              (None, 64)                4160      \n",
            "_________________________________________________________________\n",
            "dense_3 (Dense)              (None, 10)                650       \n",
            "=================================================================\n",
            "Total params: 55,050\n",
            "Trainable params: 55,050\n",
            "Non-trainable params: 0\n",
            "_________________________________________________________________\n"
          ],
          "name": "stdout"
        }
      ]
    },
    {
      "cell_type": "code",
      "metadata": {
        "id": "HNi3UUcv0WqY",
        "colab_type": "code",
        "colab": {
          "base_uri": "https://localhost:8080/",
          "height": 369
        },
        "outputId": "d4563e9b-77a5-42c6-fa8f-13d7209606d3"
      },
      "source": [
        "from tensorflow import keras\n",
        "\n",
        "keras.utils.plot_model(model, 'my_first_model.png')"
      ],
      "execution_count": null,
      "outputs": [
        {
          "output_type": "execute_result",
          "data": {
            "image/png": "[encoded data removed]",
            "text/plain": [
              "<IPython.core.display.Image object>"
            ]
          },
          "metadata": {
            "tags": []
          },
          "execution_count": 5
        }
      ]
    },
    {
      "cell_type": "code",
      "metadata": {
        "id": "jZMNfRMr2YfZ",
        "colab_type": "code",
        "colab": {
          "base_uri": "https://localhost:8080/",
          "height": 422
        },
        "outputId": "552048f4-5770-45c4-ab7f-c1ba6640fa96"
      },
      "source": [
        "keras.utils.plot_model(model, 'my_first_model_with_shape_info.png', show_shapes=True)"
      ],
      "execution_count": null,
      "outputs": [
        {
          "output_type": "execute_result",
          "data": {
            "image/png": "[encoded data removed]",
            "text/plain": [
              "<IPython.core.display.Image object>"
            ]
          },
          "metadata": {
            "tags": []
          },
          "execution_count": 7
        }
      ]
    },
    {
      "cell_type": "markdown",
      "metadata": {
        "id": "RSKVsbAn3pn3",
        "colab_type": "text"
      },
      "source": [
        "# [**Funtional API**]\n",
        "\n",
        "\n",
        "\n",
        "*  functional API는 각 층을 일종의 함수(function)로서 정의한다.\n",
        "*  이때 각 함수를 조합하기 위한 연산자들을 제공하는데, 이를 이용하여 신경망을 설계한다.\n"
      ]
    },
    {
      "cell_type": "markdown",
      "metadata": {
        "id": "WjQvfFqj6ZFE",
        "colab_type": "text"
      },
      "source": [
        "## [Functional API를 이용하여 fully-connected neural network 만들어보기]"
      ]
    },
    {
      "cell_type": "code",
      "metadata": {
        "id": "8KGgSjL_65Xd",
        "colab_type": "code",
        "colab": {}
      },
      "source": [
        "from tensorflow.keras.layers import Input\n",
        "\n",
        "inputs=Input(shape=(10,))  #10개의 입력을 받는 입력층"
      ],
      "execution_count": null,
      "outputs": []
    },
    {
      "cell_type": "code",
      "metadata": {
        "id": "un6ckq297A1i",
        "colab_type": "code",
        "colab": {}
      },
      "source": [
        "from tensorflow.keras.layers import Dense\n",
        "from tensorflow.keras.models import Model\n",
        "\n",
        "hidden1=Dense(64, activation='relu')(inputs)    #은닉층 추가(hidden1 layer)\n",
        "hidden2=Dense(64, activation='relu')(hidden1)   #은닉층 추가(hidden2 layer)\n",
        "output=Dense(1, activation='sigmoid')(hidden2)  #출력층 추가\n",
        "\n",
        "model=Model(inputs=inputs, outputs=output)  #입력 텐서와 출력 텐서를 정의하여 하나의 모델을 구성한다."
      ],
      "execution_count": null,
      "outputs": []
    },
    {
      "cell_type": "markdown",
      "metadata": {
        "id": "rF-EPAKU8X6j",
        "colab_type": "text"
      },
      "source": [
        "\n",
        "\n",
        "*   Input( ) 함수에 입력의 크기를 정의한다.\n",
        "*   이전 층을 다음 층 함수의 입력으로 사용하고, 변수에 할당한다.\n",
        "*   Model( ) 함수에 입려과 출력을 정의한다.\n",
        "*   model로 저장함으로써 sequentail API와 동일하게 compile, fit 등을 사용할 수 있다.\n",
        "\n"
      ]
    },
    {
      "cell_type": "code",
      "metadata": {
        "id": "CH0jxTX73gWZ",
        "colab_type": "code",
        "colab": {}
      },
      "source": [
        "model.compile(optimizer='rmsprop',\n",
        "              loss='categorical_crossentropy',\n",
        "              metrics=['acc'])"
      ],
      "execution_count": null,
      "outputs": []
    },
    {
      "cell_type": "markdown",
      "metadata": {
        "id": "lnAl_P8H9VYT",
        "colab_type": "text"
      },
      "source": [
        "# [Functional API를 이용하여 다중 입력과 다중 출력을 가지는 모델 만들어보기]\n",
        "\n",
        "*   functioanl API의 가장 큰 장점은 다중 입력과 다중 출력을 가지는 모델을 만들 수 있다는 점이다.\n",
        "\n"
      ]
    },
    {
      "cell_type": "code",
      "metadata": {
        "id": "Ig_DJIA09gad",
        "colab_type": "code",
        "colab": {}
      },
      "source": [
        "from tensorflow.keras.layers import Input, Dense, concatenate\n",
        "from tensorflow.keras.models import Model\n",
        "\n",
        "#두 개의 입력층을 정의한다.\n",
        "input1=Input(shape=(64,))\n",
        "input2=Input(shape=(128,))"
      ],
      "execution_count": null,
      "outputs": []
    },
    {
      "cell_type": "code",
      "metadata": {
        "id": "v2PHDKjv-H_U",
        "colab_type": "code",
        "colab": {}
      },
      "source": [
        "#input1에 대한 neural network 정의\n",
        "\n",
        "x=Dense(16, activation='relu')(input1)\n",
        "x=Dense(8, activation='relu')(x)\n",
        "x=Model(inputs=input1, outputs=x)"
      ],
      "execution_count": null,
      "outputs": []
    },
    {
      "cell_type": "code",
      "metadata": {
        "id": "TiAwkjBy-co_",
        "colab_type": "code",
        "colab": {}
      },
      "source": [
        "#input2에 대한 neural network 정의\n",
        "\n",
        "y=Dense(64, activation='relu')(input2)\n",
        "y=Dense(32, activation='relu')(y)\n",
        "y=Dense(8, activation='relu')(y)\n",
        "y=Model(inputs=input2, outputs=y)"
      ],
      "execution_count": null,
      "outputs": []
    },
    {
      "cell_type": "code",
      "metadata": {
        "id": "4lPlif-7-u4g",
        "colab_type": "code",
        "colab": {}
      },
      "source": [
        "result=concatenate([x.output, y.output])"
      ],
      "execution_count": null,
      "outputs": []
    },
    {
      "cell_type": "markdown",
      "metadata": {
        "id": "xh8B0_cb-3FZ",
        "colab_type": "text"
      },
      "source": [
        "\n",
        "\n",
        "*   concatenate를 이용하여 두 개의 neural networks(인공 신경망)의 출력을 연결한다.\n",
        "\n"
      ]
    },
    {
      "cell_type": "code",
      "metadata": {
        "id": "ac-gvEZn--8-",
        "colab_type": "code",
        "colab": {}
      },
      "source": [
        "z=Dense(2, activation='relu')(result)\n",
        "z=Dense(1, activation='linear')(z)\n",
        "\n",
        "model=Model(inputs=[x.input, y.input],outputs=z)"
      ],
      "execution_count": null,
      "outputs": []
    },
    {
      "cell_type": "markdown",
      "metadata": {
        "id": "wFxMnLKM_CXB",
        "colab_type": "text"
      },
      "source": [
        "\n",
        "\n",
        "*   concatenate로 연결한 두 개의 출력을 다시 입력으로 받는 Dense layer을 추가한다.\n",
        "*   최종적으로 이 모델은 두 개의 입력층으로부터 분기되어 진행된 후에 하나의 출력을 예측하는 모델이 된다.\n",
        "\n"
      ]
    }
  ]
}