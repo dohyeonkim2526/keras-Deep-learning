{
  "nbformat": 4,
  "nbformat_minor": 0,
  "metadata": {
    "colab": {
      "name": "[3.5]Reuters을 통한 다중분류 예제.ipynb",
      "provenance": [],
      "collapsed_sections": []
    },
    "kernelspec": {
      "name": "python3",
      "display_name": "Python 3"
    }
  },
  "cells": [
    {
      "cell_type": "markdown",
      "metadata": {
        "id": "uc9wcrGfajE9",
        "colab_type": "text"
      },
      "source": [
        "## [ 자료 구조 확인 ]"
      ]
    },
    {
      "cell_type": "code",
      "metadata": {
        "id": "tUexj5IkVdXj",
        "colab_type": "code",
        "colab": {}
      },
      "source": [
        "from keras.datasets import reuters\n",
        "\n",
        "(train_data, train_labels), (test_data, test_labels)=reuters.load_data(num_words=10000)"
      ],
      "execution_count": 20,
      "outputs": []
    },
    {
      "cell_type": "code",
      "metadata": {
        "id": "CSadW1cfaRUg",
        "colab_type": "code",
        "colab": {
          "base_uri": "https://localhost:8080/",
          "height": 52
        },
        "outputId": "486e3c11-fb3a-48ff-b0f8-dd1194b3c3d9"
      },
      "source": [
        "print(train_data.shape)\n",
        "print(test_data.shape)"
      ],
      "execution_count": 2,
      "outputs": [
        {
          "output_type": "stream",
          "text": [
            "(8982,)\n",
            "(2246,)\n"
          ],
          "name": "stdout"
        }
      ]
    },
    {
      "cell_type": "code",
      "metadata": {
        "id": "yZOfF-fmaeiN",
        "colab_type": "code",
        "colab": {
          "base_uri": "https://localhost:8080/",
          "height": 178
        },
        "outputId": "79e5aeb5-7433-446d-ce62-9ac74ae4e764"
      },
      "source": [
        "train_data"
      ],
      "execution_count": 3,
      "outputs": [
        {
          "output_type": "execute_result",
          "data": {
            "text/plain": [
              "array([list([1, 2, 2, 8, 43, 10, 447, 5, 25, 207, 270, 5, 3095, 111, 16, 369, 186, 90, 67, 7, 89, 5, 19, 102, 6, 19, 124, 15, 90, 67, 84, 22, 482, 26, 7, 48, 4, 49, 8, 864, 39, 209, 154, 6, 151, 6, 83, 11, 15, 22, 155, 11, 15, 7, 48, 9, 4579, 1005, 504, 6, 258, 6, 272, 11, 15, 22, 134, 44, 11, 15, 16, 8, 197, 1245, 90, 67, 52, 29, 209, 30, 32, 132, 6, 109, 15, 17, 12]),\n",
              "       list([1, 3267, 699, 3434, 2295, 56, 2, 7511, 9, 56, 3906, 1073, 81, 5, 1198, 57, 366, 737, 132, 20, 4093, 7, 2, 49, 2295, 2, 1037, 3267, 699, 3434, 8, 7, 10, 241, 16, 855, 129, 231, 783, 5, 4, 587, 2295, 2, 2, 775, 7, 48, 34, 191, 44, 35, 1795, 505, 17, 12]),\n",
              "       list([1, 53, 12, 284, 15, 14, 272, 26, 53, 959, 32, 818, 15, 14, 272, 26, 39, 684, 70, 11, 14, 12, 3886, 18, 180, 183, 187, 70, 11, 14, 102, 32, 11, 29, 53, 44, 704, 15, 14, 19, 758, 15, 53, 959, 47, 1013, 15, 14, 19, 132, 15, 39, 965, 32, 11, 14, 147, 72, 11, 180, 183, 187, 44, 11, 14, 102, 19, 11, 123, 186, 90, 67, 960, 4, 78, 13, 68, 467, 511, 110, 59, 89, 90, 67, 1390, 55, 2678, 92, 617, 80, 1274, 46, 905, 220, 13, 4, 346, 48, 235, 629, 5, 211, 5, 1118, 7, 2, 81, 5, 187, 11, 15, 9, 1709, 201, 5, 47, 3615, 18, 478, 4514, 5, 1118, 7, 232, 2, 71, 5, 160, 63, 11, 9, 2, 81, 5, 102, 59, 11, 17, 12]),\n",
              "       ...,\n",
              "       list([1, 141, 3890, 387, 81, 8, 16, 1629, 10, 340, 1241, 850, 31, 56, 3890, 691, 9, 1241, 71, 9, 5985, 2, 2, 699, 2, 2, 2, 699, 244, 5945, 4, 49, 8, 4, 656, 850, 33, 2993, 9, 2139, 340, 3371, 1493, 9, 2, 22, 2, 1094, 687, 83, 35, 15, 257, 6, 57, 9190, 7, 4, 5956, 654, 5, 2, 6191, 1371, 4, 49, 8, 16, 369, 646, 6, 1076, 7, 124, 407, 17, 12]),\n",
              "       list([1, 53, 46, 957, 26, 14, 74, 132, 26, 39, 46, 258, 3614, 18, 14, 74, 134, 5131, 18, 88, 2321, 72, 11, 14, 1842, 32, 11, 123, 383, 89, 39, 46, 235, 10, 864, 728, 5, 258, 44, 11, 15, 22, 753, 9, 42, 92, 131, 728, 5, 69, 312, 11, 15, 22, 222, 2, 3237, 383, 48, 39, 74, 235, 10, 864, 276, 5, 61, 32, 11, 15, 21, 4, 211, 5, 126, 1072, 42, 92, 131, 46, 19, 352, 11, 15, 22, 710, 220, 9, 42, 92, 131, 276, 5, 59, 61, 11, 15, 22, 10, 455, 7, 1172, 137, 336, 1325, 6, 1532, 142, 971, 6463, 43, 359, 5, 4, 326, 753, 364, 17, 12]),\n",
              "       list([1, 227, 2406, 91, 2, 125, 2855, 21, 4, 3976, 76, 7, 4, 757, 481, 3976, 790, 5259, 5654, 9, 111, 149, 8, 7, 10, 76, 223, 51, 4, 417, 8, 1047, 91, 6917, 1688, 340, 7, 194, 9411, 6, 1894, 21, 127, 2151, 2394, 1456, 6, 3034, 4, 329, 433, 7, 65, 87, 1127, 10, 8219, 1475, 290, 9, 21, 567, 16, 1926, 24, 4, 76, 209, 30, 4033, 6655, 5654, 8, 4, 60, 8, 4, 966, 308, 40, 2575, 129, 2, 295, 277, 1071, 9, 24, 286, 2114, 234, 222, 9, 4, 906, 3994, 8519, 114, 5758, 1752, 7, 4, 113, 17, 12])],\n",
              "      dtype=object)"
            ]
          },
          "metadata": {
            "tags": []
          },
          "execution_count": 3
        }
      ]
    },
    {
      "cell_type": "code",
      "metadata": {
        "id": "lk_zIzdNahiX",
        "colab_type": "code",
        "colab": {
          "base_uri": "https://localhost:8080/",
          "height": 34
        },
        "outputId": "67c0257d-5640-4876-f1f2-c972e40b9c8e"
      },
      "source": [
        "train_labels"
      ],
      "execution_count": 5,
      "outputs": [
        {
          "output_type": "execute_result",
          "data": {
            "text/plain": [
              "array([ 3,  4,  3, ..., 25,  3, 25])"
            ]
          },
          "metadata": {
            "tags": []
          },
          "execution_count": 5
        }
      ]
    },
    {
      "cell_type": "markdown",
      "metadata": {
        "id": "ly0xrJz5aukV",
        "colab_type": "text"
      },
      "source": [
        "\n",
        "\n",
        "*   train_data(test_data) : 단어 인덱스들로 이루어진 여러개의 리스트로 구성되어 있고, 각 리스트의 길이가 모두 다른 것을 알 수 있다.\n",
        "\n",
        "- train_labels(test_labels) : (0~45)사이의 정수로 이루어진 리스트로 이루어져 있다.\n",
        "\n",
        "＊label의 (0~45)사이의 정수 : 해당 뉴스가 분류된 토픽의 인덱스\n",
        "\n",
        "\n",
        "\n"
      ]
    },
    {
      "cell_type": "markdown",
      "metadata": {
        "id": "rPnBFfCobb11",
        "colab_type": "text"
      },
      "source": [
        "## [ 데이터 준비 ]"
      ]
    },
    {
      "cell_type": "code",
      "metadata": {
        "id": "P8WVrbNcbYCX",
        "colab_type": "code",
        "colab": {}
      },
      "source": [
        "import numpy as np\n",
        "\n",
        "def vectorize_sequences(sequences, dimension=10000):\n",
        "  results=np.zeros((len(sequences), dimension))\n",
        "  for i, sequence in enumerate(sequences):          #enumerate: 리스트의 인덱스와 값을 나열해준다.(i:인덱스, sequence:값)\n",
        "    results[i,sequence]=1.\n",
        "  return results\n",
        "\n",
        "x_train=vectorize_sequences(train_data)\n",
        "x_test=vectorize_sequences(test_data)"
      ],
      "execution_count": 39,
      "outputs": []
    },
    {
      "cell_type": "code",
      "metadata": {
        "id": "Lmfq26nUcCwV",
        "colab_type": "code",
        "colab": {
          "base_uri": "https://localhost:8080/",
          "height": 141
        },
        "outputId": "65efbe42-4e27-46f5-b052-1589a3609bf1"
      },
      "source": [
        "x_train"
      ],
      "execution_count": 7,
      "outputs": [
        {
          "output_type": "execute_result",
          "data": {
            "text/plain": [
              "array([[0., 1., 1., ..., 0., 0., 0.],\n",
              "       [0., 1., 1., ..., 0., 0., 0.],\n",
              "       [0., 1., 1., ..., 0., 0., 0.],\n",
              "       ...,\n",
              "       [0., 1., 1., ..., 0., 0., 0.],\n",
              "       [0., 1., 1., ..., 0., 0., 0.],\n",
              "       [0., 1., 1., ..., 0., 0., 0.]])"
            ]
          },
          "metadata": {
            "tags": []
          },
          "execution_count": 7
        }
      ]
    },
    {
      "cell_type": "code",
      "metadata": {
        "id": "AZe2QuPUltts",
        "colab_type": "code",
        "colab": {}
      },
      "source": [
        "from keras.utils.np_utils import to_categorical\n",
        "\n",
        "one_hot_train_labels=to_categorical(train_labels)\n",
        "one_hot_test_labels=to_categorical(test_labels)"
      ],
      "execution_count": 40,
      "outputs": []
    },
    {
      "cell_type": "code",
      "metadata": {
        "id": "9VvVzF95KTMj",
        "colab_type": "code",
        "colab": {
          "base_uri": "https://localhost:8080/",
          "height": 70
        },
        "outputId": "85b4be2b-ed17-4e18-85ac-6d4289094f74"
      },
      "source": [
        "one_hot_train_labels[0]"
      ],
      "execution_count": 63,
      "outputs": [
        {
          "output_type": "execute_result",
          "data": {
            "text/plain": [
              "array([0., 0., 0., 1., 0., 0., 0., 0., 0., 0., 0., 0., 0., 0., 0., 0., 0.,\n",
              "       0., 0., 0., 0., 0., 0., 0., 0., 0., 0., 0., 0., 0., 0., 0., 0., 0.,\n",
              "       0., 0., 0., 0., 0., 0., 0., 0., 0., 0., 0., 0.], dtype=float32)"
            ]
          },
          "metadata": {
            "tags": []
          },
          "execution_count": 63
        }
      ]
    },
    {
      "cell_type": "markdown",
      "metadata": {
        "id": "02ECIByblEkG",
        "colab_type": "text"
      },
      "source": [
        "\n",
        "\n",
        "*   원-핫 인코딩(def to_one_hot): 각 레이블의 인덱스 자리는 1이고 나머지는 모두 0인 벡터로 만들어준다.\n",
        "\n"
      ]
    },
    {
      "cell_type": "markdown",
      "metadata": {
        "id": "fJ-cZb-9mzMj",
        "colab_type": "text"
      },
      "source": [
        "## [ 모델 생성 ]\n",
        "\n",
        "\n",
        "\n",
        "*   (이전의 layer)\n",
        "\n",
        "    layers.Dense(16, activation='relu', input_shape=(10000,)))\n",
        "\n",
        "\n",
        "\n",
        "\n",
        "*   각 뉴스들은 46개의 토픽(클래스)로 분류되어야 하는데, 16차원 공간은 제약이 발생할 수 있다.\n",
        "\n",
        "  → 이전의 layer와 달리 64차원 공간을 이용하여 모델을 생성할 것이다.\n",
        "\n",
        "\n",
        "\n"
      ]
    },
    {
      "cell_type": "code",
      "metadata": {
        "id": "Shj3IEDInwiV",
        "colab_type": "code",
        "colab": {}
      },
      "source": [
        "from keras import models\n",
        "from keras import layers\n",
        "\n",
        "model=models.Sequential()\n",
        "model.add(layers.Dense(64, activation='relu', input_shape=(10000,)))\n",
        "model.add(layers.Dense(64, activation='relu'))\n",
        "model.add(layers.Dense(46, activation='softmax'))"
      ],
      "execution_count": 41,
      "outputs": []
    },
    {
      "cell_type": "markdown",
      "metadata": {
        "id": "dokW5qdUoFl7",
        "colab_type": "text"
      },
      "source": [
        "\n",
        "\n",
        "*   마지막 layer : 46개의 클래스로 분류해야 하므로, 각 입력 샘플에 대해서 46 차원의 벡터를 출력한다.\n",
        "*   sofrmax : 각 입력 샘플마다 46개의 출력 클래스에 대한 확률 분포를 출력하고, 모두 더하면 1이 된다.\n",
        "\n"
      ]
    },
    {
      "cell_type": "code",
      "metadata": {
        "id": "qCt7e5e5od5K",
        "colab_type": "code",
        "colab": {}
      },
      "source": [
        "model.compile(optimizer='rmsprop',\n",
        "              loss='categorical_crossentropy',\n",
        "              metrics=['acc'])"
      ],
      "execution_count": 42,
      "outputs": []
    },
    {
      "cell_type": "markdown",
      "metadata": {
        "id": "imXyiDV7onZS",
        "colab_type": "text"
      },
      "source": [
        "\n",
        "\n",
        "*   categorical_crossentropy : 두 확률 분포 사이의 거리를 측정한다.\n",
        "\n",
        "→ 네트워크가 출력한 확률 분포와 실제 레이블의 분포 사이의 거리를 최소화하면, 실제 레이블에 가장 가까운 출력을 내도록 훈련된다.\n"
      ]
    },
    {
      "cell_type": "markdown",
      "metadata": {
        "id": "oa2irFhDpK86",
        "colab_type": "text"
      },
      "source": [
        "## [ 훈련 검증 ]"
      ]
    },
    {
      "cell_type": "code",
      "metadata": {
        "id": "nuaOnZ1E4KTv",
        "colab_type": "code",
        "colab": {}
      },
      "source": [
        "x_val=x_train[:1000]\n",
        "partial_x_train=x_train[1000:]\n",
        "\n",
        "y_val=one_hot_train_labels[:1000]\n",
        "partial_y_train=one_hot_train_labels[1000:]"
      ],
      "execution_count": 69,
      "outputs": []
    },
    {
      "cell_type": "code",
      "metadata": {
        "id": "FtOIZpdj4lwJ",
        "colab_type": "code",
        "colab": {
          "base_uri": "https://localhost:8080/",
          "height": 745
        },
        "outputId": "f78ba50a-23ca-41fd-b71f-7164a9e705f1"
      },
      "source": [
        "history=model.fit(partial_x_train, partial_y_train,\n",
        "                  epochs=20,\n",
        "                  batch_size=512,\n",
        "                  validation_data=(x_val,y_val))"
      ],
      "execution_count": 26,
      "outputs": [
        {
          "output_type": "stream",
          "text": [
            "Train on 7982 samples, validate on 1000 samples\n",
            "Epoch 1/20\n",
            "7982/7982 [==============================] - 1s 181us/step - loss: 2.4916 - acc: 0.5392 - val_loss: 1.6633 - val_acc: 0.6360\n",
            "Epoch 2/20\n",
            "7982/7982 [==============================] - 1s 130us/step - loss: 1.3899 - acc: 0.7012 - val_loss: 1.2946 - val_acc: 0.6940\n",
            "Epoch 3/20\n",
            "7982/7982 [==============================] - 1s 128us/step - loss: 1.0574 - acc: 0.7749 - val_loss: 1.1237 - val_acc: 0.7590\n",
            "Epoch 4/20\n",
            "7982/7982 [==============================] - 1s 130us/step - loss: 0.8325 - acc: 0.8230 - val_loss: 1.0165 - val_acc: 0.7900\n",
            "Epoch 5/20\n",
            "7982/7982 [==============================] - 1s 129us/step - loss: 0.6605 - acc: 0.8593 - val_loss: 0.9826 - val_acc: 0.7780\n",
            "Epoch 6/20\n",
            "7982/7982 [==============================] - 1s 129us/step - loss: 0.5239 - acc: 0.8925 - val_loss: 0.9093 - val_acc: 0.8150\n",
            "Epoch 7/20\n",
            "7982/7982 [==============================] - 1s 129us/step - loss: 0.4183 - acc: 0.9134 - val_loss: 0.8993 - val_acc: 0.8110\n",
            "Epoch 8/20\n",
            "7982/7982 [==============================] - 1s 128us/step - loss: 0.3417 - acc: 0.9255 - val_loss: 0.8774 - val_acc: 0.8180\n",
            "Epoch 9/20\n",
            "7982/7982 [==============================] - 1s 128us/step - loss: 0.2810 - acc: 0.9371 - val_loss: 0.9056 - val_acc: 0.8110\n",
            "Epoch 10/20\n",
            "7982/7982 [==============================] - 1s 127us/step - loss: 0.2336 - acc: 0.9446 - val_loss: 0.9060 - val_acc: 0.8140\n",
            "Epoch 11/20\n",
            "7982/7982 [==============================] - 1s 132us/step - loss: 0.2100 - acc: 0.9485 - val_loss: 0.9149 - val_acc: 0.8110\n",
            "Epoch 12/20\n",
            "7982/7982 [==============================] - 1s 127us/step - loss: 0.1762 - acc: 0.9513 - val_loss: 0.9306 - val_acc: 0.8100\n",
            "Epoch 13/20\n",
            "7982/7982 [==============================] - 1s 127us/step - loss: 0.1604 - acc: 0.9520 - val_loss: 0.9557 - val_acc: 0.8070\n",
            "Epoch 14/20\n",
            "7982/7982 [==============================] - 1s 127us/step - loss: 0.1475 - acc: 0.9523 - val_loss: 0.9795 - val_acc: 0.8080\n",
            "Epoch 15/20\n",
            "7982/7982 [==============================] - 1s 127us/step - loss: 0.1368 - acc: 0.9562 - val_loss: 0.9822 - val_acc: 0.8070\n",
            "Epoch 16/20\n",
            "7982/7982 [==============================] - 1s 128us/step - loss: 0.1305 - acc: 0.9563 - val_loss: 0.9987 - val_acc: 0.8050\n",
            "Epoch 17/20\n",
            "7982/7982 [==============================] - 1s 129us/step - loss: 0.1215 - acc: 0.9565 - val_loss: 1.0101 - val_acc: 0.8110\n",
            "Epoch 18/20\n",
            "7982/7982 [==============================] - 1s 129us/step - loss: 0.1192 - acc: 0.9567 - val_loss: 1.0360 - val_acc: 0.8050\n",
            "Epoch 19/20\n",
            "7982/7982 [==============================] - 1s 129us/step - loss: 0.1119 - acc: 0.9577 - val_loss: 1.0601 - val_acc: 0.8050\n",
            "Epoch 20/20\n",
            "7982/7982 [==============================] - 1s 133us/step - loss: 0.1150 - acc: 0.9575 - val_loss: 1.0704 - val_acc: 0.8020\n"
          ],
          "name": "stdout"
        }
      ]
    },
    {
      "cell_type": "code",
      "metadata": {
        "id": "eoD21Cbp4yg-",
        "colab_type": "code",
        "colab": {
          "base_uri": "https://localhost:8080/",
          "height": 34
        },
        "outputId": "4b83a756-00cb-45c8-a8bd-f6802fd28a8f"
      },
      "source": [
        "history_dict=history.history\n",
        "history_dict.keys()"
      ],
      "execution_count": 27,
      "outputs": [
        {
          "output_type": "execute_result",
          "data": {
            "text/plain": [
              "dict_keys(['val_loss', 'val_acc', 'loss', 'acc'])"
            ]
          },
          "metadata": {
            "tags": []
          },
          "execution_count": 27
        }
      ]
    },
    {
      "cell_type": "code",
      "metadata": {
        "id": "KjzcApm64-RW",
        "colab_type": "code",
        "colab": {
          "base_uri": "https://localhost:8080/",
          "height": 294
        },
        "outputId": "590ec8ae-377d-4110-99a6-f962826e691e"
      },
      "source": [
        "import matplotlib.pyplot as plt\n",
        "\n",
        "loss=history_dict['loss']\n",
        "val_loss=history_dict['val_loss']\n",
        "\n",
        "epochs=range(1,len(loss)+1)\n",
        "\n",
        "plt.plot(epochs, loss, 'bo', label='Training loss')\n",
        "plt.plot(epochs, val_loss, 'b', label='Validation loss')\n",
        "plt.title('Training and Validation loss')\n",
        "plt.xlabel('Epochs')\n",
        "plt.ylabel('Loss')\n",
        "plt.legend()\n",
        "\n",
        "plt.show()"
      ],
      "execution_count": 29,
      "outputs": [
        {
          "output_type": "display_data",
          "data": {
            "image/png": "[encoded data removed]",
            "text/plain": [
              "<Figure size 432x288 with 1 Axes>"
            ]
          },
          "metadata": {
            "tags": [],
            "needs_background": "light"
          }
        }
      ]
    },
    {
      "cell_type": "code",
      "metadata": {
        "id": "898-P4it5gMo",
        "colab_type": "code",
        "colab": {
          "base_uri": "https://localhost:8080/",
          "height": 294
        },
        "outputId": "6afcba03-efc4-4eb7-9de2-ebb231c5bb12"
      },
      "source": [
        "plt.clf()\n",
        "\n",
        "acc=history_dict['acc']\n",
        "val_acc=history_dict['val_acc']\n",
        "\n",
        "plt.plot(epochs, acc, 'bo', label='Training acc')\n",
        "plt.plot(epochs, val_acc, 'b', label='Validation acc')\n",
        "plt.title('Training and Validation accuracy')\n",
        "plt.xlabel('Epochs')\n",
        "plt.ylabel('Accuracy')\n",
        "plt.legend()\n",
        "\n",
        "plt.show()"
      ],
      "execution_count": 30,
      "outputs": [
        {
          "output_type": "display_data",
          "data": {
            "image/png": "[encoded data removed]",
            "text/plain": [
              "<Figure size 432x288 with 1 Axes>"
            ]
          },
          "metadata": {
            "tags": [],
            "needs_background": "light"
          }
        }
      ]
    },
    {
      "cell_type": "markdown",
      "metadata": {
        "id": "CWHeGw1e58NG",
        "colab_type": "text"
      },
      "source": [
        "### → 그래프 해석\n",
        "\n",
        "\n",
        "\n",
        "*   아홉번째 epoch 이후부터, validation loss는 다시 증가하고 accuracy는 감소하기 시작한다.\n",
        "*   즉, 아홉번째 epoch 이후부터 과대적합이 시작되는 것이다.\n",
        "- 따라서, 아홉 번까지만 epoch 반복을 통해 모델을 훈련하면 된다.\n"
      ]
    },
    {
      "cell_type": "code",
      "metadata": {
        "id": "Kpu4zyZ3681P",
        "colab_type": "code",
        "colab": {
          "base_uri": "https://localhost:8080/",
          "height": 372
        },
        "outputId": "cdbf6451-f0f0-4e55-a550-ee7e2eef980d"
      },
      "source": [
        "model.fit(partial_x_train, partial_y_train,\n",
        "          epochs=9,\n",
        "          batch_size=512,\n",
        "          validation_data=(x_val,y_val))"
      ],
      "execution_count": 43,
      "outputs": [
        {
          "output_type": "stream",
          "text": [
            "Train on 7982 samples, validate on 1000 samples\n",
            "Epoch 1/9\n",
            "7982/7982 [==============================] - 1s 133us/step - loss: 2.6864 - acc: 0.5298 - val_loss: 1.7667 - val_acc: 0.6440\n",
            "Epoch 2/9\n",
            "7982/7982 [==============================] - 1s 125us/step - loss: 1.4394 - acc: 0.7108 - val_loss: 1.3224 - val_acc: 0.7190\n",
            "Epoch 3/9\n",
            "7982/7982 [==============================] - 1s 124us/step - loss: 1.0620 - acc: 0.7741 - val_loss: 1.1362 - val_acc: 0.7520\n",
            "Epoch 4/9\n",
            "7982/7982 [==============================] - 1s 124us/step - loss: 0.8307 - acc: 0.8256 - val_loss: 1.0329 - val_acc: 0.7860\n",
            "Epoch 5/9\n",
            "7982/7982 [==============================] - 1s 123us/step - loss: 0.6595 - acc: 0.8619 - val_loss: 0.9743 - val_acc: 0.7940\n",
            "Epoch 6/9\n",
            "7982/7982 [==============================] - 1s 122us/step - loss: 0.5302 - acc: 0.8874 - val_loss: 0.9621 - val_acc: 0.8020\n",
            "Epoch 7/9\n",
            "7982/7982 [==============================] - 1s 126us/step - loss: 0.4303 - acc: 0.9124 - val_loss: 0.9043 - val_acc: 0.8090\n",
            "Epoch 8/9\n",
            "7982/7982 [==============================] - 1s 128us/step - loss: 0.3467 - acc: 0.9267 - val_loss: 0.8929 - val_acc: 0.8200\n",
            "Epoch 9/9\n",
            "7982/7982 [==============================] - 1s 127us/step - loss: 0.2911 - acc: 0.9350 - val_loss: 0.9050 - val_acc: 0.8220\n"
          ],
          "name": "stdout"
        },
        {
          "output_type": "execute_result",
          "data": {
            "text/plain": [
              "<keras.callbacks.callbacks.History at 0x7f1863281fd0>"
            ]
          },
          "metadata": {
            "tags": []
          },
          "execution_count": 43
        }
      ]
    },
    {
      "cell_type": "code",
      "metadata": {
        "id": "P9l39BN47TvV",
        "colab_type": "code",
        "colab": {
          "base_uri": "https://localhost:8080/",
          "height": 70
        },
        "outputId": "58438090-c900-44cc-d4d4-3966909d6786"
      },
      "source": [
        "test_loss, test_acc=model.evaluate(x_test, one_hot_test_labels)\n",
        "print('test_loss: ', test_loss)\n",
        "print('test_acc: ', test_acc)"
      ],
      "execution_count": 44,
      "outputs": [
        {
          "output_type": "stream",
          "text": [
            "2246/2246 [==============================] - 0s 111us/step\n",
            "test_loss:  1.0045661801009547\n",
            "test_acc:  0.7902938723564148\n"
          ],
          "name": "stdout"
        }
      ]
    },
    {
      "cell_type": "code",
      "metadata": {
        "id": "l6G4JjL48v_9",
        "colab_type": "code",
        "colab": {}
      },
      "source": [
        "predictions=model.predict(x_test)"
      ],
      "execution_count": 46,
      "outputs": []
    },
    {
      "cell_type": "code",
      "metadata": {
        "id": "dgLIf51J8zsb",
        "colab_type": "code",
        "colab": {
          "base_uri": "https://localhost:8080/",
          "height": 70
        },
        "outputId": "a332af02-dd61-400e-bd2a-77050dbe1650"
      },
      "source": [
        "print(predictions[0].shape)\n",
        "print(np.sum(predictions[0]))\n",
        "print(np.argmax(predictions[0]))"
      ],
      "execution_count": 47,
      "outputs": [
        {
          "output_type": "stream",
          "text": [
            "(46,)\n",
            "1.0\n",
            "3\n"
          ],
          "name": "stdout"
        }
      ]
    },
    {
      "cell_type": "markdown",
      "metadata": {
        "id": "aqilCMOg9IaL",
        "colab_type": "text"
      },
      "source": [
        "\n",
        "( 해석 )\n",
        "*   model.predict( )는 46개의 토픽에 대한 확률 분포를 반환해준다.\n",
        "*   46개의 토픽에 대한 확률 분포의 총 합은 1이 된다.\n",
        "- 46개의 확률 중에서 가장 큰 값을 나타내는 토픽이 예측 클래스가 된다.(첫번째 뉴스는 3으로 분류됨)\n",
        "\n",
        "\n",
        "\n",
        "---\n",
        "\n",
        "\n"
      ]
    },
    {
      "cell_type": "markdown",
      "metadata": {
        "id": "SC7w_JpAOkL0",
        "colab_type": "text"
      },
      "source": [
        "![image.png](data:image/png;base64,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)"
      ]
    },
    {
      "cell_type": "markdown",
      "metadata": {
        "id": "PIJIKYeEOl27",
        "colab_type": "text"
      },
      "source": [
        "![image.png](data:image/png;base64,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)"
      ]
    }
  ]
}