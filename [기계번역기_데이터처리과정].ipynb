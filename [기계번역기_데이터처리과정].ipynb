{
  "nbformat": 4,
  "nbformat_minor": 0,
  "metadata": {
    "colab": {
      "name": "[기계번역기-데이터처리과정].ipynb",
      "provenance": [],
      "collapsed_sections": []
    },
    "kernelspec": {
      "name": "python3",
      "display_name": "Python 3"
    }
  },
  "cells": [
    {
      "cell_type": "markdown",
      "metadata": {
        "id": "QmS9A2yFZNWp",
        "colab_type": "text"
      },
      "source": [
        "# [ Parallel Corpus: 병렬 코퍼스 ]\n",
        "\n",
        "*   corpus(말뭉치 또는 코퍼스)란 언어의 표본을 추출한 집합으로, 보통 텍스트 집합을 의미한다.\n",
        "*   parallel corpus는 2개 이상의 언어가 병렬적으로 구성된 것을 의미한다.\n",
        "*   시퀀스-투-시퀀스 에서는 기본적으로 입력 시퀀스와 출력 시퀀스의 길이가 다를 수 있다고 가정한다.\n",
        "\n"
      ]
    },
    {
      "cell_type": "markdown",
      "metadata": {
        "id": "tK-OIyxhcGrX",
        "colab_type": "text"
      },
      "source": [
        "# [ 데이터 설명 ]\n",
        "(다운로드 링크) [http://www.manythings.org/anki](http://www.manythings.org/anki)\n",
        "\n",
        "*   **src** : (source의 줄임말) 입력 문장을 나타낸다.\n",
        "*   **tar** : (target의 줄임말) 번역하고자 하는 문장을 나타낸다.\n",
        "*   **fra.txt** : 아래와 같이 영어 문장과 프랑스어 문장 사이에 탭으로 구분되는 구조가 하나의 샘플 + 약 16만 개의 병렬 문장 샘플을 포함\n",
        "\n",
        "         Watch me.           Regardez-moi !\n",
        "\n",
        "\n",
        "\n",
        "\n",
        "------\n",
        "\n",
        "\n"
      ]
    },
    {
      "cell_type": "code",
      "metadata": {
        "id": "2aG5_0DxYw3U",
        "colab_type": "code",
        "colab": {}
      },
      "source": [
        "import pandas as pd\n",
        "import urllib3\n",
        "import zipfile\n",
        "import shutil\n",
        "import os\n",
        "from tensorflow.keras.preprocessing.sequence import pad_sequences\n",
        "from tensorflow.keras.utils import to_categorical"
      ],
      "execution_count": null,
      "outputs": []
    },
    {
      "cell_type": "code",
      "metadata": {
        "id": "2jj5PQWUbLzf",
        "colab_type": "code",
        "colab": {}
      },
      "source": [
        "http=urllib3.PoolManager()\n",
        "url='http://www.manythings.org/anki/fra-eng.zip'\n",
        "filename='fra-eng.zip'\n",
        "\n",
        "path=os.getcwd() \n",
        "zipfilename=os.path.join(path, filename)\n",
        "\n",
        "with http.request('GET', url, preload_content=False) as r, open(zipfilename, 'wb') as out_file:\n",
        "  shutil.copyfileobj(r, out_file)\n",
        "\n",
        "with zipfile.ZipFile(zipfilename, 'r') as zip_ref:\n",
        "  zip_ref.extractall(path)"
      ],
      "execution_count": null,
      "outputs": []
    },
    {
      "cell_type": "markdown",
      "metadata": {
        "id": "fPSKS1UMfpis",
        "colab_type": "text"
      },
      "source": [
        "#[ 모듈 & 코드 설명 ]\n",
        "\n",
        "*   **urllib** : URL 작업을 위한 여러 모듈을 모은 패키지이다.\n",
        "*  **urllib3** : powerful HTTP client for Python.\n",
        "*   **OS 모듈** : 환경 변수나 디렉터리, 파일과 같은 OS 자원을 제어 할 수 있게 해주는 모듈이다.\n",
        "*   **zipfile 모듈** : 개별 또는 여러 파일을 압축하거나 압축 해제 해주는 모듈이다.\n",
        "  *   os.getcwd( ) : 현재 자신의 디렉터리 위치를 반환해준다.\n",
        "  *   open( ) : 파일을 읽기 위해서는 'rb'로, 쓰기 위해서는 'wb'로 파일 모드를 지정한다.\n",
        "  *   zipfile.Zipfile( ) : 해당 파일을 읽기 권한('r')으로 오픈한다.\n",
        "  *   extractall( ) : 해당 경로에 파일을 압축 해제 해준다.\n",
        "\n",
        "\n"
      ]
    },
    {
      "cell_type": "markdown",
      "metadata": {
        "id": "fSvwTsRhi5ey",
        "colab_type": "text"
      },
      "source": [
        "# [ HTTP 프로토콜]\n",
        "\n",
        "\n",
        "*  프로토콜이란, 상호 간에 정의한 규칙을 의미하며 특정 기기 간에 데이터를 주고 받기 위해 정의 되었다.\n",
        "*   웹에서는 브라우저와 서버 간에 데이터를 주고 받기 위해서 HTTP 프로토콜을 사용한다.\n",
        "*   HTTP 프로토콜은 stateless 프로토콜이므로, 이전 데이터 요청과 다음 데이터 요청이 서로 관련이 없다. \n",
        "*   HTTP 프로토콜은 일반적으로 TCP/IP 통신 위에서 동작한다.\n",
        "*   HTTP 요청 메서드(Http Request Methods) : URL을 이용하여 요청한 서버의 데이터에 특정 동착을 수행하고 싶을 때 사용한다.\n",
        "\n",
        "         * GET : 존재하는 자원에 대한 요청\n",
        "         * POST : 새로운 자원을 생성\n",
        "         * PUT : 존재하는 자원에 대한 변경\n",
        "         * DELETE : 존재하는 자원에 대한 삭제\n",
        "\n",
        "\n",
        "\n",
        "\n",
        "------\n",
        "\n",
        "\n",
        "\n"
      ]
    },
    {
      "cell_type": "code",
      "metadata": {
        "id": "SDt9bCrpbzeI",
        "colab_type": "code",
        "colab": {
          "base_uri": "https://localhost:8080/",
          "height": 34
        },
        "outputId": "7a75050c-5e05-4997-f915-52815037e381"
      },
      "source": [
        "lines= pd.read_csv('fra.txt', names=['src', 'tar', 'etc'], sep='\\t')\n",
        "len(lines)"
      ],
      "execution_count": null,
      "outputs": [
        {
          "output_type": "execute_result",
          "data": {
            "text/plain": [
              "177210"
            ]
          },
          "metadata": {
            "tags": []
          },
          "execution_count": 34
        }
      ]
    },
    {
      "cell_type": "markdown",
      "metadata": {
        "id": "4kAkEukhdQJ9",
        "colab_type": "text"
      },
      "source": [
        "\n",
        "\n",
        "*   전체 샘플은 177210개 존재한다.\n",
        "\n"
      ]
    },
    {
      "cell_type": "code",
      "metadata": {
        "id": "yu4NBSdDdhbe",
        "colab_type": "code",
        "colab": {
          "base_uri": "https://localhost:8080/",
          "height": 406
        },
        "outputId": "f3702a05-0b24-4dea-81b0-13fd66134dc4"
      },
      "source": [
        "lines"
      ],
      "execution_count": null,
      "outputs": [
        {
          "output_type": "execute_result",
          "data": {
            "text/html": [
              "<div>\n",
              "<style scoped>\n",
              "    .dataframe tbody tr th:only-of-type {\n",
              "        vertical-align: middle;\n",
              "    }\n",
              "\n",
              "    .dataframe tbody tr th {\n",
              "        vertical-align: top;\n",
              "    }\n",
              "\n",
              "    .dataframe thead th {\n",
              "        text-align: right;\n",
              "    }\n",
              "</style>\n",
              "<table border=\"1\" class=\"dataframe\">\n",
              "  <thead>\n",
              "    <tr style=\"text-align: right;\">\n",
              "      <th></th>\n",
              "      <th>src</th>\n",
              "      <th>tar</th>\n",
              "      <th>etc</th>\n",
              "    </tr>\n",
              "  </thead>\n",
              "  <tbody>\n",
              "    <tr>\n",
              "      <th>0</th>\n",
              "      <td>Go.</td>\n",
              "      <td>Va !</td>\n",
              "      <td>CC-BY 2.0 (France) Attribution: tatoeba.org #2...</td>\n",
              "    </tr>\n",
              "    <tr>\n",
              "      <th>1</th>\n",
              "      <td>Hi.</td>\n",
              "      <td>Salut !</td>\n",
              "      <td>CC-BY 2.0 (France) Attribution: tatoeba.org #5...</td>\n",
              "    </tr>\n",
              "    <tr>\n",
              "      <th>2</th>\n",
              "      <td>Hi.</td>\n",
              "      <td>Salut.</td>\n",
              "      <td>CC-BY 2.0 (France) Attribution: tatoeba.org #5...</td>\n",
              "    </tr>\n",
              "    <tr>\n",
              "      <th>3</th>\n",
              "      <td>Run!</td>\n",
              "      <td>Cours !</td>\n",
              "      <td>CC-BY 2.0 (France) Attribution: tatoeba.org #9...</td>\n",
              "    </tr>\n",
              "    <tr>\n",
              "      <th>4</th>\n",
              "      <td>Run!</td>\n",
              "      <td>Courez !</td>\n",
              "      <td>CC-BY 2.0 (France) Attribution: tatoeba.org #9...</td>\n",
              "    </tr>\n",
              "    <tr>\n",
              "      <th>...</th>\n",
              "      <td>...</td>\n",
              "      <td>...</td>\n",
              "      <td>...</td>\n",
              "    </tr>\n",
              "    <tr>\n",
              "      <th>177205</th>\n",
              "      <td>Top-down economics never works, said Obama. \"T...</td>\n",
              "      <td>« L'économie en partant du haut vers le bas, ç...</td>\n",
              "      <td>CC-BY 2.0 (France) Attribution: tatoeba.org #1...</td>\n",
              "    </tr>\n",
              "    <tr>\n",
              "      <th>177206</th>\n",
              "      <td>A carbon footprint is the amount of carbon dio...</td>\n",
              "      <td>Une empreinte carbone est la somme de pollutio...</td>\n",
              "      <td>CC-BY 2.0 (France) Attribution: tatoeba.org #1...</td>\n",
              "    </tr>\n",
              "    <tr>\n",
              "      <th>177207</th>\n",
              "      <td>Death is something that we're often discourage...</td>\n",
              "      <td>La mort est une chose qu'on nous décourage sou...</td>\n",
              "      <td>CC-BY 2.0 (France) Attribution: tatoeba.org #1...</td>\n",
              "    </tr>\n",
              "    <tr>\n",
              "      <th>177208</th>\n",
              "      <td>Since there are usually multiple websites on a...</td>\n",
              "      <td>Puisqu'il y a de multiples sites web sur chaqu...</td>\n",
              "      <td>CC-BY 2.0 (France) Attribution: tatoeba.org #9...</td>\n",
              "    </tr>\n",
              "    <tr>\n",
              "      <th>177209</th>\n",
              "      <td>If someone who doesn't know your background sa...</td>\n",
              "      <td>Si quelqu'un qui ne connaît pas vos antécédent...</td>\n",
              "      <td>CC-BY 2.0 (France) Attribution: tatoeba.org #9...</td>\n",
              "    </tr>\n",
              "  </tbody>\n",
              "</table>\n",
              "<p>177210 rows × 3 columns</p>\n",
              "</div>"
            ],
            "text/plain": [
              "                                                      src  ...                                                etc\n",
              "0                                                     Go.  ...  CC-BY 2.0 (France) Attribution: tatoeba.org #2...\n",
              "1                                                     Hi.  ...  CC-BY 2.0 (France) Attribution: tatoeba.org #5...\n",
              "2                                                     Hi.  ...  CC-BY 2.0 (France) Attribution: tatoeba.org #5...\n",
              "3                                                    Run!  ...  CC-BY 2.0 (France) Attribution: tatoeba.org #9...\n",
              "4                                                    Run!  ...  CC-BY 2.0 (France) Attribution: tatoeba.org #9...\n",
              "...                                                   ...  ...                                                ...\n",
              "177205  Top-down economics never works, said Obama. \"T...  ...  CC-BY 2.0 (France) Attribution: tatoeba.org #1...\n",
              "177206  A carbon footprint is the amount of carbon dio...  ...  CC-BY 2.0 (France) Attribution: tatoeba.org #1...\n",
              "177207  Death is something that we're often discourage...  ...  CC-BY 2.0 (France) Attribution: tatoeba.org #1...\n",
              "177208  Since there are usually multiple websites on a...  ...  CC-BY 2.0 (France) Attribution: tatoeba.org #9...\n",
              "177209  If someone who doesn't know your background sa...  ...  CC-BY 2.0 (France) Attribution: tatoeba.org #9...\n",
              "\n",
              "[177210 rows x 3 columns]"
            ]
          },
          "metadata": {
            "tags": []
          },
          "execution_count": 35
        }
      ]
    },
    {
      "cell_type": "code",
      "metadata": {
        "id": "j2F936-BeKLM",
        "colab_type": "code",
        "colab": {
          "base_uri": "https://localhost:8080/",
          "height": 347
        },
        "outputId": "96576a5d-1524-4244-fb3d-ca590eae4bd0"
      },
      "source": [
        "lines=lines.loc[:, 'src':'tar']  # 전체 샘플에 대해서 'src' 레이블(label) 부터 'tar' 레이블(label) 까지 선택한다.\n",
        "lines=lines[0:60000]   # 6만 개의 샘플만 가지고 기계 번역기를 구축한다.\n",
        "lines.sample(10)       # 랜덤으로 선택된 10개의 샘플을 통해, 현재 데이터가 어떻게 구성되어 있는지 확인해본다."
      ],
      "execution_count": null,
      "outputs": [
        {
          "output_type": "execute_result",
          "data": {
            "text/html": [
              "<div>\n",
              "<style scoped>\n",
              "    .dataframe tbody tr th:only-of-type {\n",
              "        vertical-align: middle;\n",
              "    }\n",
              "\n",
              "    .dataframe tbody tr th {\n",
              "        vertical-align: top;\n",
              "    }\n",
              "\n",
              "    .dataframe thead th {\n",
              "        text-align: right;\n",
              "    }\n",
              "</style>\n",
              "<table border=\"1\" class=\"dataframe\">\n",
              "  <thead>\n",
              "    <tr style=\"text-align: right;\">\n",
              "      <th></th>\n",
              "      <th>src</th>\n",
              "      <th>tar</th>\n",
              "    </tr>\n",
              "  </thead>\n",
              "  <tbody>\n",
              "    <tr>\n",
              "      <th>3638</th>\n",
              "      <td>I handled it.</td>\n",
              "      <td>J'ai su y faire.</td>\n",
              "    </tr>\n",
              "    <tr>\n",
              "      <th>29450</th>\n",
              "      <td>I don't need it now.</td>\n",
              "      <td>Je n'en ai pas besoin à l'heure actuelle.</td>\n",
              "    </tr>\n",
              "    <tr>\n",
              "      <th>49192</th>\n",
              "      <td>I'm allowing you to go.</td>\n",
              "      <td>Je t'autorise à y aller.</td>\n",
              "    </tr>\n",
              "    <tr>\n",
              "      <th>49967</th>\n",
              "      <td>Look at the blackboard.</td>\n",
              "      <td>Regardez le tableau.</td>\n",
              "    </tr>\n",
              "    <tr>\n",
              "      <th>24655</th>\n",
              "      <td>I want to tell you.</td>\n",
              "      <td>Je veux vous le dire.</td>\n",
              "    </tr>\n",
              "    <tr>\n",
              "      <th>40028</th>\n",
              "      <td>Are you in a bad mood?</td>\n",
              "      <td>Es-tu de mauvaise humeur ?</td>\n",
              "    </tr>\n",
              "    <tr>\n",
              "      <th>42233</th>\n",
              "      <td>I ran away in a hurry.</td>\n",
              "      <td>Je suis parti en courant précipitamment.</td>\n",
              "    </tr>\n",
              "    <tr>\n",
              "      <th>40376</th>\n",
              "      <td>Do you have some milk?</td>\n",
              "      <td>Avez-vous un peu de lait ?</td>\n",
              "    </tr>\n",
              "    <tr>\n",
              "      <th>44251</th>\n",
              "      <td>That's the difference.</td>\n",
              "      <td>C'est la différence.</td>\n",
              "    </tr>\n",
              "    <tr>\n",
              "      <th>38439</th>\n",
              "      <td>Tom is heavily armed.</td>\n",
              "      <td>Tom est lourdement armé.</td>\n",
              "    </tr>\n",
              "  </tbody>\n",
              "</table>\n",
              "</div>"
            ],
            "text/plain": [
              "                           src                                        tar\n",
              "3638             I handled it.                           J'ai su y faire.\n",
              "29450     I don't need it now.  Je n'en ai pas besoin à l'heure actuelle.\n",
              "49192  I'm allowing you to go.                   Je t'autorise à y aller.\n",
              "49967  Look at the blackboard.                       Regardez le tableau.\n",
              "24655      I want to tell you.                      Je veux vous le dire.\n",
              "40028   Are you in a bad mood?                 Es-tu de mauvaise humeur ?\n",
              "42233   I ran away in a hurry.   Je suis parti en courant précipitamment.\n",
              "40376   Do you have some milk?                 Avez-vous un peu de lait ?\n",
              "44251   That's the difference.                       C'est la différence.\n",
              "38439    Tom is heavily armed.                   Tom est lourdement armé."
            ]
          },
          "metadata": {
            "tags": []
          },
          "execution_count": 36
        }
      ]
    },
    {
      "cell_type": "code",
      "metadata": {
        "id": "Siq9LfCcoHHV",
        "colab_type": "code",
        "colab": {
          "base_uri": "https://localhost:8080/",
          "height": 347
        },
        "outputId": "b362b2ff-6d7a-4633-f263-ac6523f3724c"
      },
      "source": [
        "lines.tar=lines.tar.apply(lambda x : '\\t'+x+'\\n')   #lambda 매개변수 : 반환값으로 사용할 식 ← lambda 를 이용해서 익명 함수를 호출하려면 변수(lines.tar)를 할당해줘야한다.\n",
        "lines.sample(10)"
      ],
      "execution_count": null,
      "outputs": [
        {
          "output_type": "execute_result",
          "data": {
            "text/html": [
              "<div>\n",
              "<style scoped>\n",
              "    .dataframe tbody tr th:only-of-type {\n",
              "        vertical-align: middle;\n",
              "    }\n",
              "\n",
              "    .dataframe tbody tr th {\n",
              "        vertical-align: top;\n",
              "    }\n",
              "\n",
              "    .dataframe thead th {\n",
              "        text-align: right;\n",
              "    }\n",
              "</style>\n",
              "<table border=\"1\" class=\"dataframe\">\n",
              "  <thead>\n",
              "    <tr style=\"text-align: right;\">\n",
              "      <th></th>\n",
              "      <th>src</th>\n",
              "      <th>tar</th>\n",
              "    </tr>\n",
              "  </thead>\n",
              "  <tbody>\n",
              "    <tr>\n",
              "      <th>47137</th>\n",
              "      <td>Everybody calls me Tom.</td>\n",
              "      <td>\\tTout le monde m'appelle Tom.\\n</td>\n",
              "    </tr>\n",
              "    <tr>\n",
              "      <th>27445</th>\n",
              "      <td>Who's your teacher?</td>\n",
              "      <td>\\tQui est votre professeur ?\\n</td>\n",
              "    </tr>\n",
              "    <tr>\n",
              "      <th>1669</th>\n",
              "      <td>Taste this.</td>\n",
              "      <td>\\tGoûtez ceci.\\n</td>\n",
              "    </tr>\n",
              "    <tr>\n",
              "      <th>31473</th>\n",
              "      <td>Stop being so naive.</td>\n",
              "      <td>\\tArrêtez d'être si naïve.\\n</td>\n",
              "    </tr>\n",
              "    <tr>\n",
              "      <th>44935</th>\n",
              "      <td>Tom is in the kitchen.</td>\n",
              "      <td>\\tTom est dans la cuisine.\\n</td>\n",
              "    </tr>\n",
              "    <tr>\n",
              "      <th>17156</th>\n",
              "      <td>Were you excited?</td>\n",
              "      <td>\\tÉtais-tu excité ?\\n</td>\n",
              "    </tr>\n",
              "    <tr>\n",
              "      <th>16763</th>\n",
              "      <td>Tom is in church.</td>\n",
              "      <td>\\tTom est à l'église.\\n</td>\n",
              "    </tr>\n",
              "    <tr>\n",
              "      <th>26630</th>\n",
              "      <td>Tom has green eyes.</td>\n",
              "      <td>\\tTom a les yeux verts.\\n</td>\n",
              "    </tr>\n",
              "    <tr>\n",
              "      <th>25833</th>\n",
              "      <td>She shook her head.</td>\n",
              "      <td>\\tElle a secoué la tête.\\n</td>\n",
              "    </tr>\n",
              "    <tr>\n",
              "      <th>53069</th>\n",
              "      <td>A horse passed my house.</td>\n",
              "      <td>\\tUn cheval passa devant chez moi.\\n</td>\n",
              "    </tr>\n",
              "  </tbody>\n",
              "</table>\n",
              "</div>"
            ],
            "text/plain": [
              "                            src                                   tar\n",
              "47137   Everybody calls me Tom.      \\tTout le monde m'appelle Tom.\\n\n",
              "27445       Who's your teacher?        \\tQui est votre professeur ?\\n\n",
              "1669                Taste this.                      \\tGoûtez ceci.\\n\n",
              "31473      Stop being so naive.          \\tArrêtez d'être si naïve.\\n\n",
              "44935    Tom is in the kitchen.          \\tTom est dans la cuisine.\\n\n",
              "17156         Were you excited?                 \\tÉtais-tu excité ?\\n\n",
              "16763         Tom is in church.               \\tTom est à l'église.\\n\n",
              "26630       Tom has green eyes.             \\tTom a les yeux verts.\\n\n",
              "25833       She shook her head.            \\tElle a secoué la tête.\\n\n",
              "53069  A horse passed my house.  \\tUn cheval passa devant chez moi.\\n"
            ]
          },
          "metadata": {
            "tags": []
          },
          "execution_count": 37
        }
      ]
    },
    {
      "cell_type": "markdown",
      "metadata": {
        "id": "YjJ2kyF0qhLr",
        "colab_type": "text"
      },
      "source": [
        "\n",
        "\n",
        "*   (tar: 번역하고자 하는 문장에) 기계 번역을 위해서 시작을 의미하는 심볼 ' \\t ' 와 종료를 의미하는 심볼 ' \\n ' 을 추가해주었다.\n",
        "\n"
      ]
    },
    {
      "cell_type": "code",
      "metadata": {
        "id": "NdGl21oar-FJ",
        "colab_type": "code",
        "colab": {}
      },
      "source": [
        "# 글자 집합 구축하기\n",
        "src_vocabulary=set()\n",
        "for line in lines.src:  # src열의 한 행씩 읽는다.\n",
        "  for char in line:     # 해당 문장(행)에서 1개의 글자(문자)씩 읽는다.\n",
        "    src_vocabulary.add(char)\n",
        "\n",
        "tar_vocabulary=set()\n",
        "for line in lines.tar:\n",
        "  for char in line:\n",
        "    tar_vocabulary.add(char)"
      ],
      "execution_count": null,
      "outputs": []
    },
    {
      "cell_type": "markdown",
      "metadata": {
        "id": "doPl_CojtBKJ",
        "colab_type": "text"
      },
      "source": [
        "\n",
        "\n",
        "# [ 집합자료형(set)의 특징 ]\n",
        " *  중복을 허용하지 않는다.\n",
        " *  순서가 존재하지 않는다.\n",
        " *  set 자료형은 순서가 없기 때문에 인덱싱으로 값을 얻을 수 없다.\n",
        " *  set 자료형을 인덱싱으로 접근하려면, 아래와 같이 리스트나 튜플로 변환해서 사용해야 한다.\n",
        "\n",
        "            set1 = set([1,2,3])\n",
        "            list1 = list(set1)\n",
        "            tuple = tuple(set1)\n",
        "\n",
        "\n"
      ]
    },
    {
      "cell_type": "code",
      "metadata": {
        "id": "76jzSfw3vSlw",
        "colab_type": "code",
        "colab": {
          "base_uri": "https://localhost:8080/",
          "height": 72
        },
        "outputId": "70c9d1e5-0e52-484d-c3b4-80bc6942a8cc"
      },
      "source": [
        "# 집합자료형을 리스트로 변환해서 정렬해준다.\n",
        "src_vocabulary = sorted(list(src_vocabulary))\n",
        "tar_vocabulary = sorted(list(tar_vocabulary))\n",
        "\n",
        "# 정렬해준 자료형에 각각 인덱스를 부여해준다.\n",
        "src_to_index = dict([(word, i+1) for i, word in enumerate(src_vocabulary)])\n",
        "tar_to_index = dict([(word, i+1) for i, word in enumerate(tar_vocabulary)])\n",
        "\n",
        "print(src_to_index)\n",
        "print(tar_to_index)"
      ],
      "execution_count": null,
      "outputs": [
        {
          "output_type": "stream",
          "text": [
            "{' ': 1, '!': 2, '\"': 3, '$': 4, '%': 5, '&': 6, \"'\": 7, ',': 8, '-': 9, '.': 10, '/': 11, '0': 12, '1': 13, '2': 14, '3': 15, '4': 16, '5': 17, '6': 18, '7': 19, '8': 20, '9': 21, ':': 22, '?': 23, 'A': 24, 'B': 25, 'C': 26, 'D': 27, 'E': 28, 'F': 29, 'G': 30, 'H': 31, 'I': 32, 'J': 33, 'K': 34, 'L': 35, 'M': 36, 'N': 37, 'O': 38, 'P': 39, 'Q': 40, 'R': 41, 'S': 42, 'T': 43, 'U': 44, 'V': 45, 'W': 46, 'X': 47, 'Y': 48, 'Z': 49, 'a': 50, 'b': 51, 'c': 52, 'd': 53, 'e': 54, 'f': 55, 'g': 56, 'h': 57, 'i': 58, 'j': 59, 'k': 60, 'l': 61, 'm': 62, 'n': 63, 'o': 64, 'p': 65, 'q': 66, 'r': 67, 's': 68, 't': 69, 'u': 70, 'v': 71, 'w': 72, 'x': 73, 'y': 74, 'z': 75, 'é': 76, '’': 77, '€': 78}\n",
            "{'\\t': 1, '\\n': 2, ' ': 3, '!': 4, '\"': 5, '%': 6, '&': 7, \"'\": 8, '(': 9, ')': 10, ',': 11, '-': 12, '.': 13, '0': 14, '1': 15, '2': 16, '3': 17, '4': 18, '5': 19, '6': 20, '7': 21, '8': 22, '9': 23, ':': 24, '?': 25, 'A': 26, 'B': 27, 'C': 28, 'D': 29, 'E': 30, 'F': 31, 'G': 32, 'H': 33, 'I': 34, 'J': 35, 'K': 36, 'L': 37, 'M': 38, 'N': 39, 'O': 40, 'P': 41, 'Q': 42, 'R': 43, 'S': 44, 'T': 45, 'U': 46, 'V': 47, 'W': 48, 'X': 49, 'Y': 50, 'Z': 51, 'a': 52, 'b': 53, 'c': 54, 'd': 55, 'e': 56, 'f': 57, 'g': 58, 'h': 59, 'i': 60, 'j': 61, 'k': 62, 'l': 63, 'm': 64, 'n': 65, 'o': 66, 'p': 67, 'q': 68, 'r': 69, 's': 70, 't': 71, 'u': 72, 'v': 73, 'w': 74, 'x': 75, 'y': 76, 'z': 77, '\\xa0': 78, '«': 79, '»': 80, 'À': 81, 'Ç': 82, 'É': 83, 'Ê': 84, 'Ô': 85, 'à': 86, 'â': 87, 'ç': 88, 'è': 89, 'é': 90, 'ê': 91, 'ë': 92, 'î': 93, 'ï': 94, 'ô': 95, 'ù': 96, 'û': 97, 'œ': 98, 'С': 99, '\\u2009': 100, '\\u200b': 101, '‘': 102, '’': 103, '\\u202f': 104}\n"
          ],
          "name": "stdout"
        }
      ]
    },
    {
      "cell_type": "markdown",
      "metadata": {
        "id": "KQWIhay3wT8I",
        "colab_type": "text"
      },
      "source": [
        "\n",
        "\n",
        "---\n",
        "# [ src(영어), tar(프랑스어) 각 문장의 글자(문자)에 대해서 정수 인코딩 ]\n"
      ]
    },
    {
      "cell_type": "code",
      "metadata": {
        "id": "EPW22NerwVQ8",
        "colab_type": "code",
        "colab": {}
      },
      "source": [
        "encoder_input=[]\n",
        "for line in lines.src:  # src열의 한 행씩 읽는다.\n",
        "    temp_X=[]\n",
        "    for w in line:      # 해당 문장(행)에서 1개의 글자(문자)씩 읽는다.\n",
        "      temp_X.append(src_to_index[w])   # 글자를 해당되는 정수로 변환한다.\n",
        "    encoder_input.append(temp_X)"
      ],
      "execution_count": null,
      "outputs": []
    },
    {
      "cell_type": "code",
      "metadata": {
        "id": "0IDqOOW5w8Pv",
        "colab_type": "code",
        "colab": {
          "base_uri": "https://localhost:8080/",
          "height": 141
        },
        "outputId": "bd38695f-6532-4b02-8846-5840cd883dba"
      },
      "source": [
        "print(encoder_input[:5])\n",
        "print(lines.src[:5])"
      ],
      "execution_count": null,
      "outputs": [
        {
          "output_type": "stream",
          "text": [
            "[[30, 64, 10], [31, 58, 10], [31, 58, 10], [41, 70, 63, 2], [41, 70, 63, 2]]\n",
            "0     Go.\n",
            "1     Hi.\n",
            "2     Hi.\n",
            "3    Run!\n",
            "4    Run!\n",
            "Name: src, dtype: object\n"
          ],
          "name": "stdout"
        }
      ]
    },
    {
      "cell_type": "markdown",
      "metadata": {
        "id": "TLbJ_IAexX-G",
        "colab_type": "text"
      },
      "source": [
        "\n",
        "\n",
        "*   영어 문장 샘플에 대해서 정수 인코딩이 되었음을 확인 할 수 있다.\n",
        "*   G (30) / o(64) / .(10)\n",
        "\n"
      ]
    },
    {
      "cell_type": "code",
      "metadata": {
        "id": "MlAr1tPZyQfM",
        "colab_type": "code",
        "colab": {}
      },
      "source": [
        "# 예측에 사용될 정수 인코딩\n",
        "\n",
        "decoder_input=[]\n",
        "for line in lines.tar:\n",
        "  temp_X=[]\n",
        "  for w in line:\n",
        "    temp_X.append(tar_to_index[w])\n",
        "  decoder_input.append(temp_X)"
      ],
      "execution_count": null,
      "outputs": []
    },
    {
      "cell_type": "code",
      "metadata": {
        "id": "OP1gTwb0ygw6",
        "colab_type": "code",
        "colab": {
          "base_uri": "https://localhost:8080/",
          "height": 141
        },
        "outputId": "1d7a3072-24b2-4276-8edb-dd1be28cb17b"
      },
      "source": [
        "print(decoder_input[:5])\n",
        "print(lines.tar[:5])"
      ],
      "execution_count": null,
      "outputs": [
        {
          "output_type": "stream",
          "text": [
            "[[1, 47, 52, 3, 4, 2], [1, 44, 52, 63, 72, 71, 3, 4, 2], [1, 44, 52, 63, 72, 71, 13, 2], [1, 28, 66, 72, 69, 70, 104, 4, 2], [1, 28, 66, 72, 69, 56, 77, 104, 4, 2]]\n",
            "0        \\tVa !\\n\n",
            "1     \\tSalut !\\n\n",
            "2      \\tSalut.\\n\n",
            "3     \\tCours !\\n\n",
            "4    \\tCourez !\\n\n",
            "Name: tar, dtype: object\n"
          ],
          "name": "stdout"
        }
      ]
    },
    {
      "cell_type": "code",
      "metadata": {
        "id": "z6AKKS4-ytyS",
        "colab_type": "code",
        "colab": {}
      },
      "source": [
        "# 실제 정수 인코딩(시작 심볼 '\\t'이 존재할 필요가 없으므로 제거해준다.)\n",
        "\n",
        "decoder_target=[]\n",
        "for line in lines.tar:\n",
        "  t=0\n",
        "  temp_X=[]\n",
        "  for w in line:\n",
        "    if t>0:\n",
        "      temp_X.append(tar_to_index[w])\n",
        "    t=t+1\n",
        "  decoder_target.append(temp_X)"
      ],
      "execution_count": null,
      "outputs": []
    },
    {
      "cell_type": "code",
      "metadata": {
        "id": "YPAcC24NzbS0",
        "colab_type": "code",
        "colab": {
          "base_uri": "https://localhost:8080/",
          "height": 34
        },
        "outputId": "2d1ca846-359e-440a-9770-a73a6e51fc02"
      },
      "source": [
        "print(decoder_target[:5])"
      ],
      "execution_count": null,
      "outputs": [
        {
          "output_type": "stream",
          "text": [
            "[[47, 52, 3, 4, 2], [44, 52, 63, 72, 71, 3, 4, 2], [44, 52, 63, 72, 71, 13, 2], [28, 66, 72, 69, 70, 104, 4, 2], [28, 66, 72, 69, 56, 77, 104, 4, 2]]\n"
          ],
          "name": "stdout"
        }
      ]
    },
    {
      "cell_type": "markdown",
      "metadata": {
        "id": "USltIgOH0NJy",
        "colab_type": "text"
      },
      "source": [
        "\n",
        "\n",
        "---\n",
        "# [ 패딩 작업과 원-핫 인코딩 변환 ]\n",
        "\n",
        "\n",
        "*   영어와 프랑스어의 쌍으로 구성되어 있지만 길이가 모두 다르므로, 패딩을 할 때에 길이를 전부 동일하게 맞춰줄 필요는 없다.\n",
        "*   영어 데이터는 영어 샘플들 끼리, 프랑스어는 프랑스어 샘플들끼리 길이를 맞추어서 패딩을 해준다.\n",
        "*   아래의 실행 결과에 따라 영어 데이터의 샘플은 전부 길이가 25 가 되도록, 프랑스어는 74 가 되도록 패딩한다.\n",
        "\n",
        "\n"
      ]
    },
    {
      "cell_type": "code",
      "metadata": {
        "id": "2z4jauSW0HkJ",
        "colab_type": "code",
        "colab": {
          "base_uri": "https://localhost:8080/",
          "height": 52
        },
        "outputId": "0b23fd4b-cdf2-4ac2-d7f0-5275d40db940"
      },
      "source": [
        "max_src_len = max([len(line) for line in lines.src])\n",
        "max_tar_len = max([len(line) for line in lines.tar])\n",
        "print(max_src_len)\n",
        "print(max_tar_len)"
      ],
      "execution_count": null,
      "outputs": [
        {
          "output_type": "stream",
          "text": [
            "25\n",
            "74\n"
          ],
          "name": "stdout"
        }
      ]
    },
    {
      "cell_type": "code",
      "metadata": {
        "id": "xSM0BEc_0yyq",
        "colab_type": "code",
        "colab": {}
      },
      "source": [
        "encoder_input = pad_sequences(encoder_input, maxlen=max_src_len, padding='post')\n",
        "decoder_input = pad_sequences(decoder_input, maxlen=max_tar_len, padding='post')\n",
        "decoder_target = pad_sequences(decoder_target, maxlen=max_tar_len, padding='post')"
      ],
      "execution_count": null,
      "outputs": []
    },
    {
      "cell_type": "code",
      "metadata": {
        "id": "RHIpLT-m03iI",
        "colab_type": "code",
        "colab": {}
      },
      "source": [
        "encoder_input = to_categorical(encoder_input)\n",
        "decoder_input = to_categorical(decoder_input)\n",
        "decoder_target = to_categorical(decoder_target)"
      ],
      "execution_count": null,
      "outputs": []
    }
  ]
}